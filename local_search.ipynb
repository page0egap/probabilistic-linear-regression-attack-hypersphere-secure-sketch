{
 "cells": [
  {
   "cell_type": "code",
   "execution_count": 1,
   "metadata": {},
   "outputs": [],
   "source": [
    "import utils\n",
    "from tqdm.notebook import tqdm\n",
    "import sample as sampler\n",
    "import numpy as np\n",
    "dimension = 512\n",
    "alpha = 16  # alpha error correcting parameter"
   ]
  },
  {
   "cell_type": "markdown",
   "metadata": {},
   "source": [
    "## Utils"
   ]
  },
  {
   "cell_type": "code",
   "execution_count": 2,
   "metadata": {},
   "outputs": [],
   "source": [
    "import numpy as np\n",
    "def subset_n_a_k(n, a, k):\n",
    "    result = 0\n",
    "    for i in range(k):\n",
    "        result += np.log2(n-i) - np.log2(n-a-i)\n",
    "    return result"
   ]
  },
  {
   "cell_type": "code",
   "execution_count": 3,
   "metadata": {},
   "outputs": [],
   "source": [
    "def generate_puzzle_local_search(new_bs, new_isometric_matrixes, k=160):\n",
    "    \"\"\"\n",
    "    Behave as linear equation sampler that output \"correct\" matrix.\n",
    "\n",
    "    generate matrix with row vectors from new_isometric_matrixes that orthognal to orignal template;\n",
    "    k indicates the number of row vectors to be selected from each isometric matrix, thus the total number of equations is k*len(new_isometric_matrixes)\n",
    "    \"\"\"\n",
    "    sub_matrixes = []\n",
    "    for b, isometric_matrix in zip(new_bs, new_isometric_matrixes):\n",
    "        indexb = np.where(np.abs(b) < 0.1)[0]\n",
    "        # get random subset of shape n of indexb\n",
    "        indexbb = np.random.choice(indexb, k, replace=False)\n",
    "        sub_matrixes.append(isometric_matrix[indexbb, :])\n",
    "\n",
    "    return np.concatenate(sub_matrixes, axis=0)\n",
    "\n",
    "def generate_puzzle_local_search_random(new_bs, new_isometric_matrixes, k = 160):\n",
    "    \"\"\"\n",
    "    Behave as linear equation sampler.\n",
    "\n",
    "    generate matrix with row vector from new_isometric_matrixes randomly,\n",
    "    k indicates the number of row vectors to be selected from each isometric matrix, thus the total number of equations is k*len(new_isometric_matrixes)\n",
    "    \"\"\"\n",
    "    sub_matrixes = []\n",
    "    for b, isometric_matrix in zip(new_bs, new_isometric_matrixes):\n",
    "        # get random subset of shape n of indexb\n",
    "        indexbb = np.random.choice(b.shape[0], k, replace=False)\n",
    "        sub_matrixes.append(isometric_matrix[indexbb, :])\n",
    "\n",
    "    return np.concatenate(sub_matrixes, axis=0)"
   ]
  },
  {
   "cell_type": "code",
   "execution_count": 7,
   "metadata": {},
   "outputs": [],
   "source": [
    "import time\n",
    "def local_search_each_runtime(dimension, alpha, sub_matrix, disable_flag=False, each_runtime=1000):\n",
    "    \"\"\"\n",
    "    Test local search run time of inner iteration. Return time = time of inner iteration * each_runtime(number of outer iteration).\n",
    "    \"\"\"\n",
    "    times = 0\n",
    "    # time start\n",
    "    start = time.time()\n",
    "    for _ in (pbar:=tqdm(range(each_runtime), disable=disable_flag, leave=True)):\n",
    "        theta = sampler.sample_codeword(dimension, alpha)\n",
    "        flag = False\n",
    "        # Since the inner iteration could early terminate, thus `800` is unreachable\n",
    "        for _ in range(800):\n",
    "            tmpb = sub_matrix @ theta\n",
    "            # get the norm of tmpb\n",
    "            normb = np.linalg.norm(tmpb)\n",
    "            # get the index of tmpb where are not zero and iterate on it\n",
    "            nonzero = np.where(np.abs(theta) > 0.1)[0]\n",
    "            thetab = None\n",
    "            tmp_sub_matrix = sub_matrix.copy()\n",
    "            # set columns in non_zero positions with 10 * np.ones\n",
    "            tmp_sub_matrix[:, nonzero] = 10 * np.ones((sub_matrix.shape[0], len(nonzero)))\n",
    "            for j1 in nonzero:\n",
    "                tmpbb = tmpb - theta[j1] * sub_matrix[:, j1]\n",
    "                # add\n",
    "                tmpbbb = tmp_sub_matrix + tmpbb[:, np.newaxis]\n",
    "                normbbb = np.linalg.norm(tmpbbb, axis=0)\n",
    "                # get min value and index of normbbb\n",
    "                min_index = np.argmin(normbbb)\n",
    "                min_value = normbbb[min_index]\n",
    "                if min_value < normb:\n",
    "                    thetab = theta.copy()\n",
    "                    thetab[j1] = 0\n",
    "                    thetab[min_index] = 1\n",
    "                    normb = min_value\n",
    "                # sub\n",
    "                tmpbbb =  tmpbb[:, np.newaxis] - tmp_sub_matrix\n",
    "                normbbb = np.linalg.norm(tmpbbb, axis=0)\n",
    "                # get min value and index of normbbb\n",
    "                min_index = np.argmin(normbbb)\n",
    "                min_value = normbbb[min_index]\n",
    "                if min_value < normb:\n",
    "                    thetab = theta.copy()\n",
    "                    thetab[j1] = 0\n",
    "                    thetab[min_index] = -1\n",
    "                    normb = min_value\n",
    "            # pbar update\n",
    "            pbar.set_postfix({\"norm\": normb})\n",
    "            if thetab is not None:\n",
    "                theta = thetab\n",
    "                continue\n",
    "            else:\n",
    "                flag = True\n",
    "                break\n",
    "        if flag:\n",
    "            times += 1\n",
    "        pbar.set_postfix({\"Reach ending times\": times})\n",
    "    end = time.time()\n",
    "    slap_time = end - start\n",
    "    return slap_time"
   ]
  },
  {
   "cell_type": "code",
   "execution_count": 5,
   "metadata": {},
   "outputs": [],
   "source": [
    "def local_search_one_time(dimension, alpha, sub_matrix, each_run_time = 800, disable_flag=False, **kwargs):\n",
    "    \"\"\"\n",
    "    User LSA to solve the puzzle generated by linear equation sampler, \n",
    "    output whether the solution is parallel to original codeword(vector a).\n",
    "    \"\"\"\n",
    "    # outer itration = 1, output whether the solution is parallel to original codeword(vector a)\n",
    "    a = kwargs.get(\"a\", None)\n",
    "    # threshold = kwargs.get(\"threshold\", 1e-1) / np.sqrt(dimension) * np.sqrt(k)\n",
    "    theta = sampler.sample_codeword(dimension, alpha)\n",
    "    thetab = None\n",
    "    normb = 16\n",
    "    for j in range(each_run_time):\n",
    "        tmpb = sub_matrix @ theta\n",
    "        # get the norm of tmpb\n",
    "        normb = np.linalg.norm(tmpb)\n",
    "        # get the index of tmpb where are not zero and iterate on it\n",
    "        nonzero = np.where(np.abs(theta) > 0.1)[0]\n",
    "        thetab = None\n",
    "        tmp_sub_matrix = sub_matrix.copy()\n",
    "        # set columns in non_zero positions with 10 * np.ones\n",
    "        tmp_sub_matrix[:, nonzero] = 10 * np.ones((sub_matrix.shape[0], len(nonzero)))\n",
    "        for j1 in nonzero:\n",
    "            tmpbb = tmpb - theta[j1] * sub_matrix[:, j1]\n",
    "            # add\n",
    "            tmpbbb = tmp_sub_matrix + tmpbb[:, np.newaxis]\n",
    "            normbbb = np.linalg.norm(tmpbbb, axis=0)\n",
    "            # get min value and index of normbbb\n",
    "            min_index = np.argmin(normbbb)\n",
    "            min_value = normbbb[min_index]\n",
    "            if min_value < normb:\n",
    "                thetab = theta.copy()\n",
    "                thetab[j1] = 0\n",
    "                thetab[min_index] = 1\n",
    "                normb = min_value\n",
    "            # sub\n",
    "            tmpbbb =  tmpbb[:, np.newaxis] - tmp_sub_matrix\n",
    "            normbbb = np.linalg.norm(tmpbbb, axis=0)\n",
    "            # get min value and index of normbbb\n",
    "            min_index = np.argmin(normbbb)\n",
    "            min_value = normbbb[min_index]\n",
    "            if min_value < normb:\n",
    "                thetab = theta.copy()\n",
    "                thetab[j1] = 0\n",
    "                thetab[min_index] = -1\n",
    "                normb = min_value\n",
    "        if thetab is not None:\n",
    "            theta = thetab\n",
    "            continue\n",
    "        else:\n",
    "            break\n",
    "    if np.allclose(theta - a, 0, 1e-1) or np.allclose(theta + a, 0, 1e-1):\n",
    "        return True\n",
    "    else:\n",
    "        return False"
   ]
  },
  {
   "cell_type": "markdown",
   "metadata": {},
   "source": [
    "## TEST"
   ]
  },
  {
   "cell_type": "markdown",
   "metadata": {},
   "source": [
    "### Test for getting 3 sketches"
   ]
  },
  {
   "cell_type": "markdown",
   "metadata": {},
   "source": [
    "average running time"
   ]
  },
  {
   "cell_type": "code",
   "execution_count": null,
   "metadata": {},
   "outputs": [],
   "source": [
    "# time testing\n",
    "whole_time = 0\n",
    "tmp_inner = 100\n",
    "tmp_outer = 10\n",
    "tmpk = 190\n",
    "error_rate = 0.5\n",
    "for _ in (pbar:= tqdm(range(tmp_outer), desc=\"Outer loop\")):\n",
    "    # need to control n to indicate the number of sketches(default = 3)\n",
    "    w, cs, isometric_matrixes, coserrors = sampler.generate_puzzle_n(dimension, alpha, error_rate=error_rate, n=3, disable_tqdm=True)\n",
    "    # generate matrix M'\n",
    "    new_isometric_matrixes = [isometric_matrixes[i] @ isometric_matrixes[0].T for i in range(1, len(isometric_matrixes))]\n",
    "    new_cs = [cs[i] for i in range(1, len(cs))]\n",
    "    # need to control k (set tmpk) to indicate the number of row vectors to be selected from each isometric matrix\n",
    "    whole_time += local_search_each_runtime(dimension, alpha, generate_puzzle_local_search_random(new_cs, new_isometric_matrixes, k=tmpk), disable_flag=False, each_runtime=tmp_inner)\n",
    "    pbar.set_postfix({\"Whole Time\": whole_time})\n",
    "print(\"Average time for each inner iteration:\", whole_time / (tmp_outer * tmp_inner))\n",
    "print(\"Whole: Time\", whole_time)"
   ]
  },
  {
   "cell_type": "markdown",
   "metadata": {},
   "source": [
    "average success rate"
   ]
  },
  {
   "cell_type": "code",
   "execution_count": null,
   "metadata": {},
   "outputs": [],
   "source": [
    "# error parameter and angle degree relation\n",
    "# for more information, see example.ipynb\n",
    "# 0.035 -> 2.8 degrees; 0.07-> 5.6 degrees; 0.108 -> 8.6 degrees; 0.13 -> 11 degrees;  \n",
    "# 0.18 -> 14 degrees; 0.25 -> 19 degrees; 0.35 -> 26 degrees; 0.4 -> 30 degrees; 0.5 -> 36 degrees; \n",
    "error_rate_iter_arrays = [\n",
    "    [0.0, [100, 110, 120, 130, 140, 160, 180, 200]],\n",
    "    [0.108, [120, 130, 140, 150, 160]],\n",
    "    [0.18, [130, 140, 150, 160]],\n",
    "    [0.25, [130, 140, 150, 160]],\n",
    "    [0.35, [160, 170, 180, 190]],\n",
    "    [0.4, [160, 170, 180, 190]],\n",
    "    [0.5, [180, 190, 200, 220, 240]],\n",
    "]\n",
    "\n",
    "iteration_number = 20000\n",
    "for error_rate_iter_array in error_rate_iter_arrays:\n",
    "    error_rate = error_rate_iter_array[0]\n",
    "    iter_array = error_rate_iter_array[1]\n",
    "    iter_array.reverse()\n",
    "    for tmpk in iter_array:        \n",
    "        success_num = 0\n",
    "        run_time = iteration_number\n",
    "        # for efficiency, we generate n = 4 * dimension + 1 sketches from the same original template with noise, and \n",
    "        # test at each time randomly selecting three sketches from this n sketches. \n",
    "        # take this three sketches as our puzzle\n",
    "        w, cs, isometric_matrixes, coserrors = sampler.generate_puzzle_n(dimension, alpha, error_rate=error_rate, dimension= 4 * dimension + 1, disable_tqdm=False)\n",
    "        for i in (pbar:=tqdm(range(iteration_number))):\n",
    "            # random select three templates from isometric_matrixes and get new_cs and new_isometric_matrixes\n",
    "            index = np.random.choice(len(cs), 3, replace=False)\n",
    "            new_cs = [cs[index[1]], cs[index[2]]]\n",
    "            new_isometric_matrixes = [isometric_matrixes[index[i+1]] @ isometric_matrixes[index[0]].T for i in range(len(new_cs))]\n",
    "            tmp_result = local_search_one_time(dimension, alpha, generate_puzzle_local_search(new_cs, new_isometric_matrixes, k=tmpk), iteration_number=iteration_number, disable_flag=True, a=cs[index[0]], threshold=error_rate * 1.3)\n",
    "            if tmp_result:\n",
    "                success_num += 1\n",
    "            pbar.set_postfix({\"Success Rate\": success_num/(i+1), \"Success Number\": success_num})\n",
    "            # break if getting enough success times(for efficiency)\n",
    "            if success_num > 100 and i > 1000:\n",
    "                run_time = i + 1\n",
    "                break\n",
    "        # store threshold_array in file with name \"threshold_array_k\" in directory \"data\"\n",
    "        np.save(f\"data_with_noise_3/threshold_array_{tmpk}_{error_rate}_success_num_run_time\", [success_num, run_time])"
   ]
  },
  {
   "cell_type": "markdown",
   "metadata": {},
   "source": [
    "### Estimate\n",
    "how many iteration times need to output original template, multiply inner iteration time of local search algorithm is the estimated time for running whole algorithm "
   ]
  },
  {
   "cell_type": "code",
   "execution_count": null,
   "metadata": {},
   "outputs": [],
   "source": [
    "import numpy as np\n",
    "import os\n",
    "import math\n",
    "\n",
    "# 0.035 -> 2.8 degrees; 0.07-> 5.6 degrees; 0.108 -> 8.6 degrees; 0.13 -> 11 degrees;  \n",
    "# 0.18 -> 14 degrees; 0.25 -> 19 degrees; 0.35 -> 26 degrees; 0.4 -> 30 degrees; 0.5 -> 36 degrees; \n",
    "error_rate = 0.25\n",
    "for i in [90, 100, 110, 120, 130, 140, 150, 160, 170, 180, 190, 200, 210, 220, 230, 240, 250, 260]:\n",
    "    threshold_array = []\n",
    "    if os.path.exists(\"data_with_noise_3_history/threshold_array_{}_{}_success_num_run_time.npy\".format(i, error_rate)):\n",
    "        results = np.load(\"data_with_noise_3_history/threshold_array_{}_{}_success_num_run_time.npy\".format(i, error_rate))\n",
    "        success_num = results[0]\n",
    "        run_time = results[1]\n",
    "        whole_run_num = run_time\n",
    "        if success_num == 0: continue\n",
    "        print(\"{}\".format(i), \"success rate:{:.6f}\".format(success_num / whole_run_num), \" success number:\", success_num, \" inverse of success rate: \", whole_run_num / success_num, \" Expected iteration number: \", math.ceil(whole_run_num / success_num * 2 ** (subset_n_a_k(512, 16, i) * 2)))\n",
    "        continue"
   ]
  },
  {
   "cell_type": "markdown",
   "metadata": {},
   "source": [
    "###  Test for getting (tmpk + 1) sketches"
   ]
  },
  {
   "cell_type": "markdown",
   "metadata": {},
   "source": [
    "run time"
   ]
  },
  {
   "cell_type": "code",
   "execution_count": null,
   "metadata": {},
   "outputs": [],
   "source": [
    "whole_time = 0\n",
    "tmp_inner = 100\n",
    "tmp_outer = 10\n",
    "tmpk = 260 * 2\n",
    "error_rate = 0.5\n",
    "for _ in (pbar:= tqdm(range(tmp_outer), desc=\"Outer loop\")):\n",
    "    w, cs, isometric_matrixes, coserrors = sampler.generate_puzzle_n(dimension, alpha, error_rate=error_rate, n=tmpk + 1, disable_tqdm=True)\n",
    "    new_isometric_matrixes = [isometric_matrixes[i] @ isometric_matrixes[0].T for i in range(1, len(isometric_matrixes))]\n",
    "    new_cs = [cs[i] for i in range(1, len(cs))]\n",
    "    puzzle = generate_puzzle_local_search_random(new_cs, new_isometric_matrixes, k=1)\n",
    "    whole_time += local_search_each_runtime(dimension, alpha, puzzle, disable_flag=True, each_runtime=tmp_inner)\n",
    "    pbar.set_postfix({\"Whole Time\": whole_time})\n",
    "print(\"Average inner running time: \", whole_time / (tmp_outer * tmp_inner))\n",
    "print(\"Whole Time: \", whole_time)"
   ]
  },
  {
   "cell_type": "markdown",
   "metadata": {},
   "source": [
    "average success rate"
   ]
  },
  {
   "cell_type": "code",
   "execution_count": null,
   "metadata": {},
   "outputs": [],
   "source": [
    "# 0.035 -> 2.8 degrees; 0.07-> 5.6 degrees; 0.108 -> 8.6 degrees; 0.13 -> 11 degrees;  \n",
    "# 0.18 -> 14 degrees; 0.25 -> 19 degrees; 0.35 -> 26 degrees; 0.4 -> 30 degrees; 0.5 -> 36 degrees; \n",
    "error_rate_iter_arrays = [\n",
    "    [0.0, [130, 140, 150, 160, 170, 180]],\n",
    "    [0.108, [150, 160, 170]],\n",
    "    [0.18, [150, 160, 170]],\n",
    "    [0.25, [150, 160, 170]],\n",
    "    [0.35, [180, 190, 200, 210, 220]],\n",
    "    [0.4, [180, 190, 200, 210, 220]],\n",
    "    [0.5, [250, 260, 270, 280, 290, 300]],\n",
    "]\n",
    "iteration_number = 20000\n",
    "for error_rate_iter_array in error_rate_iter_arrays:\n",
    "    error_rate = error_rate_iter_array[0]\n",
    "    iter_array = error_rate_iter_array[1]        # true tmpk = 2 * iter_array\n",
    "    iter_array.reverse()\n",
    "    for tmpk in iter_array:        \n",
    "        tmpk *= 2\n",
    "        success_num = 0\n",
    "        run_time = iteration_number\n",
    "        t_thrshold = 0\n",
    "        # for efficiency, we generate 4 * dimension + 1 sketches from the same original template with noise, take first sketch and\n",
    "        # test at each time randomly selecting tmpk sketches from these sketches, using these sketches as our puzzle\n",
    "        w, cs, isometric_matrixes, coserrors = sampler.generate_puzzle_n(dimension, alpha, error_rate=error_rate, n = 4 * dimension + 1, disable_tqdm=False)\n",
    "        new_isometric_matrixes = [isometric_matrixes[i] @ isometric_matrixes[0].T for i in range(1, len(isometric_matrixes))]\n",
    "        new_cs = [cs[i] for i in range(1, len(cs))]\n",
    "        a = cs[0]\n",
    "        for i in (pbar:=tqdm(range(iteration_number))):\n",
    "            index = np.random.choice(len(new_cs), tmpk, replace=False)\n",
    "            tmp_new_isometric_matrixes = [new_isometric_matrixes[index[i]] for i in range(0, tmpk)]\n",
    "            tmp_new_bs = [new_cs[index[i]] for i in range(0, tmpk)]\n",
    "            tmp_result = local_search_one_time(dimension, alpha, generate_puzzle_local_search(tmp_new_bs, tmp_new_isometric_matrixes, k=1), iteration_number=iteration_number, disable_flag=True, a=cs[0], threshold=error_rate * 1.3)\n",
    "            if tmp_result:\n",
    "                success_num += 1\n",
    "            pbar.set_postfix({\"Success Rate\": success_num/(i+1), \"Success Number\": success_num})\n",
    "            if success_num > 100 and i > 1000:\n",
    "                run_time = i\n",
    "                break\n",
    "        np.save(f\"data_with_noise_k/threshold_array_{tmpk}_{error_rate}_success_num_run_time\", [success_num, run_time])"
   ]
  },
  {
   "cell_type": "markdown",
   "metadata": {},
   "source": [
    "### Estimate\n",
    "how many iteration times need to output original template, multiply inner iteration time of local search algorithm is the estimated time for running whole algorithm "
   ]
  },
  {
   "cell_type": "code",
   "execution_count": null,
   "metadata": {},
   "outputs": [],
   "source": [
    "import numpy as np\n",
    "import os\n",
    "import math\n",
    "\n",
    "# 0.035 -> 2.8 degrees; 0.07-> 5.6 degrees; 0.108 -> 8.6 degrees; 0.13 -> 11 degrees;  \n",
    "# 0.18 -> 14 degrees; 0.25 -> 19 degrees; 0.35 -> 26 degrees; 0.4 -> 30 degrees; 0.5 -> 36 degrees; \n",
    "\n",
    "error_rate = 0.0\n",
    "for i in [90, 100, 110, 120, 130, 140, 150, 160, 170, 180, 190, 200, 210, 220, 230, 240, 250, 260, 270, 280, 290, 300]:\n",
    "    i = i * 2\n",
    "    if os.path.exists(\"data_with_noise_k/threshold_array_{}_{}_success_num_run_time.npy\".format(i, error_rate)):\n",
    "        results = np.load(\"data_with_noise_k/threshold_array_{}_{}_success_num_run_time.npy\".format(i, error_rate))\n",
    "        success_num = results[0]\n",
    "        run_time = results[1]\n",
    "        whole_run_num = run_time\n",
    "        if success_num == 0: continue\n",
    "        print(\"{}\".format(i), \"success rate:{:.6f}\".format(success_num / whole_run_num), \" success number:\", success_num, \" inverse of success rate: \", whole_run_num / success_num, \" Expected iteration number: \", math.ceil(whole_run_num / success_num * 2 ** (subset_n_a_k(512, 16, 1) * i)))\n",
    "        continue"
   ]
  }
 ],
 "metadata": {
  "kernelspec": {
   "display_name": "intel-attack-m",
   "language": "python",
   "name": "python3"
  },
  "language_info": {
   "codemirror_mode": {
    "name": "ipython",
    "version": 3
   },
   "file_extension": ".py",
   "mimetype": "text/x-python",
   "name": "python",
   "nbconvert_exporter": "python",
   "pygments_lexer": "ipython3",
   "version": "3.10.11"
  }
 },
 "nbformat": 4,
 "nbformat_minor": 2
}
