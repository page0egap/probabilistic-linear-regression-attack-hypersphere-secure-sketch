{
 "cells": [
  {
   "cell_type": "code",
   "execution_count": 1,
   "metadata": {},
   "outputs": [],
   "source": [
    "import utils\n",
    "from tqdm.notebook import tqdm\n",
    "import sample as sampler\n",
    "import numpy as np\n",
    "dimension = 512\n",
    "alpha = 16  # alpha error correcting parameter"
   ]
  },
  {
   "cell_type": "markdown",
   "metadata": {},
   "source": [
    "## Utils"
   ]
  },
  {
   "cell_type": "code",
   "execution_count": 2,
   "metadata": {},
   "outputs": [],
   "source": [
    "import numpy as np\n",
    "def subset_n_a_k(n, a, k):\n",
    "    result = 0\n",
    "    for i in range(k):\n",
    "        result += np.log2(n-i) - np.log2(n-a-i)\n",
    "    return result"
   ]
  },
  {
   "cell_type": "code",
   "execution_count": 3,
   "metadata": {},
   "outputs": [],
   "source": [
    "def generate_puzzle_local_search(new_bs, new_isometric_matrixes, k=160):\n",
    "    \"\"\"\n",
    "    Behave as linear equation sampler that output \"correct\" matrix.\n",
    "\n",
    "    generate matrix with row vectors from new_isometric_matrixes that orthognal to orignal template;\n",
    "    k indicates the number of row vectors to be selected from each isometric matrix, thus the total number of equations is k*len(new_isometric_matrixes)\n",
    "    \"\"\"\n",
    "    sub_matrixes = []\n",
    "    for b, isometric_matrix in zip(new_bs, new_isometric_matrixes):\n",
    "        indexb = np.where(np.abs(b) < 0.1)[0]\n",
    "        # get random subset of shape n of indexb\n",
    "        indexbb = np.random.choice(indexb, k, replace=False)\n",
    "        sub_matrixes.append(isometric_matrix[indexbb, :])\n",
    "\n",
    "    return np.concatenate(sub_matrixes, axis=0)\n",
    "\n",
    "def generate_puzzle_local_search_random(new_bs, new_isometric_matrixes, k = 160):\n",
    "    \"\"\"\n",
    "    Behave as linear equation sampler.\n",
    "\n",
    "    generate matrix with row vector from new_isometric_matrixes randomly,\n",
    "    k indicates the number of row vectors to be selected from each isometric matrix, thus the total number of equations is k*len(new_isometric_matrixes)\n",
    "    \"\"\"\n",
    "    sub_matrixes = []\n",
    "    for b, isometric_matrix in zip(new_bs, new_isometric_matrixes):\n",
    "        # get random subset of shape n of indexb\n",
    "        indexbb = np.random.choice(b.shape[0], k, replace=False)\n",
    "        sub_matrixes.append(isometric_matrix[indexbb, :])\n",
    "\n",
    "    return np.concatenate(sub_matrixes, axis=0)"
   ]
  },
  {
   "cell_type": "code",
   "execution_count": 7,
   "metadata": {},
   "outputs": [],
   "source": [
    "import time\n",
    "def local_search_each_runtime(dimension, alpha, sub_matrix, disable_flag=False, each_runtime=1000):\n",
    "    \"\"\"\n",
    "    Test local search run time of inner iteration. Return time = time of inner iteration * each_runtime(number of outer iteration).\n",
    "    \"\"\"\n",
    "    times = 0\n",
    "    # time start\n",
    "    start = time.time()\n",
    "    for _ in (pbar:=tqdm(range(each_runtime), disable=disable_flag, leave=True)):\n",
    "        theta = sampler.sample_codeword(dimension, alpha)\n",
    "        flag = False\n",
    "        # Since the inner iteration could early terminate, thus `800` is unreachable\n",
    "        for _ in range(800):\n",
    "            tmpb = sub_matrix @ theta\n",
    "            # get the norm of tmpb\n",
    "            normb = np.linalg.norm(tmpb)\n",
    "            # get the index of tmpb where are not zero and iterate on it\n",
    "            nonzero = np.where(np.abs(theta) > 0.1)[0]\n",
    "            thetab = None\n",
    "            tmp_sub_matrix = sub_matrix.copy()\n",
    "            # set columns in non_zero positions with 10 * np.ones\n",
    "            tmp_sub_matrix[:, nonzero] = 10 * np.ones((sub_matrix.shape[0], len(nonzero)))\n",
    "            for j1 in nonzero:\n",
    "                tmpbb = tmpb - theta[j1] * sub_matrix[:, j1]\n",
    "                # add\n",
    "                tmpbbb = tmp_sub_matrix + tmpbb[:, np.newaxis]\n",
    "                normbbb = np.linalg.norm(tmpbbb, axis=0)\n",
    "                # get min value and index of normbbb\n",
    "                min_index = np.argmin(normbbb)\n",
    "                min_value = normbbb[min_index]\n",
    "                if min_value < normb:\n",
    "                    thetab = theta.copy()\n",
    "                    thetab[j1] = 0\n",
    "                    thetab[min_index] = 1\n",
    "                    normb = min_value\n",
    "                # sub\n",
    "                tmpbbb =  tmpbb[:, np.newaxis] - tmp_sub_matrix\n",
    "                normbbb = np.linalg.norm(tmpbbb, axis=0)\n",
    "                # get min value and index of normbbb\n",
    "                min_index = np.argmin(normbbb)\n",
    "                min_value = normbbb[min_index]\n",
    "                if min_value < normb:\n",
    "                    thetab = theta.copy()\n",
    "                    thetab[j1] = 0\n",
    "                    thetab[min_index] = -1\n",
    "                    normb = min_value\n",
    "            # pbar update\n",
    "            pbar.set_postfix({\"norm\": normb})\n",
    "            if thetab is not None:\n",
    "                theta = thetab\n",
    "                continue\n",
    "            else:\n",
    "                flag = True\n",
    "                break\n",
    "        if flag:\n",
    "            times += 1\n",
    "        pbar.set_postfix({\"Reach ending times\": times})\n",
    "    end = time.time()\n",
    "    slap_time = end - start\n",
    "    return slap_time"
   ]
  },
  {
   "cell_type": "code",
   "execution_count": 5,
   "metadata": {},
   "outputs": [],
   "source": [
    "def local_search_one_time(dimension, alpha, sub_matrix, each_run_time = 800, disable_flag=False, **kwargs):\n",
    "    \"\"\"\n",
    "    User LSA to solve the puzzle generated by linear equation sampler, \n",
    "    output whether the solution is parallel to original codeword(vector a).\n",
    "    \"\"\"\n",
    "    # outer itration = 1, output whether the solution is parallel to original codeword(vector a)\n",
    "    a = kwargs.get(\"a\", None)\n",
    "    # threshold = kwargs.get(\"threshold\", 1e-1) / np.sqrt(dimension) * np.sqrt(k)\n",
    "    theta = sampler.sample_codeword(dimension, alpha)\n",
    "    thetab = None\n",
    "    normb = 16\n",
    "    for j in range(each_run_time):\n",
    "        tmpb = sub_matrix @ theta\n",
    "        # get the norm of tmpb\n",
    "        normb = np.linalg.norm(tmpb)\n",
    "        # get the index of tmpb where are not zero and iterate on it\n",
    "        nonzero = np.where(np.abs(theta) > 0.1)[0]\n",
    "        thetab = None\n",
    "        tmp_sub_matrix = sub_matrix.copy()\n",
    "        # set columns in non_zero positions with 10 * np.ones\n",
    "        tmp_sub_matrix[:, nonzero] = 10 * np.ones((sub_matrix.shape[0], len(nonzero)))\n",
    "        for j1 in nonzero:\n",
    "            tmpbb = tmpb - theta[j1] * sub_matrix[:, j1]\n",
    "            # add\n",
    "            tmpbbb = tmp_sub_matrix + tmpbb[:, np.newaxis]\n",
    "            normbbb = np.linalg.norm(tmpbbb, axis=0)\n",
    "            # get min value and index of normbbb\n",
    "            min_index = np.argmin(normbbb)\n",
    "            min_value = normbbb[min_index]\n",
    "            if min_value < normb:\n",
    "                thetab = theta.copy()\n",
    "                thetab[j1] = 0\n",
    "                thetab[min_index] = 1\n",
    "                normb = min_value\n",
    "            # sub\n",
    "            tmpbbb =  tmpbb[:, np.newaxis] - tmp_sub_matrix\n",
    "            normbbb = np.linalg.norm(tmpbbb, axis=0)\n",
    "            # get min value and index of normbbb\n",
    "            min_index = np.argmin(normbbb)\n",
    "            min_value = normbbb[min_index]\n",
    "            if min_value < normb:\n",
    "                thetab = theta.copy()\n",
    "                thetab[j1] = 0\n",
    "                thetab[min_index] = -1\n",
    "                normb = min_value\n",
    "        if thetab is not None:\n",
    "            theta = thetab\n",
    "            continue\n",
    "        else:\n",
    "            break\n",
    "    if np.allclose(theta - a, 0, 1e-1) or np.allclose(theta + a, 0, 1e-1):\n",
    "        return True\n",
    "    else:\n",
    "        return False"
   ]
  },
  {
   "cell_type": "markdown",
   "metadata": {},
   "source": [
    "## TEST"
   ]
  },
  {
   "cell_type": "markdown",
   "metadata": {},
   "source": [
    "### Test for getting 3 sketches"
   ]
  },
  {
   "cell_type": "markdown",
   "metadata": {},
   "source": [
    "average running time"
   ]
  },
  {
   "cell_type": "code",
   "execution_count": 8,
   "metadata": {},
   "outputs": [
    {
     "data": {
      "application/vnd.jupyter.widget-view+json": {
       "model_id": "486116ae53864827bafc7c9ba8716663",
       "version_major": 2,
       "version_minor": 0
      },
      "text/plain": [
       "Outer loop:   0%|          | 0/10 [00:00<?, ?it/s]"
      ]
     },
     "metadata": {},
     "output_type": "display_data"
    },
    {
     "data": {
      "application/vnd.jupyter.widget-view+json": {
       "model_id": "498af0f8834144459ccab89337501195",
       "version_major": 2,
       "version_minor": 0
      },
      "text/plain": [
       "  0%|          | 0/100 [00:00<?, ?it/s]"
      ]
     },
     "metadata": {},
     "output_type": "display_data"
    },
    {
     "data": {
      "application/vnd.jupyter.widget-view+json": {
       "model_id": "56a45bef8aaf408ba614278446b86365",
       "version_major": 2,
       "version_minor": 0
      },
      "text/plain": [
       "  0%|          | 0/100 [00:00<?, ?it/s]"
      ]
     },
     "metadata": {},
     "output_type": "display_data"
    },
    {
     "data": {
      "application/vnd.jupyter.widget-view+json": {
       "model_id": "523065c2bc404e4c9d4d37ab192ab019",
       "version_major": 2,
       "version_minor": 0
      },
      "text/plain": [
       "  0%|          | 0/100 [00:00<?, ?it/s]"
      ]
     },
     "metadata": {},
     "output_type": "display_data"
    },
    {
     "data": {
      "application/vnd.jupyter.widget-view+json": {
       "model_id": "0343ddc85906429b99fe9a9178a21562",
       "version_major": 2,
       "version_minor": 0
      },
      "text/plain": [
       "  0%|          | 0/100 [00:00<?, ?it/s]"
      ]
     },
     "metadata": {},
     "output_type": "display_data"
    },
    {
     "data": {
      "application/vnd.jupyter.widget-view+json": {
       "model_id": "fc836cbaedf44cfd9fbbc178622324f4",
       "version_major": 2,
       "version_minor": 0
      },
      "text/plain": [
       "  0%|          | 0/100 [00:00<?, ?it/s]"
      ]
     },
     "metadata": {},
     "output_type": "display_data"
    },
    {
     "data": {
      "application/vnd.jupyter.widget-view+json": {
       "model_id": "888928cbda474fdd937ea3277ff27659",
       "version_major": 2,
       "version_minor": 0
      },
      "text/plain": [
       "  0%|          | 0/100 [00:00<?, ?it/s]"
      ]
     },
     "metadata": {},
     "output_type": "display_data"
    },
    {
     "data": {
      "application/vnd.jupyter.widget-view+json": {
       "model_id": "2d628db868d74f41810a0f751806b8d7",
       "version_major": 2,
       "version_minor": 0
      },
      "text/plain": [
       "  0%|          | 0/100 [00:00<?, ?it/s]"
      ]
     },
     "metadata": {},
     "output_type": "display_data"
    },
    {
     "data": {
      "application/vnd.jupyter.widget-view+json": {
       "model_id": "6d96a21b1e6e4ad29b71984671f939d7",
       "version_major": 2,
       "version_minor": 0
      },
      "text/plain": [
       "  0%|          | 0/100 [00:00<?, ?it/s]"
      ]
     },
     "metadata": {},
     "output_type": "display_data"
    },
    {
     "data": {
      "application/vnd.jupyter.widget-view+json": {
       "model_id": "68bb8585e78c41a894f15341094b9a25",
       "version_major": 2,
       "version_minor": 0
      },
      "text/plain": [
       "  0%|          | 0/100 [00:00<?, ?it/s]"
      ]
     },
     "metadata": {},
     "output_type": "display_data"
    },
    {
     "data": {
      "application/vnd.jupyter.widget-view+json": {
       "model_id": "aa21eab175e041e8bf6d6ea4217a052b",
       "version_major": 2,
       "version_minor": 0
      },
      "text/plain": [
       "  0%|          | 0/100 [00:00<?, ?it/s]"
      ]
     },
     "metadata": {},
     "output_type": "display_data"
    },
    {
     "name": "stdout",
     "output_type": "stream",
     "text": [
      "Average time for each inner iteration: 0.20159154987335204\n",
      "Whole: Time 201.59154987335205\n"
     ]
    }
   ],
   "source": [
    "# time testing\n",
    "whole_time = 0\n",
    "tmp_inner = 100\n",
    "tmp_outer = 10\n",
    "tmpk = 190\n",
    "error_rate = 0.5\n",
    "for _ in (pbar:= tqdm(range(tmp_outer), desc=\"Outer loop\")):\n",
    "    # need to control n to indicate the number of sketches(default = 3)\n",
    "    w, cs, isometric_matrixes, coserrors = sampler.generate_puzzle_n(dimension, alpha, error_rate=error_rate, n=3, disable_tqdm=True)\n",
    "    # generate matrix M'\n",
    "    new_isometric_matrixes = [isometric_matrixes[i] @ isometric_matrixes[0].T for i in range(1, len(isometric_matrixes))]\n",
    "    new_cs = [cs[i] for i in range(1, len(cs))]\n",
    "    # need to control k (set tmpk) to indicate the number of row vectors to be selected from each isometric matrix\n",
    "    whole_time += local_search_each_runtime(dimension, alpha, generate_puzzle_local_search_random(new_cs, new_isometric_matrixes, k=tmpk), disable_flag=False, each_runtime=tmp_inner)\n",
    "    pbar.set_postfix({\"Whole Time\": whole_time})\n",
    "print(\"Average time for each inner iteration:\", whole_time / (tmp_outer * tmp_inner))\n",
    "print(\"Whole: Time\", whole_time)"
   ]
  },
  {
   "cell_type": "markdown",
   "metadata": {},
   "source": [
    "average success rate"
   ]
  },
  {
   "cell_type": "code",
   "execution_count": 30,
   "metadata": {},
   "outputs": [
    {
     "data": {
      "application/vnd.jupyter.widget-view+json": {
       "model_id": "4328af39b2f940e29090f87662bd7639",
       "version_major": 2,
       "version_minor": 0
      },
      "text/plain": [
       "Generating Puzzles:   0%|          | 0/2049 [00:00<?, ?it/s]"
      ]
     },
     "metadata": {},
     "output_type": "display_data"
    },
    {
     "data": {
      "application/vnd.jupyter.widget-view+json": {
       "model_id": "88b1b377d6a44a9c971e4e4f828c3a85",
       "version_major": 2,
       "version_minor": 0
      },
      "text/plain": [
       "  0%|          | 0/20000 [00:00<?, ?it/s]"
      ]
     },
     "metadata": {},
     "output_type": "display_data"
    },
    {
     "data": {
      "application/vnd.jupyter.widget-view+json": {
       "model_id": "146635ce8367488fb2600d046d71b632",
       "version_major": 2,
       "version_minor": 0
      },
      "text/plain": [
       "Generating Puzzles:   0%|          | 0/2049 [00:00<?, ?it/s]"
      ]
     },
     "metadata": {},
     "output_type": "display_data"
    },
    {
     "data": {
      "application/vnd.jupyter.widget-view+json": {
       "model_id": "4808f7e3f9394a55a9f703fc2b827453",
       "version_major": 2,
       "version_minor": 0
      },
      "text/plain": [
       "  0%|          | 0/20000 [00:00<?, ?it/s]"
      ]
     },
     "metadata": {},
     "output_type": "display_data"
    },
    {
     "data": {
      "application/vnd.jupyter.widget-view+json": {
       "model_id": "3e8a97801a38490fb0164fe2e9474d62",
       "version_major": 2,
       "version_minor": 0
      },
      "text/plain": [
       "Generating Puzzles:   0%|          | 0/2049 [00:00<?, ?it/s]"
      ]
     },
     "metadata": {},
     "output_type": "display_data"
    },
    {
     "data": {
      "application/vnd.jupyter.widget-view+json": {
       "model_id": "83bcb1ada1fb48af900748d8b3597542",
       "version_major": 2,
       "version_minor": 0
      },
      "text/plain": [
       "  0%|          | 0/20000 [00:00<?, ?it/s]"
      ]
     },
     "metadata": {},
     "output_type": "display_data"
    },
    {
     "data": {
      "application/vnd.jupyter.widget-view+json": {
       "model_id": "eb75755c93a246dea188858ba65190d5",
       "version_major": 2,
       "version_minor": 0
      },
      "text/plain": [
       "Generating Puzzles:   0%|          | 0/2049 [00:00<?, ?it/s]"
      ]
     },
     "metadata": {},
     "output_type": "display_data"
    },
    {
     "data": {
      "application/vnd.jupyter.widget-view+json": {
       "model_id": "0502b3f48cc64aada0356c01e2f21fbf",
       "version_major": 2,
       "version_minor": 0
      },
      "text/plain": [
       "  0%|          | 0/20000 [00:00<?, ?it/s]"
      ]
     },
     "metadata": {},
     "output_type": "display_data"
    },
    {
     "data": {
      "application/vnd.jupyter.widget-view+json": {
       "model_id": "4e85c5058e6b42caa0054797337bf24c",
       "version_major": 2,
       "version_minor": 0
      },
      "text/plain": [
       "Generating Puzzles:   0%|          | 0/2049 [00:00<?, ?it/s]"
      ]
     },
     "metadata": {},
     "output_type": "display_data"
    },
    {
     "data": {
      "application/vnd.jupyter.widget-view+json": {
       "model_id": "7750c8b4104e41c9a961defe5b6dbd3f",
       "version_major": 2,
       "version_minor": 0
      },
      "text/plain": [
       "  0%|          | 0/20000 [00:00<?, ?it/s]"
      ]
     },
     "metadata": {},
     "output_type": "display_data"
    },
    {
     "data": {
      "application/vnd.jupyter.widget-view+json": {
       "model_id": "00567b9a76ab41c1a7412c1d59bac330",
       "version_major": 2,
       "version_minor": 0
      },
      "text/plain": [
       "Generating Puzzles:   0%|          | 0/2049 [00:00<?, ?it/s]"
      ]
     },
     "metadata": {},
     "output_type": "display_data"
    },
    {
     "data": {
      "application/vnd.jupyter.widget-view+json": {
       "model_id": "2ca153139f364d9ab4d1d83940d8bbb4",
       "version_major": 2,
       "version_minor": 0
      },
      "text/plain": [
       "  0%|          | 0/20000 [00:00<?, ?it/s]"
      ]
     },
     "metadata": {},
     "output_type": "display_data"
    },
    {
     "data": {
      "application/vnd.jupyter.widget-view+json": {
       "model_id": "c4c2c6c455134c3683d4ab62de157d0f",
       "version_major": 2,
       "version_minor": 0
      },
      "text/plain": [
       "Generating Puzzles:   0%|          | 0/2049 [00:00<?, ?it/s]"
      ]
     },
     "metadata": {},
     "output_type": "display_data"
    },
    {
     "data": {
      "application/vnd.jupyter.widget-view+json": {
       "model_id": "0e44442e4b7c444e99cf838162b473eb",
       "version_major": 2,
       "version_minor": 0
      },
      "text/plain": [
       "  0%|          | 0/20000 [00:00<?, ?it/s]"
      ]
     },
     "metadata": {},
     "output_type": "display_data"
    },
    {
     "data": {
      "application/vnd.jupyter.widget-view+json": {
       "model_id": "a0904480b18d4bc7a5f4fad16bfd9f49",
       "version_major": 2,
       "version_minor": 0
      },
      "text/plain": [
       "Generating Puzzles:   0%|          | 0/2049 [00:00<?, ?it/s]"
      ]
     },
     "metadata": {},
     "output_type": "display_data"
    },
    {
     "data": {
      "application/vnd.jupyter.widget-view+json": {
       "model_id": "3ac035a25949435ebf32d5da8c7ef866",
       "version_major": 2,
       "version_minor": 0
      },
      "text/plain": [
       "  0%|          | 0/20000 [00:00<?, ?it/s]"
      ]
     },
     "metadata": {},
     "output_type": "display_data"
    },
    {
     "data": {
      "application/vnd.jupyter.widget-view+json": {
       "model_id": "20b2a17e86b14e4ea3557d90255d686d",
       "version_major": 2,
       "version_minor": 0
      },
      "text/plain": [
       "Generating Puzzles:   0%|          | 0/2049 [00:00<?, ?it/s]"
      ]
     },
     "metadata": {},
     "output_type": "display_data"
    },
    {
     "data": {
      "application/vnd.jupyter.widget-view+json": {
       "model_id": "e7249254955b4020a3139e89536d38d0",
       "version_major": 2,
       "version_minor": 0
      },
      "text/plain": [
       "  0%|          | 0/20000 [00:00<?, ?it/s]"
      ]
     },
     "metadata": {},
     "output_type": "display_data"
    },
    {
     "data": {
      "application/vnd.jupyter.widget-view+json": {
       "model_id": "adcdb3196a414b09bce8f92e3b0cc978",
       "version_major": 2,
       "version_minor": 0
      },
      "text/plain": [
       "Generating Puzzles:   0%|          | 0/2049 [00:00<?, ?it/s]"
      ]
     },
     "metadata": {},
     "output_type": "display_data"
    },
    {
     "data": {
      "application/vnd.jupyter.widget-view+json": {
       "model_id": "d4019806f92e489d8928a4f821db79dc",
       "version_major": 2,
       "version_minor": 0
      },
      "text/plain": [
       "  0%|          | 0/20000 [00:00<?, ?it/s]"
      ]
     },
     "metadata": {},
     "output_type": "display_data"
    },
    {
     "data": {
      "application/vnd.jupyter.widget-view+json": {
       "model_id": "53166ee852494d849a56f993cfbf7037",
       "version_major": 2,
       "version_minor": 0
      },
      "text/plain": [
       "Generating Puzzles:   0%|          | 0/2049 [00:00<?, ?it/s]"
      ]
     },
     "metadata": {},
     "output_type": "display_data"
    },
    {
     "data": {
      "application/vnd.jupyter.widget-view+json": {
       "model_id": "c75026a59dd24941a3898d2d1c74bb46",
       "version_major": 2,
       "version_minor": 0
      },
      "text/plain": [
       "  0%|          | 0/20000 [00:00<?, ?it/s]"
      ]
     },
     "metadata": {},
     "output_type": "display_data"
    },
    {
     "data": {
      "application/vnd.jupyter.widget-view+json": {
       "model_id": "7353ac632e564164a896f7dc3595c7e7",
       "version_major": 2,
       "version_minor": 0
      },
      "text/plain": [
       "Generating Puzzles:   0%|          | 0/2049 [00:00<?, ?it/s]"
      ]
     },
     "metadata": {},
     "output_type": "display_data"
    },
    {
     "data": {
      "application/vnd.jupyter.widget-view+json": {
       "model_id": "434737aeac2e47e2bd2b350ffcde585c",
       "version_major": 2,
       "version_minor": 0
      },
      "text/plain": [
       "  0%|          | 0/20000 [00:00<?, ?it/s]"
      ]
     },
     "metadata": {},
     "output_type": "display_data"
    },
    {
     "data": {
      "application/vnd.jupyter.widget-view+json": {
       "model_id": "b324ccea99eb4897929a7f101b2084b6",
       "version_major": 2,
       "version_minor": 0
      },
      "text/plain": [
       "Generating Puzzles:   0%|          | 0/2049 [00:00<?, ?it/s]"
      ]
     },
     "metadata": {},
     "output_type": "display_data"
    },
    {
     "data": {
      "application/vnd.jupyter.widget-view+json": {
       "model_id": "3fc3eafefebf41ea92bb4a1db51daa19",
       "version_major": 2,
       "version_minor": 0
      },
      "text/plain": [
       "  0%|          | 0/20000 [00:00<?, ?it/s]"
      ]
     },
     "metadata": {},
     "output_type": "display_data"
    },
    {
     "data": {
      "application/vnd.jupyter.widget-view+json": {
       "model_id": "9f95221f125f4f55bc4abe44516e54b9",
       "version_major": 2,
       "version_minor": 0
      },
      "text/plain": [
       "Generating Puzzles:   0%|          | 0/2049 [00:00<?, ?it/s]"
      ]
     },
     "metadata": {},
     "output_type": "display_data"
    },
    {
     "data": {
      "application/vnd.jupyter.widget-view+json": {
       "model_id": "48a97f3f227842e697e5d661ff740d13",
       "version_major": 2,
       "version_minor": 0
      },
      "text/plain": [
       "  0%|          | 0/20000 [00:00<?, ?it/s]"
      ]
     },
     "metadata": {},
     "output_type": "display_data"
    },
    {
     "data": {
      "application/vnd.jupyter.widget-view+json": {
       "model_id": "50c4b62ecc874f04b8c7920f5a857fc5",
       "version_major": 2,
       "version_minor": 0
      },
      "text/plain": [
       "Generating Puzzles:   0%|          | 0/2049 [00:00<?, ?it/s]"
      ]
     },
     "metadata": {},
     "output_type": "display_data"
    },
    {
     "data": {
      "application/vnd.jupyter.widget-view+json": {
       "model_id": "1554671037ff4644bf92c33720afbe80",
       "version_major": 2,
       "version_minor": 0
      },
      "text/plain": [
       "  0%|          | 0/20000 [00:00<?, ?it/s]"
      ]
     },
     "metadata": {},
     "output_type": "display_data"
    },
    {
     "data": {
      "application/vnd.jupyter.widget-view+json": {
       "model_id": "bf279b03d3f54db29d983739f5e28812",
       "version_major": 2,
       "version_minor": 0
      },
      "text/plain": [
       "Generating Puzzles:   0%|          | 0/2049 [00:00<?, ?it/s]"
      ]
     },
     "metadata": {},
     "output_type": "display_data"
    },
    {
     "data": {
      "application/vnd.jupyter.widget-view+json": {
       "model_id": "aebfc4162f4c42db9138c6c7b5995e0b",
       "version_major": 2,
       "version_minor": 0
      },
      "text/plain": [
       "  0%|          | 0/20000 [00:00<?, ?it/s]"
      ]
     },
     "metadata": {},
     "output_type": "display_data"
    },
    {
     "data": {
      "application/vnd.jupyter.widget-view+json": {
       "model_id": "c36c8e062a164466be8d5e319fcf4ff4",
       "version_major": 2,
       "version_minor": 0
      },
      "text/plain": [
       "Generating Puzzles:   0%|          | 0/2049 [00:00<?, ?it/s]"
      ]
     },
     "metadata": {},
     "output_type": "display_data"
    },
    {
     "data": {
      "application/vnd.jupyter.widget-view+json": {
       "model_id": "1b1ddbc4fc894db2a7d28124ec306811",
       "version_major": 2,
       "version_minor": 0
      },
      "text/plain": [
       "  0%|          | 0/20000 [00:00<?, ?it/s]"
      ]
     },
     "metadata": {},
     "output_type": "display_data"
    },
    {
     "data": {
      "application/vnd.jupyter.widget-view+json": {
       "model_id": "ff6675dad6ac45ffb8b8a43588dd7ffd",
       "version_major": 2,
       "version_minor": 0
      },
      "text/plain": [
       "Generating Puzzles:   0%|          | 0/2049 [00:00<?, ?it/s]"
      ]
     },
     "metadata": {},
     "output_type": "display_data"
    },
    {
     "data": {
      "application/vnd.jupyter.widget-view+json": {
       "model_id": "8978f72554144a99bfd0a3fc58175ce8",
       "version_major": 2,
       "version_minor": 0
      },
      "text/plain": [
       "  0%|          | 0/20000 [00:00<?, ?it/s]"
      ]
     },
     "metadata": {},
     "output_type": "display_data"
    },
    {
     "data": {
      "application/vnd.jupyter.widget-view+json": {
       "model_id": "4d47f36a423a4612b1046e135675534b",
       "version_major": 2,
       "version_minor": 0
      },
      "text/plain": [
       "Generating Puzzles:   0%|          | 0/2049 [00:00<?, ?it/s]"
      ]
     },
     "metadata": {},
     "output_type": "display_data"
    },
    {
     "data": {
      "application/vnd.jupyter.widget-view+json": {
       "model_id": "29f93610d4cd473b93e6e8d19df8fd79",
       "version_major": 2,
       "version_minor": 0
      },
      "text/plain": [
       "  0%|          | 0/20000 [00:00<?, ?it/s]"
      ]
     },
     "metadata": {},
     "output_type": "display_data"
    },
    {
     "data": {
      "application/vnd.jupyter.widget-view+json": {
       "model_id": "839c88d8e29f496aaa616b0e2103c3c3",
       "version_major": 2,
       "version_minor": 0
      },
      "text/plain": [
       "Generating Puzzles:   0%|          | 0/2049 [00:00<?, ?it/s]"
      ]
     },
     "metadata": {},
     "output_type": "display_data"
    },
    {
     "data": {
      "application/vnd.jupyter.widget-view+json": {
       "model_id": "0c6d26c322a54c829b5ed53b5a7f2e2d",
       "version_major": 2,
       "version_minor": 0
      },
      "text/plain": [
       "  0%|          | 0/20000 [00:00<?, ?it/s]"
      ]
     },
     "metadata": {},
     "output_type": "display_data"
    },
    {
     "data": {
      "application/vnd.jupyter.widget-view+json": {
       "model_id": "8a2f8b58d6354713ae19e110983ee109",
       "version_major": 2,
       "version_minor": 0
      },
      "text/plain": [
       "Generating Puzzles:   0%|          | 0/2049 [00:00<?, ?it/s]"
      ]
     },
     "metadata": {},
     "output_type": "display_data"
    },
    {
     "data": {
      "application/vnd.jupyter.widget-view+json": {
       "model_id": "2abc00c247d7492a8c9ae8da7ff3c715",
       "version_major": 2,
       "version_minor": 0
      },
      "text/plain": [
       "  0%|          | 0/20000 [00:00<?, ?it/s]"
      ]
     },
     "metadata": {},
     "output_type": "display_data"
    },
    {
     "data": {
      "application/vnd.jupyter.widget-view+json": {
       "model_id": "9bf67239d5e54ba3b3957ba74b24e7e9",
       "version_major": 2,
       "version_minor": 0
      },
      "text/plain": [
       "Generating Puzzles:   0%|          | 0/2049 [00:00<?, ?it/s]"
      ]
     },
     "metadata": {},
     "output_type": "display_data"
    },
    {
     "data": {
      "application/vnd.jupyter.widget-view+json": {
       "model_id": "6ebe4970ef8348a8abac152834409fcd",
       "version_major": 2,
       "version_minor": 0
      },
      "text/plain": [
       "  0%|          | 0/20000 [00:00<?, ?it/s]"
      ]
     },
     "metadata": {},
     "output_type": "display_data"
    },
    {
     "data": {
      "application/vnd.jupyter.widget-view+json": {
       "model_id": "7d210e9f20cd48868da58c7f43abc2cf",
       "version_major": 2,
       "version_minor": 0
      },
      "text/plain": [
       "Generating Puzzles:   0%|          | 0/2049 [00:00<?, ?it/s]"
      ]
     },
     "metadata": {},
     "output_type": "display_data"
    },
    {
     "data": {
      "application/vnd.jupyter.widget-view+json": {
       "model_id": "0e8bbd32bdd147aeaafc0cab22e40353",
       "version_major": 2,
       "version_minor": 0
      },
      "text/plain": [
       "  0%|          | 0/20000 [00:00<?, ?it/s]"
      ]
     },
     "metadata": {},
     "output_type": "display_data"
    },
    {
     "data": {
      "application/vnd.jupyter.widget-view+json": {
       "model_id": "02c58db3e81e40d79b882c07697a7524",
       "version_major": 2,
       "version_minor": 0
      },
      "text/plain": [
       "Generating Puzzles:   0%|          | 0/2049 [00:00<?, ?it/s]"
      ]
     },
     "metadata": {},
     "output_type": "display_data"
    },
    {
     "data": {
      "application/vnd.jupyter.widget-view+json": {
       "model_id": "31dcc689093d40dda056c28e524f635d",
       "version_major": 2,
       "version_minor": 0
      },
      "text/plain": [
       "  0%|          | 0/20000 [00:00<?, ?it/s]"
      ]
     },
     "metadata": {},
     "output_type": "display_data"
    },
    {
     "data": {
      "application/vnd.jupyter.widget-view+json": {
       "model_id": "f03114e73f4a46c28a9e36366e56ec07",
       "version_major": 2,
       "version_minor": 0
      },
      "text/plain": [
       "Generating Puzzles:   0%|          | 0/2049 [00:00<?, ?it/s]"
      ]
     },
     "metadata": {},
     "output_type": "display_data"
    },
    {
     "data": {
      "application/vnd.jupyter.widget-view+json": {
       "model_id": "cf3c59a3bbfe4b4f929bd107e5c5b18d",
       "version_major": 2,
       "version_minor": 0
      },
      "text/plain": [
       "  0%|          | 0/20000 [00:00<?, ?it/s]"
      ]
     },
     "metadata": {},
     "output_type": "display_data"
    },
    {
     "data": {
      "application/vnd.jupyter.widget-view+json": {
       "model_id": "b204f559e42e47128838852027867b21",
       "version_major": 2,
       "version_minor": 0
      },
      "text/plain": [
       "Generating Puzzles:   0%|          | 0/2049 [00:00<?, ?it/s]"
      ]
     },
     "metadata": {},
     "output_type": "display_data"
    },
    {
     "data": {
      "application/vnd.jupyter.widget-view+json": {
       "model_id": "74914a9f26d34e1d9b9afd2eb4308c09",
       "version_major": 2,
       "version_minor": 0
      },
      "text/plain": [
       "  0%|          | 0/20000 [00:00<?, ?it/s]"
      ]
     },
     "metadata": {},
     "output_type": "display_data"
    },
    {
     "data": {
      "application/vnd.jupyter.widget-view+json": {
       "model_id": "b2e6fb6bc9634002887454613e2470a4",
       "version_major": 2,
       "version_minor": 0
      },
      "text/plain": [
       "Generating Puzzles:   0%|          | 0/2049 [00:00<?, ?it/s]"
      ]
     },
     "metadata": {},
     "output_type": "display_data"
    },
    {
     "data": {
      "application/vnd.jupyter.widget-view+json": {
       "model_id": "79fbaac3bb844a54963dd6b6eafeb3c2",
       "version_major": 2,
       "version_minor": 0
      },
      "text/plain": [
       "  0%|          | 0/20000 [00:00<?, ?it/s]"
      ]
     },
     "metadata": {},
     "output_type": "display_data"
    },
    {
     "data": {
      "application/vnd.jupyter.widget-view+json": {
       "model_id": "8af5779b2f9648828b7563882968f480",
       "version_major": 2,
       "version_minor": 0
      },
      "text/plain": [
       "Generating Puzzles:   0%|          | 0/2049 [00:00<?, ?it/s]"
      ]
     },
     "metadata": {},
     "output_type": "display_data"
    },
    {
     "data": {
      "application/vnd.jupyter.widget-view+json": {
       "model_id": "693b669bd420451aa381a2e366e3237b",
       "version_major": 2,
       "version_minor": 0
      },
      "text/plain": [
       "  0%|          | 0/20000 [00:00<?, ?it/s]"
      ]
     },
     "metadata": {},
     "output_type": "display_data"
    },
    {
     "data": {
      "application/vnd.jupyter.widget-view+json": {
       "model_id": "9c6bf1295f3841199ec3fb479c3356d1",
       "version_major": 2,
       "version_minor": 0
      },
      "text/plain": [
       "Generating Puzzles:   0%|          | 0/2049 [00:00<?, ?it/s]"
      ]
     },
     "metadata": {},
     "output_type": "display_data"
    },
    {
     "data": {
      "application/vnd.jupyter.widget-view+json": {
       "model_id": "d8da7209ec8d4777bda8e9c7073b5b23",
       "version_major": 2,
       "version_minor": 0
      },
      "text/plain": [
       "  0%|          | 0/20000 [00:00<?, ?it/s]"
      ]
     },
     "metadata": {},
     "output_type": "display_data"
    },
    {
     "data": {
      "application/vnd.jupyter.widget-view+json": {
       "model_id": "cd0a26b3336c45c9bcee89a954233846",
       "version_major": 2,
       "version_minor": 0
      },
      "text/plain": [
       "Generating Puzzles:   0%|          | 0/2049 [00:00<?, ?it/s]"
      ]
     },
     "metadata": {},
     "output_type": "display_data"
    },
    {
     "data": {
      "application/vnd.jupyter.widget-view+json": {
       "model_id": "e02f16278f8b4012b07d793a565c1a3f",
       "version_major": 2,
       "version_minor": 0
      },
      "text/plain": [
       "  0%|          | 0/20000 [00:00<?, ?it/s]"
      ]
     },
     "metadata": {},
     "output_type": "display_data"
    },
    {
     "data": {
      "application/vnd.jupyter.widget-view+json": {
       "model_id": "ebd3105dbba24e2f9b8b50685189e9a4",
       "version_major": 2,
       "version_minor": 0
      },
      "text/plain": [
       "Generating Puzzles:   0%|          | 0/2049 [00:00<?, ?it/s]"
      ]
     },
     "metadata": {},
     "output_type": "display_data"
    },
    {
     "data": {
      "application/vnd.jupyter.widget-view+json": {
       "model_id": "4d39677490c741d5b383a3fe655bea4b",
       "version_major": 2,
       "version_minor": 0
      },
      "text/plain": [
       "  0%|          | 0/20000 [00:00<?, ?it/s]"
      ]
     },
     "metadata": {},
     "output_type": "display_data"
    },
    {
     "data": {
      "application/vnd.jupyter.widget-view+json": {
       "model_id": "841942dc592e45f3b14de1d9531373a2",
       "version_major": 2,
       "version_minor": 0
      },
      "text/plain": [
       "Generating Puzzles:   0%|          | 0/2049 [00:00<?, ?it/s]"
      ]
     },
     "metadata": {},
     "output_type": "display_data"
    },
    {
     "data": {
      "application/vnd.jupyter.widget-view+json": {
       "model_id": "86dbc4bafecd49c29a668f8edc1a7f80",
       "version_major": 2,
       "version_minor": 0
      },
      "text/plain": [
       "  0%|          | 0/20000 [00:00<?, ?it/s]"
      ]
     },
     "metadata": {},
     "output_type": "display_data"
    },
    {
     "data": {
      "application/vnd.jupyter.widget-view+json": {
       "model_id": "6e0a34aaa343419690f774a9258e8412",
       "version_major": 2,
       "version_minor": 0
      },
      "text/plain": [
       "Generating Puzzles:   0%|          | 0/2049 [00:00<?, ?it/s]"
      ]
     },
     "metadata": {},
     "output_type": "display_data"
    },
    {
     "data": {
      "application/vnd.jupyter.widget-view+json": {
       "model_id": "3d3f578b28ed4086abd66c22249533cf",
       "version_major": 2,
       "version_minor": 0
      },
      "text/plain": [
       "  0%|          | 0/20000 [00:00<?, ?it/s]"
      ]
     },
     "metadata": {},
     "output_type": "display_data"
    },
    {
     "data": {
      "application/vnd.jupyter.widget-view+json": {
       "model_id": "de361dd7592748b092dc2005c49445b8",
       "version_major": 2,
       "version_minor": 0
      },
      "text/plain": [
       "Generating Puzzles:   0%|          | 0/2049 [00:00<?, ?it/s]"
      ]
     },
     "metadata": {},
     "output_type": "display_data"
    },
    {
     "ename": "KeyboardInterrupt",
     "evalue": "",
     "output_type": "error",
     "traceback": [
      "\u001b[0;31m---------------------------------------------------------------------------\u001b[0m",
      "\u001b[0;31mKeyboardInterrupt\u001b[0m                         Traceback (most recent call last)",
      "Cell \u001b[0;32mIn[30], line 24\u001b[0m\n\u001b[1;32m     21\u001b[0m run_time \u001b[38;5;241m=\u001b[39m iteration_number\n\u001b[1;32m     22\u001b[0m \u001b[38;5;66;03m# for efficiency, we generate n=4*dimension + 1 sketches from the same original template with noise, and \u001b[39;00m\n\u001b[1;32m     23\u001b[0m \u001b[38;5;66;03m# test at each time randomly selecting three sketches from this n sketches, using this three sketches as our puzzle\u001b[39;00m\n\u001b[0;32m---> 24\u001b[0m c, bs, isometric_matrixes, coserrors \u001b[38;5;241m=\u001b[39m \u001b[43msampler\u001b[49m\u001b[38;5;241;43m.\u001b[39;49m\u001b[43mgenerate_puzzle_n\u001b[49m\u001b[43m(\u001b[49m\u001b[43mdimension\u001b[49m\u001b[43m,\u001b[49m\u001b[43m \u001b[49m\u001b[43mk\u001b[49m\u001b[43m,\u001b[49m\u001b[43m \u001b[49m\u001b[43merror_rate\u001b[49m\u001b[38;5;241;43m=\u001b[39;49m\u001b[43merror_rate\u001b[49m\u001b[43m,\u001b[49m\u001b[43m \u001b[49m\u001b[43mn\u001b[49m\u001b[38;5;241;43m=\u001b[39;49m\u001b[43m \u001b[49m\u001b[38;5;241;43m4\u001b[39;49m\u001b[43m \u001b[49m\u001b[38;5;241;43m*\u001b[39;49m\u001b[43m \u001b[49m\u001b[43mdimension\u001b[49m\u001b[43m \u001b[49m\u001b[38;5;241;43m+\u001b[39;49m\u001b[43m \u001b[49m\u001b[38;5;241;43m1\u001b[39;49m\u001b[43m,\u001b[49m\u001b[43m \u001b[49m\u001b[43mdisable_tqdm\u001b[49m\u001b[38;5;241;43m=\u001b[39;49m\u001b[38;5;28;43;01mFalse\u001b[39;49;00m\u001b[43m)\u001b[49m\n\u001b[1;32m     25\u001b[0m \u001b[38;5;28;01mfor\u001b[39;00m i \u001b[38;5;129;01min\u001b[39;00m (pbar\u001b[38;5;241m:=\u001b[39mtqdm(\u001b[38;5;28mrange\u001b[39m(iteration_number))):\n\u001b[1;32m     26\u001b[0m     \u001b[38;5;66;03m# random select three templates from new_isometric_matrixes and get new_bs and new_isometric_matrixes\u001b[39;00m\n\u001b[1;32m     27\u001b[0m     index \u001b[38;5;241m=\u001b[39m np\u001b[38;5;241m.\u001b[39mrandom\u001b[38;5;241m.\u001b[39mchoice(\u001b[38;5;28mlen\u001b[39m(bs), \u001b[38;5;241m3\u001b[39m, replace\u001b[38;5;241m=\u001b[39m\u001b[38;5;28;01mFalse\u001b[39;00m)\n",
      "File \u001b[0;32m~/Documents/myarcface/attacks/attack_matrix/probabilistic_linear_regression_attack/sample.py:109\u001b[0m, in \u001b[0;36mgenerate_puzzle_n\u001b[0;34m(dimension, k, error_rate, **kwargs)\u001b[0m\n\u001b[1;32m    107\u001b[0m n \u001b[38;5;241m=\u001b[39m kwargs\u001b[38;5;241m.\u001b[39mget(\u001b[38;5;124m\"\u001b[39m\u001b[38;5;124mn\u001b[39m\u001b[38;5;124m\"\u001b[39m, dimension\u001b[38;5;241m-\u001b[39m\u001b[38;5;241m1\u001b[39m)\n\u001b[1;32m    108\u001b[0m \u001b[38;5;28;01mfor\u001b[39;00m i \u001b[38;5;129;01min\u001b[39;00m tqdm(\u001b[38;5;28mrange\u001b[39m(n), desc\u001b[38;5;241m=\u001b[39m\u001b[38;5;124m\"\u001b[39m\u001b[38;5;124mGenerating Puzzles\u001b[39m\u001b[38;5;124m\"\u001b[39m, disable\u001b[38;5;241m=\u001b[39mkwargs\u001b[38;5;241m.\u001b[39mget(\u001b[38;5;124m\"\u001b[39m\u001b[38;5;124mdisable_tqdm\u001b[39m\u001b[38;5;124m\"\u001b[39m, \u001b[38;5;28;01mFalse\u001b[39;00m)):\n\u001b[0;32m--> 109\u001b[0m     b, M, coserror \u001b[38;5;241m=\u001b[39m \u001b[43m_generate_puzzle\u001b[49m\u001b[43m(\u001b[49m\u001b[43mc\u001b[49m\u001b[43m,\u001b[49m\u001b[43m \u001b[49m\u001b[43mdimension\u001b[49m\u001b[43m,\u001b[49m\u001b[43m \u001b[49m\u001b[43mk\u001b[49m\u001b[43m,\u001b[49m\u001b[43m \u001b[49m\u001b[43merror_rate\u001b[49m\u001b[43m)\u001b[49m\n\u001b[1;32m    110\u001b[0m     isometric_matrixes\u001b[38;5;241m.\u001b[39mappend(M)\n\u001b[1;32m    111\u001b[0m     coserrors\u001b[38;5;241m.\u001b[39mappend(coserror)\n",
      "File \u001b[0;32m~/Documents/myarcface/attacks/attack_matrix/probabilistic_linear_regression_attack/sample.py:80\u001b[0m, in \u001b[0;36m_generate_puzzle\u001b[0;34m(c, dimension, k, error_rate)\u001b[0m\n\u001b[1;32m     78\u001b[0m c2 \u001b[38;5;241m=\u001b[39m _generate_random_unit_vector_nearby(c, error_rate)\n\u001b[1;32m     79\u001b[0m \u001b[38;5;66;03m# get the orthogonal matrix that mapped c2 to b\u001b[39;00m\n\u001b[0;32m---> 80\u001b[0m M2 \u001b[38;5;241m=\u001b[39m \u001b[43mrandom_orthogonal_matrix_with_given_vectors\u001b[49m\u001b[43m(\u001b[49m\u001b[43mc2\u001b[49m\u001b[43m,\u001b[49m\u001b[43m \u001b[49m\u001b[43mb\u001b[49m\u001b[43m)\u001b[49m\n\u001b[1;32m     81\u001b[0m \u001b[38;5;66;03m# get the cosine error between M3*a and b\u001b[39;00m\n\u001b[1;32m     82\u001b[0m coserror \u001b[38;5;241m=\u001b[39m np\u001b[38;5;241m.\u001b[39mdot(M2 \u001b[38;5;241m@\u001b[39m c, b) \u001b[38;5;241m/\u001b[39m np\u001b[38;5;241m.\u001b[39mlinalg\u001b[38;5;241m.\u001b[39mnorm(M2 \u001b[38;5;241m@\u001b[39m c) \u001b[38;5;241m/\u001b[39m np\u001b[38;5;241m.\u001b[39mlinalg\u001b[38;5;241m.\u001b[39mnorm(b)\n",
      "File \u001b[0;32m~/Documents/myarcface/attacks/attack_matrix/probabilistic_linear_regression_attack/sample.py:35\u001b[0m, in \u001b[0;36mrandom_orthogonal_matrix_with_given_vectors\u001b[0;34m(a, b)\u001b[0m\n\u001b[1;32m     33\u001b[0m b \u001b[38;5;241m=\u001b[39m b\u001b[38;5;241m.\u001b[39mreshape(\u001b[38;5;241m-\u001b[39m\u001b[38;5;241m1\u001b[39m, \u001b[38;5;241m1\u001b[39m)\n\u001b[1;32m     34\u001b[0m \u001b[38;5;66;03m# get a random isometric matrix\u001b[39;00m\n\u001b[0;32m---> 35\u001b[0m q \u001b[38;5;241m=\u001b[39m \u001b[43mrandom_orthogonal_matrix\u001b[49m\u001b[43m(\u001b[49m\u001b[38;5;28;43mlen\u001b[39;49m\u001b[43m(\u001b[49m\u001b[43ma\u001b[49m\u001b[43m)\u001b[49m\u001b[43m)\u001b[49m\n\u001b[1;32m     36\u001b[0m \u001b[38;5;66;03m# get the mapped vector of a as q * a\u001b[39;00m\n\u001b[1;32m     37\u001b[0m a_mapped \u001b[38;5;241m=\u001b[39m q \u001b[38;5;241m@\u001b[39m a\n",
      "File \u001b[0;32m~/Documents/myarcface/attacks/attack_matrix/probabilistic_linear_regression_attack/sample.py:22\u001b[0m, in \u001b[0;36mrandom_orthogonal_matrix\u001b[0;34m(n)\u001b[0m\n\u001b[1;32m     16\u001b[0m \u001b[38;5;28;01mdef\u001b[39;00m \u001b[38;5;21mrandom_orthogonal_matrix\u001b[39m(n):\n\u001b[1;32m     17\u001b[0m \u001b[38;5;250m    \u001b[39m\u001b[38;5;124;03m\"\"\"\u001b[39;00m\n\u001b[1;32m     18\u001b[0m \u001b[38;5;124;03m    random generate an orthogonal matrix\u001b[39;00m\n\u001b[1;32m     19\u001b[0m \u001b[38;5;124;03m    input: dimension n\u001b[39;00m\n\u001b[1;32m     20\u001b[0m \u001b[38;5;124;03m    output: isometric matrix Q\u001b[39;00m\n\u001b[1;32m     21\u001b[0m \u001b[38;5;124;03m    \"\"\"\u001b[39;00m\n\u001b[0;32m---> 22\u001b[0m     Q \u001b[38;5;241m=\u001b[39m \u001b[43mortho_group\u001b[49m\u001b[38;5;241;43m.\u001b[39;49m\u001b[43mrvs\u001b[49m\u001b[43m(\u001b[49m\u001b[43mdim\u001b[49m\u001b[38;5;241;43m=\u001b[39;49m\u001b[43mn\u001b[49m\u001b[43m)\u001b[49m\n\u001b[1;32m     23\u001b[0m     \u001b[38;5;28;01mreturn\u001b[39;00m Q\n",
      "File \u001b[0;32m~/miniconda3/envs/intel-attack-m/lib/python3.10/site-packages/scipy/stats/_multivariate.py:3713\u001b[0m, in \u001b[0;36mortho_group_gen.rvs\u001b[0;34m(self, dim, size, random_state)\u001b[0m\n\u001b[1;32m   3711\u001b[0m size \u001b[38;5;241m=\u001b[39m (size,) \u001b[38;5;28;01mif\u001b[39;00m size \u001b[38;5;241m>\u001b[39m \u001b[38;5;241m1\u001b[39m \u001b[38;5;28;01melse\u001b[39;00m ()\n\u001b[1;32m   3712\u001b[0m z \u001b[38;5;241m=\u001b[39m random_state\u001b[38;5;241m.\u001b[39mnormal(size\u001b[38;5;241m=\u001b[39msize \u001b[38;5;241m+\u001b[39m (dim, dim))\n\u001b[0;32m-> 3713\u001b[0m q, r \u001b[38;5;241m=\u001b[39m \u001b[43mnp\u001b[49m\u001b[38;5;241;43m.\u001b[39;49m\u001b[43mlinalg\u001b[49m\u001b[38;5;241;43m.\u001b[39;49m\u001b[43mqr\u001b[49m\u001b[43m(\u001b[49m\u001b[43mz\u001b[49m\u001b[43m)\u001b[49m\n\u001b[1;32m   3714\u001b[0m \u001b[38;5;66;03m# The last two dimensions are the rows and columns of R matrices.\u001b[39;00m\n\u001b[1;32m   3715\u001b[0m \u001b[38;5;66;03m# Extract the diagonals. Note that this eliminates a dimension.\u001b[39;00m\n\u001b[1;32m   3716\u001b[0m d \u001b[38;5;241m=\u001b[39m r\u001b[38;5;241m.\u001b[39mdiagonal(offset\u001b[38;5;241m=\u001b[39m\u001b[38;5;241m0\u001b[39m, axis1\u001b[38;5;241m=\u001b[39m\u001b[38;5;241m-\u001b[39m\u001b[38;5;241m2\u001b[39m, axis2\u001b[38;5;241m=\u001b[39m\u001b[38;5;241m-\u001b[39m\u001b[38;5;241m1\u001b[39m)\n",
      "File \u001b[0;32m<__array_function__ internals>:200\u001b[0m, in \u001b[0;36mqr\u001b[0;34m(*args, **kwargs)\u001b[0m\n",
      "File \u001b[0;32m~/miniconda3/envs/intel-attack-m/lib/python3.10/site-packages/numpy/linalg/linalg.py:927\u001b[0m, in \u001b[0;36mqr\u001b[0;34m(a, mode)\u001b[0m\n\u001b[1;32m    925\u001b[0m signature \u001b[38;5;241m=\u001b[39m \u001b[38;5;124m'\u001b[39m\u001b[38;5;124mD->D\u001b[39m\u001b[38;5;124m'\u001b[39m \u001b[38;5;28;01mif\u001b[39;00m isComplexType(t) \u001b[38;5;28;01melse\u001b[39;00m \u001b[38;5;124m'\u001b[39m\u001b[38;5;124md->d\u001b[39m\u001b[38;5;124m'\u001b[39m\n\u001b[1;32m    926\u001b[0m extobj \u001b[38;5;241m=\u001b[39m get_linalg_error_extobj(_raise_linalgerror_qr)\n\u001b[0;32m--> 927\u001b[0m tau \u001b[38;5;241m=\u001b[39m \u001b[43mgufunc\u001b[49m\u001b[43m(\u001b[49m\u001b[43ma\u001b[49m\u001b[43m,\u001b[49m\u001b[43m \u001b[49m\u001b[43msignature\u001b[49m\u001b[38;5;241;43m=\u001b[39;49m\u001b[43msignature\u001b[49m\u001b[43m,\u001b[49m\u001b[43m \u001b[49m\u001b[43mextobj\u001b[49m\u001b[38;5;241;43m=\u001b[39;49m\u001b[43mextobj\u001b[49m\u001b[43m)\u001b[49m\n\u001b[1;32m    929\u001b[0m \u001b[38;5;66;03m# handle modes that don't return q\u001b[39;00m\n\u001b[1;32m    930\u001b[0m \u001b[38;5;28;01mif\u001b[39;00m mode \u001b[38;5;241m==\u001b[39m \u001b[38;5;124m'\u001b[39m\u001b[38;5;124mr\u001b[39m\u001b[38;5;124m'\u001b[39m:\n",
      "\u001b[0;31mKeyboardInterrupt\u001b[0m: "
     ]
    }
   ],
   "source": [
    "# error parameter and angle degree relation\n",
    "# for more information, see example.ipynb\n",
    "# 0.035 -> 2.8 degrees; 0.07-> 5.6 degrees; 0.108 -> 8.6 degrees; 0.13 -> 11 degrees;  \n",
    "# 0.18 -> 14 degrees; 0.25 -> 19 degrees; 0.35 -> 26 degrees; 0.4 -> 30 degrees; 0.5 -> 36 degrees; \n",
    "error_rate_iter_arrays = [\n",
    "    [0.0, [100, 110, 120, 130, 140, 160, 180, 200]],\n",
    "    [0.108, [120, 130, 140, 150, 160]],\n",
    "    [0.18, [130, 140, 150, 160]],\n",
    "    [0.25, [130, 140, 150, 160]],\n",
    "    [0.35, [160, 170, 180, 190]],\n",
    "    [0.4, [160, 170, 180, 190]],\n",
    "    [0.5, [180, 190, 200, 220, 240]],\n",
    "]\n",
    "\n",
    "iteration_number = 20000\n",
    "for error_rate_iter_array in error_rate_iter_arrays:\n",
    "    error_rate = error_rate_iter_array[0]\n",
    "    iter_array = error_rate_iter_array[1]\n",
    "    iter_array.reverse()\n",
    "    for tmpk in iter_array:        \n",
    "        success_num = 0\n",
    "        run_time = iteration_number\n",
    "        # for efficiency, we generate n = 4 * dimension + 1 sketches from the same original template with noise, and \n",
    "        # test at each time randomly selecting three sketches from this n sketches. \n",
    "        # take this three sketches as our puzzle\n",
    "        w, cs, isometric_matrixes, coserrors = sampler.generate_puzzle_n(dimension, alpha, error_rate=error_rate, dimension= 4 * dimension + 1, disable_tqdm=False)\n",
    "        for i in (pbar:=tqdm(range(iteration_number))):\n",
    "            # random select three templates from isometric_matrixes and get new_cs and new_isometric_matrixes\n",
    "            index = np.random.choice(len(cs), 3, replace=False)\n",
    "            new_cs = [cs[index[1]], cs[index[2]]]\n",
    "            new_isometric_matrixes = [isometric_matrixes[index[i+1]] @ isometric_matrixes[index[0]].T for i in range(len(new_cs))]\n",
    "            tmp_result = local_search_one_time(dimension, alpha, generate_puzzle_local_search(new_cs, new_isometric_matrixes, k=tmpk), iteration_number=iteration_number, disable_flag=True, a=cs[index[0]], threshold=error_rate * 1.3)\n",
    "            if tmp_result:\n",
    "                success_num += 1\n",
    "            pbar.set_postfix({\"Success Rate\": success_num/(i+1), \"Success Number\": success_num})\n",
    "            # break if getting enough success times(for efficiency)\n",
    "            if success_num > 100 and i > 1000:\n",
    "                run_time = i + 1\n",
    "                break\n",
    "        # store threshold_array in file with name \"threshold_array_k\" in directory \"data\"\n",
    "        np.save(f\"data_with_noise_3/threshold_array_{tmpk}_{error_rate}_success_num_run_time\", [success_num, run_time])"
   ]
  },
  {
   "cell_type": "markdown",
   "metadata": {},
   "source": [
    "### Estimate\n",
    "how many iteration times need to output original template, multiply inner iteration time of local search algorithm is the estimated time for running whole algorithm "
   ]
  },
  {
   "cell_type": "code",
   "execution_count": 12,
   "metadata": {},
   "outputs": [
    {
     "name": "stdout",
     "output_type": "stream",
     "text": [
      "130 success rate:0.000700  success number: 14  inverse of success rate:  1428.5714285714287  Expected iteration number:  19791281\n",
      "140 success rate:0.001100  success number: 22  inverse of success rate:  909.0909090909091  Expected iteration number:  29948501\n",
      "150 success rate:0.002800  success number: 56  inverse of success rate:  357.14285714285717  Expected iteration number:  28659904\n",
      "160 success rate:0.003950  success number: 79  inverse of success rate:  253.16455696202533  Expected iteration number:  50765576\n",
      "180 success rate:0.011256  success number: 101  inverse of success rate:  88.84158415841584  Expected iteration number:  120816334\n",
      "240 success rate:0.075149  success number: 101  inverse of success rate:  13.306930693069306  Expected iteration number:  12576063406\n"
     ]
    }
   ],
   "source": [
    "import numpy as np\n",
    "import os\n",
    "import math\n",
    "\n",
    "# 0.035 -> 2.8 degrees; 0.07-> 5.6 degrees; 0.108 -> 8.6 degrees; 0.13 -> 11 degrees;  \n",
    "# 0.18 -> 14 degrees; 0.25 -> 19 degrees; 0.35 -> 26 degrees; 0.4 -> 30 degrees; 0.5 -> 36 degrees; \n",
    "error_rate = 0.25\n",
    "for i in [90, 100, 110, 120, 130, 140, 150, 160, 170, 180, 190, 200, 210, 220, 230, 240, 250, 260]:\n",
    "    threshold_array = []\n",
    "    if os.path.exists(\"data_with_noise_3_history/threshold_array_{}_{}_success_num_run_time.npy\".format(i, error_rate)):\n",
    "        results = np.load(\"data_with_noise_3_history/threshold_array_{}_{}_success_num_run_time.npy\".format(i, error_rate))\n",
    "        success_num = results[0]\n",
    "        run_time = results[1]\n",
    "        whole_run_num = run_time\n",
    "        if success_num == 0: continue\n",
    "        print(\"{}\".format(i), \"success rate:{:.6f}\".format(success_num / whole_run_num), \" success number:\", success_num, \" inverse of success rate: \", whole_run_num / success_num, \" Expected iteration number: \", math.ceil(whole_run_num / success_num * 2 ** (subset_n_a_k(512, 16, i) * 2)))\n",
    "        continue"
   ]
  },
  {
   "cell_type": "markdown",
   "metadata": {},
   "source": [
    "###  Test for getting (tmpk + 1) sketches"
   ]
  },
  {
   "cell_type": "markdown",
   "metadata": {},
   "source": [
    "run time"
   ]
  },
  {
   "cell_type": "code",
   "execution_count": null,
   "metadata": {},
   "outputs": [],
   "source": [
    "whole_time = 0\n",
    "tmp_inner = 100\n",
    "tmp_outer = 10\n",
    "tmpk = 260 * 2\n",
    "error_rate = 0.5\n",
    "for _ in (pbar:= tqdm(range(tmp_outer), desc=\"Outer loop\")):\n",
    "    w, cs, isometric_matrixes, coserrors = sampler.generate_puzzle_n(dimension, alpha, error_rate=error_rate, n=tmpk + 1, disable_tqdm=True)\n",
    "    new_isometric_matrixes = [isometric_matrixes[i] @ isometric_matrixes[0].T for i in range(1, len(isometric_matrixes))]\n",
    "    new_cs = [cs[i] for i in range(1, len(cs))]\n",
    "    puzzle = generate_puzzle_local_search_random(new_cs, new_isometric_matrixes, k=1)\n",
    "    whole_time += local_search_each_runtime(dimension, alpha, puzzle, disable_flag=True, each_runtime=tmp_inner)\n",
    "    pbar.set_postfix({\"Whole Time\": whole_time})\n",
    "print(\"Average inner running time: \", whole_time / (tmp_outer * tmp_inner))\n",
    "print(\"Whole Time: \", whole_time)"
   ]
  },
  {
   "cell_type": "markdown",
   "metadata": {},
   "source": [
    "average success rate"
   ]
  },
  {
   "cell_type": "code",
   "execution_count": 15,
   "metadata": {},
   "outputs": [
    {
     "ename": "TypeError",
     "evalue": "generate_puzzle_n() got multiple values for argument 'dimension'",
     "output_type": "error",
     "traceback": [
      "\u001b[0;31m---------------------------------------------------------------------------\u001b[0m",
      "\u001b[0;31mTypeError\u001b[0m                                 Traceback (most recent call last)",
      "Cell \u001b[0;32mIn[15], line 24\u001b[0m\n\u001b[1;32m     21\u001b[0m t_thrshold \u001b[38;5;241m=\u001b[39m \u001b[38;5;241m0\u001b[39m\n\u001b[1;32m     22\u001b[0m \u001b[38;5;66;03m# for efficiency, we generate 4 * dimension + 1 sketches from the same original template with noise, take first sketch and\u001b[39;00m\n\u001b[1;32m     23\u001b[0m \u001b[38;5;66;03m# test at each time randomly selecting tmpk sketches from these sketches, using these sketches as our puzzle\u001b[39;00m\n\u001b[0;32m---> 24\u001b[0m w, cs, isometric_matrixes, coserrors \u001b[38;5;241m=\u001b[39m \u001b[43msampler\u001b[49m\u001b[38;5;241;43m.\u001b[39;49m\u001b[43mgenerate_puzzle_n\u001b[49m\u001b[43m(\u001b[49m\u001b[43mdimension\u001b[49m\u001b[43m,\u001b[49m\u001b[43m \u001b[49m\u001b[43malpha\u001b[49m\u001b[43m,\u001b[49m\u001b[43m \u001b[49m\u001b[43merror_rate\u001b[49m\u001b[38;5;241;43m=\u001b[39;49m\u001b[43merror_rate\u001b[49m\u001b[43m,\u001b[49m\u001b[43m \u001b[49m\u001b[43mdimension\u001b[49m\u001b[43m \u001b[49m\u001b[38;5;241;43m=\u001b[39;49m\u001b[43m \u001b[49m\u001b[38;5;241;43m4\u001b[39;49m\u001b[43m \u001b[49m\u001b[38;5;241;43m*\u001b[39;49m\u001b[43m \u001b[49m\u001b[43mdimension\u001b[49m\u001b[43m \u001b[49m\u001b[38;5;241;43m+\u001b[39;49m\u001b[43m \u001b[49m\u001b[38;5;241;43m1\u001b[39;49m\u001b[43m,\u001b[49m\u001b[43m \u001b[49m\u001b[43mdisable_tqdm\u001b[49m\u001b[38;5;241;43m=\u001b[39;49m\u001b[38;5;28;43;01mFalse\u001b[39;49;00m\u001b[43m)\u001b[49m\n\u001b[1;32m     25\u001b[0m new_isometric_matrixes \u001b[38;5;241m=\u001b[39m [isometric_matrixes[i] \u001b[38;5;241m@\u001b[39m isometric_matrixes[\u001b[38;5;241m0\u001b[39m]\u001b[38;5;241m.\u001b[39mT \u001b[38;5;28;01mfor\u001b[39;00m i \u001b[38;5;129;01min\u001b[39;00m \u001b[38;5;28mrange\u001b[39m(\u001b[38;5;241m1\u001b[39m, \u001b[38;5;28mlen\u001b[39m(isometric_matrixes))]\n\u001b[1;32m     26\u001b[0m new_cs \u001b[38;5;241m=\u001b[39m [cs[i] \u001b[38;5;28;01mfor\u001b[39;00m i \u001b[38;5;129;01min\u001b[39;00m \u001b[38;5;28mrange\u001b[39m(\u001b[38;5;241m1\u001b[39m, \u001b[38;5;28mlen\u001b[39m(cs))]\n",
      "\u001b[0;31mTypeError\u001b[0m: generate_puzzle_n() got multiple values for argument 'dimension'"
     ]
    }
   ],
   "source": [
    "# 0.035 -> 2.8 degrees; 0.07-> 5.6 degrees; 0.108 -> 8.6 degrees; 0.13 -> 11 degrees;  \n",
    "# 0.18 -> 14 degrees; 0.25 -> 19 degrees; 0.35 -> 26 degrees; 0.4 -> 30 degrees; 0.5 -> 36 degrees; \n",
    "error_rate_iter_arrays = [\n",
    "    [0.0, [130, 140, 150, 160, 170, 180]],\n",
    "    [0.108, [150, 160, 170]],\n",
    "    [0.18, [150, 160, 170]],\n",
    "    [0.25, [150, 160, 170]],\n",
    "    [0.35, [180, 190, 200, 210, 220]],\n",
    "    [0.4, [180, 190, 200, 210, 220]],\n",
    "    [0.5, [250, 260, 270, 280, 290, 300]],\n",
    "]\n",
    "iteration_number = 20000\n",
    "for error_rate_iter_array in error_rate_iter_arrays:\n",
    "    error_rate = error_rate_iter_array[0]\n",
    "    iter_array = error_rate_iter_array[1]        # true tmpk = 2 * iter_array\n",
    "    iter_array.reverse()\n",
    "    for tmpk in iter_array:        \n",
    "        tmpk *= 2\n",
    "        success_num = 0\n",
    "        run_time = iteration_number\n",
    "        t_thrshold = 0\n",
    "        # for efficiency, we generate 4 * dimension + 1 sketches from the same original template with noise, take first sketch and\n",
    "        # test at each time randomly selecting tmpk sketches from these sketches, using these sketches as our puzzle\n",
    "        w, cs, isometric_matrixes, coserrors = sampler.generate_puzzle_n(dimension, alpha, error_rate=error_rate, n = 4 * dimension + 1, disable_tqdm=False)\n",
    "        new_isometric_matrixes = [isometric_matrixes[i] @ isometric_matrixes[0].T for i in range(1, len(isometric_matrixes))]\n",
    "        new_cs = [cs[i] for i in range(1, len(cs))]\n",
    "        a = cs[0]\n",
    "        for i in (pbar:=tqdm(range(iteration_number))):\n",
    "            index = np.random.choice(len(new_cs), tmpk, replace=False)\n",
    "            tmp_new_isometric_matrixes = [new_isometric_matrixes[index[i]] for i in range(0, tmpk)]\n",
    "            tmp_new_bs = [new_cs[index[i]] for i in range(0, tmpk)]\n",
    "            tmp_result = local_search_one_time(dimension, alpha, generate_puzzle_local_search(tmp_new_bs, tmp_new_isometric_matrixes, k=1), iteration_number=iteration_number, disable_flag=True, a=cs[0], threshold=error_rate * 1.3)\n",
    "            if tmp_result:\n",
    "                success_num += 1\n",
    "            pbar.set_postfix({\"Success Rate\": success_num/(i+1), \"Success Number\": success_num})\n",
    "            if success_num > 100 and i > 1000:\n",
    "                run_time = i\n",
    "                break\n",
    "        np.save(f\"data_with_noise_k/threshold_array_{tmpk}_{error_rate}_success_num_run_time\", [success_num, run_time])"
   ]
  },
  {
   "cell_type": "markdown",
   "metadata": {},
   "source": [
    "### Estimate\n",
    "how many iteration times need to output original template, multiply inner iteration time of local search algorithm is the estimated time for running whole algorithm "
   ]
  },
  {
   "cell_type": "code",
   "execution_count": 16,
   "metadata": {},
   "outputs": [
    {
     "name": "stdout",
     "output_type": "stream",
     "text": [
      "260 success rate:0.000600  success number: 12  inverse of success rate:  1666.6666666666667  Expected iteration number:  6409184\n",
      "280 success rate:0.001350  success number: 27  inverse of success rate:  740.7407407407408  Expected iteration number:  5375092\n",
      "300 success rate:0.002200  success number: 44  inverse of success rate:  454.54545454545456  Expected iteration number:  6223901\n",
      "320 success rate:0.002900  success number: 58  inverse of success rate:  344.82758620689657  Expected iteration number:  8909494\n",
      "340 success rate:0.006110  success number: 101  inverse of success rate:  163.65346534653466  Expected iteration number:  7978880\n",
      "360 success rate:0.010451  success number: 101  inverse of success rate:  95.68316831683168  Expected iteration number:  8802742\n"
     ]
    }
   ],
   "source": [
    "import numpy as np\n",
    "import os\n",
    "import math\n",
    "\n",
    "# 0.035 -> 2.8 degrees; 0.07-> 5.6 degrees; 0.108 -> 8.6 degrees; 0.13 -> 11 degrees;  \n",
    "# 0.18 -> 14 degrees; 0.25 -> 19 degrees; 0.35 -> 26 degrees; 0.4 -> 30 degrees; 0.5 -> 36 degrees; \n",
    "\n",
    "error_rate = 0.0\n",
    "for i in [90, 100, 110, 120, 130, 140, 150, 160, 170, 180, 190, 200, 210, 220, 230, 240, 250, 260, 270, 280, 290, 300]:\n",
    "    i = i * 2\n",
    "    if os.path.exists(\"data_with_noise_k/threshold_array_{}_{}_success_num_run_time.npy\".format(i, error_rate)):\n",
    "        results = np.load(\"data_with_noise_k/threshold_array_{}_{}_success_num_run_time.npy\".format(i, error_rate))\n",
    "        success_num = results[0]\n",
    "        run_time = results[1]\n",
    "        whole_run_num = run_time\n",
    "        if success_num == 0: continue\n",
    "        print(\"{}\".format(i), \"success rate:{:.6f}\".format(success_num / whole_run_num), \" success number:\", success_num, \" inverse of success rate: \", whole_run_num / success_num, \" Expected iteration number: \", math.ceil(whole_run_num / success_num * 2 ** (subset_n_a_k(512, 16, 1) * i)))\n",
    "        continue"
   ]
  }
 ],
 "metadata": {
  "kernelspec": {
   "display_name": "intel-attack-m",
   "language": "python",
   "name": "python3"
  },
  "language_info": {
   "codemirror_mode": {
    "name": "ipython",
    "version": 3
   },
   "file_extension": ".py",
   "mimetype": "text/x-python",
   "name": "python",
   "nbconvert_exporter": "python",
   "pygments_lexer": "ipython3",
   "version": "3.10.11"
  }
 },
 "nbformat": 4,
 "nbformat_minor": 2
}
