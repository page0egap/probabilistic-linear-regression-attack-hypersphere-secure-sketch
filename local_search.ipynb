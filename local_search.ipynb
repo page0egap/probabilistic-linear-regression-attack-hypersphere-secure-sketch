{
 "cells": [
  {
   "cell_type": "code",
   "execution_count": null,
   "metadata": {},
   "outputs": [],
   "source": [
    "import utils\n",
    "from tqdm.notebook import tqdm\n",
    "import sample as sampler\n",
    "import numpy as np\n",
    "dimension = 512\n",
    "alpha = 2  # alpha error correcting parameter"
   ]
  },
  {
   "cell_type": "markdown",
   "metadata": {},
   "source": [
    "# Utils"
   ]
  },
  {
   "cell_type": "code",
   "execution_count": 2,
   "metadata": {},
   "outputs": [],
   "source": [
    "import numpy as np\n",
    "def subset_n_a_k(n, a, k):\n",
    "    result = 0\n",
    "    for i in range(k):\n",
    "        result += np.log2(n-i) - np.log2(n-a-i)\n",
    "    return result"
   ]
  },
  {
   "cell_type": "code",
   "execution_count": 8,
   "metadata": {},
   "outputs": [
    {
     "data": {
      "text/plain": [
       "np.float64(17.08370452126612)"
      ]
     },
     "execution_count": 8,
     "metadata": {},
     "output_type": "execute_result"
    }
   ],
   "source": [
    "subset_n_a_k(512, 2, 485) * 2"
   ]
  },
  {
   "cell_type": "code",
   "execution_count": 9,
   "metadata": {},
   "outputs": [],
   "source": [
    "def generate_puzzle_local_search(new_bs, new_isometric_matrixes, k=160):\n",
    "    \"\"\"\n",
    "    Behave as linear equation sampler that output \"correct\" matrix.\n",
    "\n",
    "    generate matrix with row vectors orthognal to orignal template by randomly selecting from new_isometric_matrixes based on new_bs's 0 indices.\n",
    "    k indicates the number of row vectors to be selected from each isometric matrix, thus the total number of equations is k*len(new_isometric_matrixes)\n",
    "    \"\"\"\n",
    "    sub_matrixes = []\n",
    "    for b, isometric_matrix in zip(new_bs, new_isometric_matrixes):\n",
    "        indexb = np.where(np.abs(b) < 0.1)[0]\n",
    "        # get random subset of shape n of indexb\n",
    "        indexbb = np.random.choice(indexb, k, replace=False)\n",
    "        sub_matrixes.append(isometric_matrix[indexbb, :])\n",
    "\n",
    "    return np.concatenate(sub_matrixes, axis=0)\n",
    "\n",
    "def generate_puzzle_local_search_random(new_bs, new_isometric_matrixes, k = 160):\n",
    "    \"\"\"\n",
    "    Behave as linear equation sampler.\n",
    "\n",
    "    generate matrix with row vector from new_isometric_matrixes randomly,\n",
    "    k indicates the number of row vectors to be selected from each isometric matrix, thus the total number of equations is k*len(new_isometric_matrixes)\n",
    "    \"\"\"\n",
    "    sub_matrixes = []\n",
    "    for b, isometric_matrix in zip(new_bs, new_isometric_matrixes):\n",
    "        # get random subset of shape n of indexb\n",
    "        indexbb = np.random.choice(b.shape[0], k, replace=False)\n",
    "        sub_matrixes.append(isometric_matrix[indexbb, :])\n",
    "\n",
    "    return np.concatenate(sub_matrixes, axis=0)"
   ]
  },
  {
   "cell_type": "code",
   "execution_count": 10,
   "metadata": {},
   "outputs": [],
   "source": [
    "import time\n",
    "def local_search_each_runtime(dimension, alpha, sub_matrix, disable_flag=False, each_runtime=1000):\n",
    "    \"\"\"\n",
    "    Test local search run time of inner iteration. Return time = time of inner iteration * each_runtime(number of outer iteration).\n",
    "    \"\"\"\n",
    "    times = 0\n",
    "    # time start\n",
    "    start = time.time()\n",
    "    for _ in (pbar:=tqdm(range(each_runtime), disable=disable_flag, leave=True)):\n",
    "        theta = sampler.sample_codeword(dimension, alpha)\n",
    "        flag = False\n",
    "        # Since the inner iteration could early terminate, thus `800` is unreachable\n",
    "        for _ in range(800):\n",
    "            tmpb = sub_matrix @ theta\n",
    "            # get the norm of tmpb\n",
    "            normb = np.linalg.norm(tmpb)\n",
    "            # get the index of tmpb where are not zero and iterate on it\n",
    "            nonzero = np.where(np.abs(theta) > 0.1)[0]\n",
    "            thetab = None\n",
    "            tmp_sub_matrix = sub_matrix.copy()\n",
    "            # set columns in non_zero positions with 10 * np.ones\n",
    "            tmp_sub_matrix[:, nonzero] = 10 * np.ones((sub_matrix.shape[0], len(nonzero)))\n",
    "            for j1 in nonzero:\n",
    "                tmpbb = tmpb - theta[j1] * sub_matrix[:, j1]\n",
    "                # add\n",
    "                tmpbbb = tmp_sub_matrix + tmpbb[:, np.newaxis]\n",
    "                normbbb = np.linalg.norm(tmpbbb, axis=0)\n",
    "                # get min value and index of normbbb\n",
    "                min_index = np.argmin(normbbb)\n",
    "                min_value = normbbb[min_index]\n",
    "                if min_value < normb:\n",
    "                    thetab = theta.copy()\n",
    "                    thetab[j1] = 0\n",
    "                    thetab[min_index] = 1\n",
    "                    normb = min_value\n",
    "                # sub\n",
    "                tmpbbb =  tmpbb[:, np.newaxis] - tmp_sub_matrix\n",
    "                normbbb = np.linalg.norm(tmpbbb, axis=0)\n",
    "                # get min value and index of normbbb\n",
    "                min_index = np.argmin(normbbb)\n",
    "                min_value = normbbb[min_index]\n",
    "                if min_value < normb:\n",
    "                    thetab = theta.copy()\n",
    "                    thetab[j1] = 0\n",
    "                    thetab[min_index] = -1\n",
    "                    normb = min_value\n",
    "            # pbar update\n",
    "            pbar.set_postfix({\"norm\": normb})\n",
    "            if thetab is not None:\n",
    "                theta = thetab\n",
    "                continue\n",
    "            else:\n",
    "                flag = True\n",
    "                break\n",
    "        if flag:\n",
    "            times += 1\n",
    "        pbar.set_postfix({\"Reach ending times\": times})\n",
    "    end = time.time()\n",
    "    slap_time = end - start\n",
    "    return slap_time"
   ]
  },
  {
   "cell_type": "markdown",
   "metadata": {},
   "source": [
    "# TEST"
   ]
  },
  {
   "cell_type": "markdown",
   "metadata": {},
   "source": [
    "## Test for getting 3 sketches"
   ]
  },
  {
   "cell_type": "markdown",
   "metadata": {},
   "source": [
    "average running time"
   ]
  },
  {
   "cell_type": "code",
   "execution_count": null,
   "metadata": {},
   "outputs": [],
   "source": [
    "# time testing\n",
    "import math\n",
    "whole_time = 0\n",
    "tmp_inner = 100\n",
    "tmp_outer = 10\n",
    "tmpk = 200\n",
    "error_rate = 0.55\n",
    "for _ in (pbar:= tqdm(range(tmp_outer), desc=\"Outer loop\")):\n",
    "    # need to control n to indicate the number of sketches(default = 3)\n",
    "    w, cs, isometric_matrixes, coserrors = sampler.generate_puzzle_n(dimension, alpha, error_rate=error_rate, n=3, disable_tqdm=True)\n",
    "    # generate matrix M'\n",
    "    new_isometric_matrixes = [isometric_matrixes[i] @ isometric_matrixes[0].T for i in range(1, len(isometric_matrixes))]\n",
    "    new_cs = [cs[i] for i in range(1, len(cs))]\n",
    "    # need to control k (set tmpk) to indicate the number of row vectors to be selected from each isometric matrix\n",
    "    whole_time += local_search_each_runtime(dimension, alpha, generate_puzzle_local_search_random(new_cs, new_isometric_matrixes, k=tmpk), disable_flag=True, each_runtime=tmp_inner)\n",
    "    pbar.set_postfix({\"Whole Time\": whole_time})\n",
    "print(\"Average time for each inner iteration:\", whole_time / (tmp_outer * tmp_inner) * 1000, \"ms\")\n",
    "print(\"Whole Time:\", whole_time, \"seconds\")"
   ]
  },
  {
   "cell_type": "markdown",
   "metadata": {},
   "source": [
    "average success rate\n",
    "\n",
    "given error rate and numbe of sampled linear equations in each matrix, experiment and get the rate of successfully solving a close enough solution to original template."
   ]
  },
  {
   "cell_type": "code",
   "execution_count": null,
   "metadata": {},
   "outputs": [],
   "source": [
    "import ironmask\n",
    "import attacker\n",
    "# error parameter and angle degree relation\n",
    "# for more information, see example.ipynb\n",
    "# 0.035 -> 2.8 degrees; 0.07-> 5.6 degrees; 0.108 -> 8.6 degrees; 0.13 -> 11 degrees;  \n",
    "# 0.18 -> 14 degrees; 0.25 -> 19 degrees; 0.35 -> 26 degrees; 0.4 -> 30 degrees; 0.5 -> 36 degrees; \n",
    "error_rate_iter_arrays = [\n",
    "    # [0.0, [60, 70, 80, 90]],\n",
    "    # [0.0, [100, 110, 120, 130, 140, 160, 180, 200]],\n",
    "    # [0.108, [120, 130, 140, 150, 160]],\n",
    "    # [0.18, [130, 140, 150, 160]],\n",
    "    # [0.25, [130, 140, 150, 160]],\n",
    "    # [0.35, [160, 170, 180, 190]],\n",
    "    # [0.4, [170]],\n",
    "    # [0.4, [160, 170, 180, 190]],\n",
    "    # [0.5, [180]],\n",
    "    # [0.5, [180, 190, 200, 220, 240]],\n",
    "    # [0.6, [200, 210]],\n",
    "    # [0.6, [200, 220, 240, 260, 280, 300]],\n",
    "    [0.75, [310, 320, 330, 340]],       \n",
    "    # [0.75, [220, 240, 260, 280, 300, 350, 400]],\n",
    "    # [0.92, [220]]         \n",
    "]\n",
    "\n",
    "k = 3   # number of sketches\n",
    "iteration_number = 40000    # test times\n",
    "angle_vec = []\n",
    "for error_rate_iter_array in error_rate_iter_arrays:\n",
    "    error_rate = error_rate_iter_array[0]\n",
    "    iter_array = error_rate_iter_array[1]\n",
    "    iter_array.reverse()\n",
    "    for tmpk in iter_array:        \n",
    "        success_num = 0\n",
    "        fake_num = 0\n",
    "        wrong_num = 0\n",
    "        run_time = 0\n",
    "        angle = 90\n",
    "        angle_min = 90\n",
    "        # for efficiency, we generate n = 4 * dimension + 1 sketches from the same original template with noise, and \n",
    "        # test at each time randomly selecting three sketches from this n sketches. \n",
    "        # take this three sketches as our puzzle\n",
    "        w, cs, isometric_matrixes, coserrors = sampler.generate_puzzle_n(dimension, alpha, error_rate=error_rate, n= 4 * dimension + 1, disable_tqdm=False)\n",
    "        for i in (pbar:=tqdm(range(iteration_number // 100))):\n",
    "            # random select three templates from isometric_matrixes and get new_cs and new_isometric_matrixes\n",
    "            index = np.random.choice(len(cs), k, replace=False)\n",
    "            new_cs = [cs[index[i]] for i in range(k)]\n",
    "            new_isometric_matrixes = [isometric_matrixes[index[i]] for i in range(k)]\n",
    "            _, theta, tmp_run_times  = attacker.solve_puzzle_with_n_matrix_known_places(new_isometric_matrixes, new_cs, dimension, alpha, max_rtimes=100, disable_flag=True, threshold=53, algorithm=\"LSA\", disable_tqdm=True, k_each_matrix=tmpk, error_rate=1.0, return_runtimes = True)\n",
    "            if theta is not None:\n",
    "                guess_cs_1 = new_isometric_matrixes[1] @ new_isometric_matrixes[0].T @ theta\n",
    "                guess_cs_1 = ironmask.decode_codeword(guess_cs_1, dimension, alpha)\n",
    "                angle = min(utils.get_angle_of_two_vectors(new_cs[1], guess_cs_1), utils.get_angle_of_two_vectors(-new_cs[1], guess_cs_1))\n",
    "                angle_vec.append(angle)\n",
    "                if np.allclose(theta, new_cs[0]) or np.allclose(-theta, new_cs[0]):\n",
    "                    success_num += 1\n",
    "                elif angle <= 0.01:\n",
    "                    fake_num += 1\n",
    "                else:\n",
    "                    wrong_num += 1\n",
    "                    angle_min = min(angle, angle_min)\n",
    "            run_time += tmp_run_times\n",
    "            pbar.set_postfix({\"Success Rate\": success_num/(i+1), \"Success Number\": success_num, \"Fake Number\": fake_num , \"Angle\": angle, \"Min Angle\": angle_min, \"Run Time\": run_time})\n",
    "            # break if getting enough success times(for efficiency)\n",
    "            if success_num > 100 and i > 1000:\n",
    "                break\n",
    "        # store threshold_array in file with name \"threshold_array_k\" in directory \"data\"\n",
    "        np.save(f\"data_with_noise_{k}/threshold_array_{tmpk}_{error_rate}_success_num_run_time\", [success_num, run_time, fake_num, wrong_num])"
   ]
  },
  {
   "cell_type": "markdown",
   "metadata": {},
   "source": [
    "### Estimate\n",
    "how many iteration times need to output original template. (need to manually calculate) multiply inner iteration time of local search algorithm is the estimated time for running whole algorithm "
   ]
  },
  {
   "cell_type": "code",
   "execution_count": null,
   "metadata": {},
   "outputs": [],
   "source": [
    "import numpy as np\n",
    "import os\n",
    "import math\n",
    "\n",
    "# 0.035 -> 2.8 degrees; 0.07-> 5.6 degrees; 0.108 -> 8.6 degrees; 0.13 -> 11 degrees;  \n",
    "# 0.18 -> 14 degrees; 0.25 -> 19 degrees; 0.35 -> 26 degrees; 0.4 -> 30 degrees; 0.5 -> 36 degrees; \n",
    "error_rate = 0.18\n",
    "for i in [90, 100, 110, 120, 130, 140, 150, 160, 170, 180, 190, 200, 210, 220, 230, 240, 250, 260, 280, 290, 300, 310, 320, 330, 340, 350, 400]:\n",
    "    threshold_array = []\n",
    "    if os.path.exists(\"data_with_noise_3/threshold_array_{}_{}_success_num_run_time.npy\".format(i, error_rate)):\n",
    "        results = np.load(\"data_with_noise_3/threshold_array_{}_{}_success_num_run_time.npy\".format(i, error_rate))\n",
    "        success_num = results[0]\n",
    "        run_time = results[1]\n",
    "        fake_num = 0 if len(results) <= 2 else results[2]\n",
    "        whole_run_num = run_time\n",
    "        if success_num == 0: \n",
    "            inverse_off_success_rate = 0\n",
    "            expected_run_times = 0\n",
    "        else:\n",
    "            inverse_off_success_rate = whole_run_num / success_num\n",
    "            expected_run_times = math.ceil(whole_run_num / success_num * 2 ** (subset_n_a_k(512, 16, i) * 2))\n",
    "        print(\"{}\".format(i), \"success rate:{:.6f}\".format(success_num / whole_run_num), \" success number:\", success_num, \" fake number\", fake_num, \" inverse of success rate: \", inverse_off_success_rate, \" Expected iteration number: \", \"{:.6e}\".format(expected_run_times))\n",
    "        continue"
   ]
  },
  {
   "cell_type": "markdown",
   "metadata": {},
   "source": [
    "##  Test for getting (tmpk + 1) sketches"
   ]
  },
  {
   "cell_type": "markdown",
   "metadata": {},
   "source": [
    "run time"
   ]
  },
  {
   "cell_type": "code",
   "execution_count": null,
   "metadata": {},
   "outputs": [],
   "source": [
    "from tqdm import tqdm\n",
    "whole_time = 0\n",
    "tmp_inner = 100\n",
    "tmp_outer = 10\n",
    "tmpk = 170 * 2\n",
    "error_rate = 0.6\n",
    "for _ in (pbar:= tqdm(range(tmp_outer), desc=\"Outer loop\")):\n",
    "    w, cs, isometric_matrixes, coserrors = sampler.generate_puzzle_n(dimension, alpha, error_rate=error_rate, n=tmpk + 1, disable_tqdm=True)\n",
    "    new_isometric_matrixes = [isometric_matrixes[i] @ isometric_matrixes[0].T for i in range(1, len(isometric_matrixes))]\n",
    "    new_cs = [cs[i] for i in range(1, len(cs))]\n",
    "    puzzle = generate_puzzle_local_search_random(new_cs, new_isometric_matrixes, k=1)\n",
    "    whole_time += local_search_each_runtime(dimension, alpha, puzzle, disable_flag=True, each_runtime=tmp_inner)\n",
    "    pbar.set_postfix({\"Whole Time\": whole_time})\n",
    "print(\"Average inner running time: \", whole_time / (tmp_outer * tmp_inner) * 1000, \"ms\")\n",
    "print(\"Whole Time: \", whole_time, \"seconds\")"
   ]
  },
  {
   "cell_type": "markdown",
   "metadata": {},
   "source": [
    "average success rate"
   ]
  },
  {
   "cell_type": "code",
   "execution_count": null,
   "metadata": {},
   "outputs": [],
   "source": [
    "import attacker\n",
    "import ironmask\n",
    "# 0.035 -> 2.8 degrees; 0.07-> 5.6 degrees; 0.108 -> 8.6 degrees; 0.13 -> 11 degrees;  \n",
    "# 0.18 -> 14 degrees; 0.25 -> 19 degrees; 0.35 -> 26 degrees; 0.4 -> 30 degrees; 0.5 -> 36 degrees; \n",
    "error_rate_iter_arrays = [\n",
    "    [0.0, [130, 140, 150, 160, 170, 180]],\n",
    "    # [0.108, [150, 160, 170]],\n",
    "    # [0.18, [150, 160, 170]],\n",
    "    # [0.25, [150, 160, 170]],\n",
    "    # [0.35, [180, 190, 200, 210, 220]],\n",
    "    # [0.4, [180, 190, 200, 210, 220]],\n",
    "    # [0.5, [250, 260, 270, 280, 290, 300]],\n",
    "    # [0.6, [320, 330, 340]],\n",
    "    # [0.75, [620, 650, 670]],\n",
    "    # [0.92, [800, 900, 1000]]\n",
    "]\n",
    "iteration_number = 20000\n",
    "for error_rate_iter_array in error_rate_iter_arrays:\n",
    "    error_rate = error_rate_iter_array[0]\n",
    "    iter_array = error_rate_iter_array[1]        # true tmpk = 2 * iter_array\n",
    "    iter_array.reverse()\n",
    "    for tmpk in iter_array:        \n",
    "        tmpk *= 2\n",
    "        success_num = 0\n",
    "        fake_num = 0\n",
    "        wrong_num = 0\n",
    "        angle_min = 180\n",
    "        angle = 180\n",
    "        run_time = 0\n",
    "        t_thrshold = 0\n",
    "        # for efficiency, we generate 4 * dimension + 1 sketches from the same original template with noise, take first sketch and\n",
    "        # test at each time randomly selecting tmpk sketches from these sketches, using these sketches as our puzzle\n",
    "        w, cs, isometric_matrixes, coserrors = sampler.generate_puzzle_n(dimension, alpha, error_rate=error_rate, n = 2 * dimension + 1, disable_tqdm=False)\n",
    "        for i in (pbar:=tqdm(range(iteration_number // 100))):\n",
    "            index = np.random.choice(len(cs), tmpk, replace=False)\n",
    "            new_isometric_matrixes = [isometric_matrixes[i] for i in index]\n",
    "            new_cs = [cs[i] for i in index]\n",
    "            _, theta, tmp_run_times = attacker.solve_puzzle_with_n_matrix_known_places(new_isometric_matrixes, new_cs, dimension, alpha, max_rtimes=100, disable_flag=True, threshold=60, algorithm=\"LSA\", disable_tqdm=True, k_each_matrix=1, error_rate=1.0, return_runtimes=True)\n",
    "            if theta is not None:\n",
    "                guess_cs_1 = new_isometric_matrixes[1] @ new_isometric_matrixes[0].T @ theta\n",
    "                guess_cs_1 = ironmask.decode_codeword(guess_cs_1, dimension, alpha)\n",
    "                angle = min(utils.get_angle_of_two_vectors(new_cs[1], guess_cs_1), utils.get_angle_of_two_vectors(-new_cs[1], guess_cs_1))\n",
    "                # angle_vec.append(angle)\n",
    "                if np.allclose(theta, new_cs[0]) or np.allclose(-theta, new_cs[0]):\n",
    "                    success_num += 1\n",
    "                elif angle <= 0.01:\n",
    "                    fake_num += 1\n",
    "                else:\n",
    "                    wrong_num += 1\n",
    "                    angle_min = min(angle, angle_min)\n",
    "            pbar.set_postfix({\"Success Rate\": success_num/(i+1), \"Success Number\": success_num, \"Fake Number\": fake_num , \"Angle\": angle, \"Min Angle\": angle_min, \"Run Time\": run_time})\n",
    "            # break if getting enough success times(for efficiency)\n",
    "            run_time += tmp_run_times\n",
    "            if success_num > 100 and i > 1000:\n",
    "                break\n",
    "        # store threshold_array in file with name \"threshold_array_k\" in directory \"data\"\n",
    "        np.save(f\"data_with_noise_k/threshold_array_{tmpk}_{error_rate}_success_num_run_time\", [success_num, run_time, fake_num, wrong_num])"
   ]
  },
  {
   "cell_type": "markdown",
   "metadata": {},
   "source": [
    "### Estimate\n",
    "how many iteration times need to output original template, multiply inner iteration time of local search algorithm is the estimated time for running whole algorithm "
   ]
  },
  {
   "cell_type": "code",
   "execution_count": 11,
   "metadata": {},
   "outputs": [
    {
     "name": "stdout",
     "output_type": "stream",
     "text": [
      "320 success rate:0.002850  success number: 57  fake number 0  inverse of success rate:  350.87719298245617  Expected iteration number:  9.065801e+06\n",
      "340 success rate:0.005332  success number: 101  fake number 0  inverse of success rate:  187.54455445544554  Expected iteration number:  9.143684e+06\n",
      "360 success rate:0.005845  success number: 101  fake number 0  inverse of success rate:  171.0891089108911  Expected iteration number:  1.574000e+07\n",
      "380 success rate:0.009643  success number: 101  fake number 0  inverse of success rate:  103.70297029702971  Expected iteration number:  1.800277e+07\n",
      "400 success rate:0.013076  success number: 101  fake number 0  inverse of success rate:  76.47524752475248  Expected iteration number:  2.505156e+07\n"
     ]
    }
   ],
   "source": [
    "import numpy as np\n",
    "import os\n",
    "import math\n",
    "\n",
    "# 0.035 -> 2.8 degrees; 0.07-> 5.6 degrees; 0.108 -> 8.6 degrees; 0.13 -> 11 degrees;  \n",
    "# 0.18 -> 14 degrees; 0.25 -> 19 degrees; 0.35 -> 26 degrees; 0.4 -> 30 degrees; 0.5 -> 36 degrees; \n",
    "\n",
    "error_rate = 0.108\n",
    "for i in [90, 100, 110, 120, 130, 140, 150, 160, 170, 180, 190, 200, 210, 220, 230, 240, 250, 260, 270, 280, 290, 300, 310, 320, 330, 340, 350, 360, 370, 380, 390, 400, 500, 550, 600, 620, 650, 670, 700, 800]:\n",
    "    i = i * 2\n",
    "    if os.path.exists(\"data_with_noise_k/threshold_array_{}_{}_success_num_run_time.npy\".format(i, error_rate)):\n",
    "        results = np.load(\"data_with_noise_k/threshold_array_{}_{}_success_num_run_time.npy\".format(i, error_rate))\n",
    "        success_num = results[0]\n",
    "        run_time = results[1]\n",
    "        fake_num = 0 if len(results) <= 2 else results[2]\n",
    "        whole_run_num = run_time\n",
    "        if success_num == 0: \n",
    "            inverse_off_success_rate = 0\n",
    "            expected_run_times = 0\n",
    "        else:\n",
    "            inverse_off_success_rate = whole_run_num / success_num\n",
    "            expected_run_times = math.ceil(whole_run_num / success_num * 2 ** (subset_n_a_k(512, 16, 1) * i))\n",
    "        print(\"{}\".format(i), \"success rate:{:.6f}\".format(success_num / whole_run_num), \" success number:\", success_num, \" fake number\", fake_num, \" inverse of success rate: \", inverse_off_success_rate, \" Expected iteration number: \", \"{:.6e}\".format(expected_run_times))"
   ]
  },
  {
   "cell_type": "markdown",
   "metadata": {},
   "source": [
    "local minimum of t_all"
   ]
  },
  {
   "cell_type": "code",
   "execution_count": null,
   "metadata": {},
   "outputs": [
    {
     "name": "stdout",
     "output_type": "stream",
     "text": [
      "260 success rate:0.000600  success number: 12  fake number 0  inverse of success rate:  1666.6666666666667  Expected iteration number:  6.409184e+06\n",
      "280 success rate:0.001350  success number: 27  fake number 0  inverse of success rate:  740.7407407407408  Expected iteration number:  5.375092e+06\n",
      "300 success rate:0.002200  success number: 44  fake number 0  inverse of success rate:  454.54545454545456  Expected iteration number:  6.223901e+06\n",
      "320 success rate:0.002900  success number: 58  fake number 0  inverse of success rate:  344.82758620689657  Expected iteration number:  8.909494e+06\n"
     ]
    },
    {
     "data": {
      "image/png": "[encoded data removed]",
      "text/plain": [
       "<Figure size 640x480 with 3 Axes>"
      ]
     },
     "metadata": {},
     "output_type": "display_data"
    },
    {
     "ename": "",
     "evalue": "",
     "output_type": "error",
     "traceback": [
      "\u001b[1;31mThe Kernel crashed while executing code in the current cell or a previous cell. \n",
      "\u001b[1;31mPlease review the code in the cell(s) to identify a possible cause of the failure. \n",
      "\u001b[1;31mClick <a href='https://aka.ms/vscodeJupyterKernelCrash'>here</a> for more info. \n",
      "\u001b[1;31mView Jupyter <a href='command:jupyter.viewOutput'>log</a> for further details."
     ]
    }
   ],
   "source": [
    "import numpy as np\n",
    "import os\n",
    "import math\n",
    "\n",
    "# 0.035 -> 2.8 degrees; 0.07-> 5.6 degrees; 0.108 -> 8.6 degrees; 0.13 -> 11 degrees;  \n",
    "# 0.18 -> 14 degrees; 0.25 -> 19 degrees; 0.35 -> 26 degrees; 0.4 -> 30 degrees; 0.5 -> 36 degrees; \n",
    "error_rate = 0.0\n",
    "k_vec = []\n",
    "log2_expected_run_times_vec = []\n",
    "success_prob_vec = []\n",
    "expected_each_time = [105, 114, 123, 105]\n",
    "# expected_each_time = [100] * 4\n",
    "for i, each_time in zip([130, 140, 150, 160], expected_each_time):\n",
    "    i = i * 2\n",
    "    threshold_array = []\n",
    "    if os.path.exists(\"data_with_noise_k/threshold_array_{}_{}_success_num_run_time.npy\".format(i, error_rate)):\n",
    "        results = np.load(\"data_with_noise_k/threshold_array_{}_{}_success_num_run_time.npy\".format(i, error_rate))\n",
    "        success_num = results[0]\n",
    "        run_time = results[1]\n",
    "        fake_num = 0 if len(results) <= 2 else results[2]\n",
    "        whole_run_num = run_time\n",
    "        if success_num == 0: \n",
    "            inverse_off_success_rate = 0\n",
    "            expected_run_times = 0\n",
    "            continue\n",
    "        else:\n",
    "            inverse_off_success_rate = whole_run_num / success_num\n",
    "            expected_run_times = math.ceil(whole_run_num / success_num * 2 ** (subset_n_a_k(512, 16, 1) * i))\n",
    "        k_vec.append(i)\n",
    "        log2_expected_run_times_vec.append(subset_n_a_k(512, 16, 1) * i + np.log2(each_time))\n",
    "        success_prob_vec.append(success_num / whole_run_num)\n",
    "        print(\"{}\".format(i), \"success rate:{:.6f}\".format(success_num / whole_run_num), \" success number:\", success_num, \" fake number\", fake_num, \" inverse of success rate: \", inverse_off_success_rate, \" Expected iteration number: \", \"{:.6e}\".format(expected_run_times))\n",
    "        continue\n",
    "\n",
    "import matplotlib.pyplot as plt\n",
    "\n",
    "# Set the font type for PDF and PS to TrueType (Type 42)\n",
    "plt.rcParams['pdf.fonttype'] = 42\n",
    "plt.rcParams['ps.fonttype'] = 42\n",
    "\n",
    "log2_success_prob_vec = -np.log2(np.array(success_prob_vec, dtype=np.float64))\n",
    "sum_vec = log2_expected_run_times_vec + log2_success_prob_vec\n",
    "\n",
    "\n",
    "fig, ax1 = plt.subplots()\n",
    "ax2 = ax1.twinx()\n",
    "ax3 = ax1.twinx() \n",
    "\n",
    "# ax1.spines['left'].set_position(('outward', 60))\n",
    "ax1.spines['left'].set_color('none')\n",
    "ax1.yaxis.set_ticks([]) \n",
    "ax1.yaxis.set_ticklabels([])  \n",
    "\n",
    "\n",
    "# ax3.spines['left'].set_position(('outward', 60))\n",
    "ax3.spines['left'].set_color('black') \n",
    "ax3.yaxis.set_ticks_position('left')  \n",
    "ax3.yaxis.set_label_position('left') \n",
    "\n",
    "y_min, y_max = min(sum_vec), max(sum_vec)\n",
    "y_range = y_max - y_min\n",
    "ax3.set_ylim(y_min - 0.3 * y_range, y_max + 0.3 * y_range)\n",
    "\n",
    "line1, = ax1.plot(k_vec, log2_expected_run_times_vec, 'g-', label='Log(r_k * t_k)')\n",
    "line2, = ax2.plot(k_vec, log2_success_prob_vec, 'b-', label='-Log(p_k)')\n",
    "line3, = ax3.plot(k_vec, sum_vec, 'r-', label='Log(Expected Time)')\n",
    "lines = [line1, line2, line3]\n",
    "labels = [line.get_label() for line in lines]\n",
    "fig.legend(lines, labels, loc='upper center', bbox_to_anchor=(0.5, 0), ncol=3)\n",
    "\n",
    "ax3.set_xlabel('k')\n",
    "ax3.set_ylabel('Log(Expected Time)', color='g')\n",
    "ax2.set_ylabel('-Log(Success rate)', color='b')\n",
    "\n",
    "plt.title('Expected Time and Success Rate with Different k')\n",
    "\n",
    "plt.savefig('Expected_Time_Success_Rate.pdf', format='pdf', dpi=300, bbox_inches='tight')\n",
    "\n",
    "plt.show()\n"
   ]
  }
 ],
 "metadata": {
  "kernelspec": {
   "display_name": ".venv",
   "language": "python",
   "name": "python3"
  },
  "language_info": {
   "codemirror_mode": {
    "name": "ipython",
    "version": 3
   },
   "file_extension": ".py",
   "mimetype": "text/x-python",
   "name": "python",
   "nbconvert_exporter": "python",
   "pygments_lexer": "ipython3",
   "version": "3.10.16"
  }
 },
 "nbformat": 4,
 "nbformat_minor": 2
}
