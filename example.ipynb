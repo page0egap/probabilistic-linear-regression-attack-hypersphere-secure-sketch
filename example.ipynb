{
 "cells": [
  {
   "cell_type": "code",
   "execution_count": 1,
   "metadata": {},
   "outputs": [],
   "source": [
    "from itertools import combinations\n",
    "from tqdm.auto import tqdm\n",
    "import numpy as np\n",
    "import sample as sampler\n",
    "import utils\n",
    "import attacker"
   ]
  },
  {
   "cell_type": "markdown",
   "metadata": {},
   "source": [
    "## Generate puzzle with given error_rate\n",
    "\n",
    "generate n isometrices(sketches) with noise. Assume the original template is w, then the output for each sketching is Matrix = SS(w + noise) and the correponding codeword as b satisfying Matrix * (w + noise) = b."
   ]
  },
  {
   "cell_type": "code",
   "execution_count": 69,
   "metadata": {},
   "outputs": [],
   "source": [
    "# codeword parameters\n",
    "dimension = 512\n",
    "k = 2\n",
    "n = 511\n",
    "error_rate = 0.1    # angle(w + noise_1, w + noise_2) approximate arccos(error_rate * \\sqrt(2))"
   ]
  },
  {
   "cell_type": "code",
   "execution_count": 70,
   "metadata": {},
   "outputs": [
    {
     "data": {
      "application/vnd.jupyter.widget-view+json": {
       "model_id": "6e13c01e304748e694ae33d3e74262f6",
       "version_major": 2,
       "version_minor": 0
      },
      "text/plain": [
       "Generating Puzzles:   0%|          | 0/511 [00:00<?, ?it/s]"
      ]
     },
     "metadata": {},
     "output_type": "display_data"
    }
   ],
   "source": [
    "w, bs, isometric_matrixes, _ = sampler.generate_puzzle_n(dimension, k, error_rate=error_rate, n = n)"
   ]
  },
  {
   "cell_type": "code",
   "execution_count": 30,
   "metadata": {},
   "outputs": [
    {
     "data": {
      "application/vnd.jupyter.widget-view+json": {
       "model_id": "b46d8f6198024886a3098adf0b5dcda9",
       "version_major": 2,
       "version_minor": 0
      },
      "text/plain": [
       "0it [00:00, ?it/s]"
      ]
     },
     "metadata": {},
     "output_type": "display_data"
    },
    {
     "name": "stdout",
     "output_type": "stream",
     "text": [
      "Mean Degree: 8.06°\n"
     ]
    }
   ],
   "source": [
    "# get the mean angle between each pair of templates, i.e. angle(w + noise_1, w + noise_2)\n",
    "\n",
    "angles = []\n",
    "ws = [M.T @ b for M, b in zip(isometric_matrixes, bs)]\n",
    "for i, j in tqdm(combinations(range(len(ws)), 2)):\n",
    "    angles.append(utils.get_angle_of_two_vectors(ws[i], ws[j]))\n",
    "\n",
    "print(\"Mean Degree: {:.2f}{}\".format(np.mean(angles), u'\\u00b0'))"
   ]
  },
  {
   "cell_type": "markdown",
   "metadata": {},
   "source": [
    "## solving original template knowing zero positions of each codeword"
   ]
  },
  {
   "cell_type": "markdown",
   "metadata": {},
   "source": [
    "svd solver"
   ]
  },
  {
   "cell_type": "code",
   "execution_count": 58,
   "metadata": {},
   "outputs": [
    {
     "data": {
      "application/vnd.jupyter.widget-view+json": {
       "model_id": "ff1c972a29544c10a61b1bd38f5ef62a",
       "version_major": 2,
       "version_minor": 0
      },
      "text/plain": [
       "Solving(SVD):   0%|          | 0/1000 [00:00<?, ?it/s]"
      ]
     },
     "metadata": {},
     "output_type": "display_data"
    }
   ],
   "source": [
    "assume_vector, b = attacker.solve_puzzle_with_n_matrix_known_places(isometric_matrixes, bs, dimension, k, threshold=20, max_rtimes=1000,\n",
    "                                                                    algorithm=\"SVD\", disable_tqdm=False, k_each_matrix=2)"
   ]
  },
  {
   "cell_type": "code",
   "execution_count": 27,
   "metadata": {},
   "outputs": [
    {
     "name": "stdout",
     "output_type": "stream",
     "text": [
      "The result is:  True\n"
     ]
    }
   ],
   "source": [
    "# check the result(b is whether equal to the first code word)\n",
    "print(\"The result is: \", np.allclose(b, bs[0]) or np.allclose(b, -bs[0]))"
   ]
  },
  {
   "cell_type": "markdown",
   "metadata": {},
   "source": [
    "lsa solver"
   ]
  },
  {
   "cell_type": "code",
   "execution_count": 66,
   "metadata": {},
   "outputs": [
    {
     "data": {
      "application/vnd.jupyter.widget-view+json": {
       "model_id": "010c2b7ba3d34d6c903ccdab51a33813",
       "version_major": 2,
       "version_minor": 0
      },
      "text/plain": [
       "Solving(LSA):   0%|          | 0/10000 [00:00<?, ?it/s]"
      ]
     },
     "metadata": {},
     "output_type": "display_data"
    }
   ],
   "source": [
    "assume_vector, b = attacker.solve_puzzle_with_n_matrix_known_places(isometric_matrixes, bs, dimension, k, threshold=20, max_rtimes=10000, algorithm=\"LSA\", disable_tqdm=False, k_each_matrix=1, error_rate = error_rate * 3.0)"
   ]
  },
  {
   "cell_type": "code",
   "execution_count": 68,
   "metadata": {},
   "outputs": [
    {
     "name": "stdout",
     "output_type": "stream",
     "text": [
      "The result is:  True\n"
     ]
    }
   ],
   "source": [
    "# check the result(b is whether equal to the first code word)\n",
    "print(\"The result is: \", np.allclose(b, bs[0]) or np.allclose(b, -bs[0]))"
   ]
  },
  {
   "cell_type": "markdown",
   "metadata": {},
   "source": [
    "## solving original template without knowing zero positions of each codeword"
   ]
  },
  {
   "cell_type": "code",
   "execution_count": 98,
   "metadata": {},
   "outputs": [
    {
     "data": {
      "application/vnd.jupyter.widget-view+json": {
       "model_id": "34876bafcfb3454a9858afc2ed4c2c8e",
       "version_major": 2,
       "version_minor": 0
      },
      "text/plain": [
       "Solving(SVD):   0%|          | 0/22 [00:00<?, ?it/s]"
      ]
     },
     "metadata": {},
     "output_type": "display_data"
    }
   ],
   "source": [
    "# toy example for small k = 2\n",
    "assume_vector, b = attacker.solve_puzzle_with_n_matrix(isometric_matrixes, dimension, k, threshold=20, max_rtimes=1000,\n",
    "                                                        algorithm=\"SVD\", disable_tqdm=False, k_each_matrix=1, scale=3.0)"
   ]
  },
  {
   "cell_type": "code",
   "execution_count": 100,
   "metadata": {},
   "outputs": [
    {
     "name": "stdout",
     "output_type": "stream",
     "text": [
      "The result is:  True\n"
     ]
    }
   ],
   "source": [
    "# check the result(b is whether equal to the first code word)\n",
    "print(\"The result is: \", np.allclose(b, bs[0]) or np.allclose(b, -bs[0]))"
   ]
  },
  {
   "cell_type": "code",
   "execution_count": 105,
   "metadata": {},
   "outputs": [
    {
     "data": {
      "application/vnd.jupyter.widget-view+json": {
       "model_id": "0aa4b9942bed49d9ab7b80b5ff25ec59",
       "version_major": 2,
       "version_minor": 0
      },
      "text/plain": [
       "Solving(LSA):   0%|          | 0/7389 [00:00<?, ?it/s]"
      ]
     },
     "metadata": {},
     "output_type": "display_data"
    }
   ],
   "source": [
    "# toy example for small k = 2\n",
    "assume_vector, b = attacker.solve_puzzle_with_n_matrix(isometric_matrixes, dimension, k, threshold=20, max_rtimes=1000, algorithm=\"LSA\", disable_tqdm=False, k_each_matrix=1, scale=1000.0, error_rate=error_rate * 3.0)"
   ]
  },
  {
   "cell_type": "code",
   "execution_count": 106,
   "metadata": {},
   "outputs": [
    {
     "name": "stdout",
     "output_type": "stream",
     "text": [
      "The result is:  True\n"
     ]
    }
   ],
   "source": [
    "# check the result(b is whether equal to the first code word)\n",
    "print(\"The result is: \", np.allclose(b, bs[0]) or np.allclose(b, -bs[0]))"
   ]
  }
 ],
 "metadata": {
  "kernelspec": {
   "display_name": "intel-attack-m",
   "language": "python",
   "name": "python3"
  },
  "language_info": {
   "codemirror_mode": {
    "name": "ipython",
    "version": 3
   },
   "file_extension": ".py",
   "mimetype": "text/x-python",
   "name": "python",
   "nbconvert_exporter": "python",
   "pygments_lexer": "ipython3",
   "version": "3.10.11"
  }
 },
 "nbformat": 4,
 "nbformat_minor": 2
}
