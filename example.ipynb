{
 "cells": [
  {
   "cell_type": "code",
   "execution_count": 1,
   "metadata": {},
   "outputs": [],
   "source": [
    "from itertools import combinations\n",
    "from tqdm.auto import tqdm\n",
    "import numpy as np\n",
    "import sample as sampler\n",
    "import utils\n",
    "import math\n",
    "import attacker"
   ]
  },
  {
   "cell_type": "markdown",
   "metadata": {},
   "source": [
    "Implement the attack by simulating data.\n",
    "1. generate proper data with given error rate as a puzzle"
   ]
  },
  {
   "cell_type": "markdown",
   "metadata": {},
   "source": [
    "## Generate puzzle with given error_rate\n",
    "\n",
    "generate n isometrices(sketches) with noise. Assume the original template is w, then the output for each sketching is Matrix = SS(w + noise) and the correponding codeword as b satisfying Matrix * (w + noise) = b."
   ]
  },
  {
   "cell_type": "markdown",
   "metadata": {},
   "source": [
    "### Settings"
   ]
  },
  {
   "cell_type": "code",
   "execution_count": null,
   "metadata": {},
   "outputs": [],
   "source": [
    "# codeword parameters\n",
    "dimension = 512\n",
    "alpha = 2  # if we want the whole attack's time is acceptable, you need to set alpha <= 8 and the noise small\n",
    "# else if we assume the sampled matrix by attack is always \"correct\", it does not need too much time so that you could set alpha = 16\n",
    "\n",
    "n_for_svd = (\n",
    "    511  # number of secure sketches from the same biometric source(svd based algorithm)\n",
    ")\n",
    "n_for_lsa = (\n",
    "    281  # number of secure sketches from the same biometric source(lsa based algorithm)\n",
    ")\n",
    "n = n_for_svd  # need change based on your needs\n",
    "noise_angle = 14  # degree\n",
    "threshold = 30"
   ]
  },
  {
   "cell_type": "code",
   "execution_count": 59,
   "metadata": {},
   "outputs": [],
   "source": [
    "error_rate = utils.translate_error_angle_to_error_noise_n(noise_angle)"
   ]
  },
  {
   "cell_type": "markdown",
   "metadata": {},
   "source": [
    "### Generate"
   ]
  },
  {
   "cell_type": "code",
   "execution_count": null,
   "metadata": {},
   "outputs": [
    {
     "data": {
      "application/vnd.jupyter.widget-view+json": {
       "model_id": "812e34474d9644ae84a7284c19e69c4b",
       "version_major": 2,
       "version_minor": 0
      },
      "text/plain": [
       "Generating Puzzles:   0%|          | 0/511 [00:00<?, ?it/s]"
      ]
     },
     "metadata": {},
     "output_type": "display_data"
    }
   ],
   "source": [
    "w, cs, isometric_matrixes, _ = sampler.generate_puzzle_n(\n",
    "    dimension, alpha, error_rate=error_rate, n=n\n",
    ")"
   ]
  },
  {
   "cell_type": "code",
   "execution_count": null,
   "metadata": {},
   "outputs": [
    {
     "data": {
      "application/vnd.jupyter.widget-view+json": {
       "model_id": "7b90d5900f0f44ff9f525e9f25b0d6e1",
       "version_major": 2,
       "version_minor": 0
      },
      "text/plain": [
       "0it [00:00, ?it/s]"
      ]
     },
     "metadata": {},
     "output_type": "display_data"
    },
    {
     "name": "stdout",
     "output_type": "stream",
     "text": [
      "Test Mean Degree: 39.99°\n"
     ]
    }
   ],
   "source": [
    "# get the mean angle between each pair of templates, i.e. angle(w + noise_1, w + noise_2)\n",
    "\n",
    "angles = []\n",
    "ws = [M.T @ b for M, b in zip(isometric_matrixes, cs)]\n",
    "for i, j in tqdm(combinations(range(len(ws)), 2)):\n",
    "    angles.append(utils.get_angle_of_two_vectors(ws[i], ws[j]))\n",
    "\n",
    "print(\"Test Mean Degree: {:.2f}{}\".format(np.mean(angles), \"\\u00b0\"))"
   ]
  },
  {
   "cell_type": "code",
   "execution_count": null,
   "metadata": {},
   "outputs": [],
   "source": [
    "# p_array = [0 for _ in range(n+1)]\n",
    "# p_array[0] = 1\n",
    "\n",
    "\n",
    "# def tmp_subset_n_k(n, k):\n",
    "#     result = 1\n",
    "#     for i in range(k):\n",
    "#         result = result * (n - i)\n",
    "#     for i in range(k):\n",
    "#         result = result // (i + 1)\n",
    "#     return result\n",
    "\n",
    "# def tmp_calculate(n, alpha, x, m):\n",
    "#     return tmp_subset_n_k(n-(x-m), m) * tmp_subset_n_k(x-m, alpha-m)\n",
    "\n",
    "\n",
    "# for _ in (pbar:=tqdm(range(n))):\n",
    "#     tmp_p_array = [0 for _ in range(n+1)]\n",
    "#     for x in range(alpha, n+1):\n",
    "#         result = 0\n",
    "#         for m in range(0, alpha+1):\n",
    "#             result += tmp_calculate(n, alpha, x, m) * p_array[x-m]\n",
    "#         tmp_p_array[x] = result\n",
    "#     # pbar.set_postfix({\"n th element\": p_array[n-1]})\n",
    "#     p_array = tmp_p_array\n",
    "\n",
    "# result = p_array[n]\n",
    "# result = result / (tmp_subset_n_k(n, alpha) ** (n))"
   ]
  },
  {
   "cell_type": "code",
   "execution_count": null,
   "metadata": {},
   "outputs": [],
   "source": [
    "# print(1-result)\n",
    "# print(-np.log2(1-result) + np.log2(n))\n",
    "# print(1 / (1 - result))"
   ]
  },
  {
   "cell_type": "markdown",
   "metadata": {},
   "source": [
    "## solving original template if sampled matrix is correct\n",
    "\n",
    "ensure the matrix generated by linear equation sampler is \"correct\" as in Definition 4.1 in paper."
   ]
  },
  {
   "cell_type": "markdown",
   "metadata": {},
   "source": [
    "svd solver"
   ]
  },
  {
   "cell_type": "code",
   "execution_count": null,
   "metadata": {},
   "outputs": [
    {
     "data": {
      "application/vnd.jupyter.widget-view+json": {
       "model_id": "cb79384f130b465eb9e0eaf3019feb7e",
       "version_major": 2,
       "version_minor": 0
      },
      "text/plain": [
       "Solving(SVD):   0%|          | 0/1000 [00:00<?, ?it/s]"
      ]
     },
     "metadata": {},
     "output_type": "display_data"
    }
   ],
   "source": [
    "# k_each_matrix should be proper setting with constraint k_each_matrix * len(isometric_matrixes) >= dimension - 1\n",
    "assume_vector, b = attacker.solve_puzzle_with_n_matrix_known_places(\n",
    "    isometric_matrixes,\n",
    "    cs,\n",
    "    dimension,\n",
    "    alpha,\n",
    "    threshold=threshold,\n",
    "    max_rtimes=1000,\n",
    "    algorithm=\"SVD\",\n",
    "    disable_tqdm=False,\n",
    "    k_each_matrix=1,\n",
    ")"
   ]
  },
  {
   "cell_type": "code",
   "execution_count": null,
   "metadata": {},
   "outputs": [
    {
     "name": "stdout",
     "output_type": "stream",
     "text": [
      "Get the retrieved candidate template, and the candidate is  True\n"
     ]
    }
   ],
   "source": [
    "# check the result(b is whether equal to the first code word)\n",
    "if b is None:\n",
    "    print(\"No answer\")\n",
    "else:\n",
    "    print(\n",
    "        \"Get the retrieved candidate template, and the candidate is \",\n",
    "        np.allclose(b, cs[0]) or np.allclose(b, -cs[0]),\n",
    "    )"
   ]
  },
  {
   "cell_type": "markdown",
   "metadata": {},
   "source": [
    "lsa solver"
   ]
  },
  {
   "cell_type": "code",
   "execution_count": null,
   "metadata": {},
   "outputs": [
    {
     "data": {
      "application/vnd.jupyter.widget-view+json": {
       "model_id": "91d422870e37433baa52f75e6b5b908a",
       "version_major": 2,
       "version_minor": 0
      },
      "text/plain": [
       "Solving(LSA):   0%|          | 0/10000 [00:00<?, ?it/s]"
      ]
     },
     "metadata": {},
     "output_type": "display_data"
    }
   ],
   "source": [
    "# k_each_matrix should be proper setting with constraint k_each_matrix * (len(isometric_matrixes) -1) ~ dimension, see proper settings in paper's experiments\n",
    "assume_vector, b = attacker.solve_puzzle_with_n_matrix_known_places(\n",
    "    isometric_matrixes,\n",
    "    cs,\n",
    "    dimension,\n",
    "    alpha,\n",
    "    threshold=49,\n",
    "    max_rtimes=10000,\n",
    "    algorithm=\"LSA\",\n",
    "    disable_tqdm=False,\n",
    "    k_each_matrix=1,\n",
    "    error_rate=error_rate * 3.0,\n",
    ")"
   ]
  },
  {
   "cell_type": "code",
   "execution_count": null,
   "metadata": {},
   "outputs": [
    {
     "name": "stdout",
     "output_type": "stream",
     "text": [
      "Get the retrieved candidate template, and the candidate is  True\n"
     ]
    }
   ],
   "source": [
    "# check the result(b is whether equal to the first code word)\n",
    "if b is None:\n",
    "    print(\"No answer\")\n",
    "else:\n",
    "    print(\n",
    "        \"Get the retrieved candidate template, and the candidate is \",\n",
    "        np.allclose(b, cs[0]) or np.allclose(b, -cs[0]),\n",
    "    )"
   ]
  },
  {
   "cell_type": "markdown",
   "metadata": {},
   "source": [
    "## solving original template without preposition that sampled matrix is \"correct\""
   ]
  },
  {
   "cell_type": "markdown",
   "metadata": {},
   "source": [
    "### SVD"
   ]
  },
  {
   "cell_type": "markdown",
   "metadata": {},
   "source": [
    "Warning: alpha > 2 is time-consuming, please set a smaller alpha for quickly verifying"
   ]
  },
  {
   "cell_type": "code",
   "execution_count": null,
   "metadata": {},
   "outputs": [
    {
     "name": "stdout",
     "output_type": "stream",
     "text": [
      "esimate running times:  7.389074963957044\n",
      "log2 esimate running times:  2.8853937651232577\n"
     ]
    }
   ],
   "source": [
    "tmpr = (2 ** (utils.subset_n_a_alpha(dimension, alpha, 1) * 1)) ** len(\n",
    "    isometric_matrixes\n",
    ")\n",
    "print(\"esimate running times: \", tmpr)\n",
    "print(\"log2 esimate running times: \", np.log2(tmpr))"
   ]
  },
  {
   "cell_type": "code",
   "execution_count": null,
   "metadata": {},
   "outputs": [
    {
     "data": {
      "application/vnd.jupyter.widget-view+json": {
       "model_id": "3992dd5247004d67ae5dde13ef8af749",
       "version_major": 2,
       "version_minor": 0
      },
      "text/plain": [
       "Solving(SVD):   0%|          | 0/738 [00:00<?, ?it/s]"
      ]
     },
     "metadata": {},
     "output_type": "display_data"
    }
   ],
   "source": [
    "# toy example for small k = 2, larger k needs exponential time\n",
    "# k_each_matrix should be proper setting with constraint k_each_matrix * len(isometric_matrixes) >= dimension - 1\n",
    "# you could adjust max_rtimes to slightly larger than the estimate runnning times\n",
    "assume_vector, b = attacker.solve_puzzle_with_n_matrix(\n",
    "    isometric_matrixes,\n",
    "    dimension,\n",
    "    alpha,\n",
    "    threshold=threshold,\n",
    "    max_rtimes=1000,\n",
    "    algorithm=\"SVD\",\n",
    "    disable_tqdm=False,\n",
    "    k_each_matrix=1,\n",
    "    scale=100.0,\n",
    "    partition=False,\n",
    ")"
   ]
  },
  {
   "cell_type": "code",
   "execution_count": null,
   "metadata": {},
   "outputs": [
    {
     "name": "stdout",
     "output_type": "stream",
     "text": [
      "Get the retrieved candidate template, and the candidate is  True\n"
     ]
    }
   ],
   "source": [
    "# check the result(b is whether equal to the first code word)\n",
    "if b is None:\n",
    "    print(\"No answer\")\n",
    "else:\n",
    "    print(\n",
    "        \"Get the retrieved candidate template, and the candidate is \",\n",
    "        np.allclose(b, cs[0]) or np.allclose(b, -cs[0]),\n",
    "    )"
   ]
  },
  {
   "cell_type": "markdown",
   "metadata": {},
   "source": [
    "### LSA"
   ]
  },
  {
   "cell_type": "markdown",
   "metadata": {},
   "source": [
    "Warning: alpha > 2 is time-consuming, please set a smaller alpha for quickly verifying"
   ]
  },
  {
   "cell_type": "code",
   "execution_count": null,
   "metadata": {},
   "outputs": [],
   "source": [
    "tmpr = (2 ** (utils.subset_n_a_alpha(dimension, alpha, 1) * 1)) ** len(\n",
    "    isometric_matrixes\n",
    ")\n",
    "print(\"esimate running times: \", tmpr)\n",
    "print(\"log2 esimate running times: \", np.log2(tmpr))"
   ]
  },
  {
   "cell_type": "code",
   "execution_count": null,
   "metadata": {},
   "outputs": [
    {
     "data": {
      "application/vnd.jupyter.widget-view+json": {
       "model_id": "63df7c607877459caae3e7bc7498a238",
       "version_major": 2,
       "version_minor": 0
      },
      "text/plain": [
       "Solving(LSA):   0%|          | 0/3003 [00:00<?, ?it/s]"
      ]
     },
     "metadata": {},
     "output_type": "display_data"
    }
   ],
   "source": [
    "# toy example for small k = 2\n",
    "# k_each_matrix should be proper setting with constraint k_each_matrix * (len(isometric_matrixes) -1) ~ dimension, see proper settings in paper's experiments\n",
    "# you could adjust max_rtimes to slightly larger than the estimate runnning times\n",
    "assume_vector, b = attacker.solve_puzzle_with_n_matrix(\n",
    "    isometric_matrixes,\n",
    "    dimension,\n",
    "    alpha,\n",
    "    threshold=threshold,\n",
    "    max_rtimes=1000,\n",
    "    algorithm=\"LSA\",\n",
    "    disable_tqdm=False,\n",
    "    k_each_matrix=1,\n",
    "    scale=1000.0,\n",
    "    error_rate=error_rate * 3.0,\n",
    "    partition=True,\n",
    ")"
   ]
  },
  {
   "cell_type": "code",
   "execution_count": null,
   "metadata": {},
   "outputs": [
    {
     "name": "stdout",
     "output_type": "stream",
     "text": [
      "Get the retrieved candidate template, and the candidate is  True\n"
     ]
    }
   ],
   "source": [
    "# check the result(b is whether equal to the first code word)\n",
    "if b is None:\n",
    "    print(\"No answer\")\n",
    "else:\n",
    "    print(\n",
    "        \"Get the retrieved candidate template, and the candidate is \",\n",
    "        np.allclose(b, cs[0]) or np.allclose(b, -cs[0]),\n",
    "    )"
   ]
  }
 ],
 "metadata": {
  "kernelspec": {
   "display_name": ".venv",
   "language": "python",
   "name": "python3"
  },
  "language_info": {
   "codemirror_mode": {
    "name": "ipython",
    "version": 3
   },
   "file_extension": ".py",
   "mimetype": "text/x-python",
   "name": "python",
   "nbconvert_exporter": "python",
   "pygments_lexer": "ipython3",
   "version": "3.10.16"
  }
 },
 "nbformat": 4,
 "nbformat_minor": 2
}
