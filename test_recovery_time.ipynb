{
 "cells": [
  {
   "cell_type": "code",
   "execution_count": 1,
   "metadata": {},
   "outputs": [],
   "source": [
    "from ironmask import *\n",
    "from tqdm.auto import tqdm\n",
    "import sample as sampler"
   ]
  },
  {
   "cell_type": "code",
   "execution_count": 38,
   "metadata": {},
   "outputs": [
    {
     "name": "stdout",
     "output_type": "stream",
     "text": [
      "5.929826736450195\n"
     ]
    }
   ],
   "source": [
    "import time\n",
    "\n",
    "\n",
    "dimension = 512\n",
    "alpha = 5\n",
    "\n",
    "w = sampler.random_unit_vector(dimension)\n",
    "c = sampler.sample_codeword(dimension, alpha)\n",
    "M = generate_secure_sketch(w, c)\n",
    "\n",
    "time_total = 0\n",
    "start = time.time()\n",
    "for i in range(1000000):\n",
    "    # c = M @ w\n",
    "    c = decode_codeword(c, dimension, alpha)\n",
    "time_total = time.time() - start\n",
    "print(time_total * 1000000 / 1000000)"
   ]
  },
  {
   "cell_type": "code",
   "execution_count": 37,
   "metadata": {},
   "outputs": [
    {
     "data": {
      "text/plain": [
       "16.44812492211272"
      ]
     },
     "execution_count": 37,
     "metadata": {},
     "output_type": "execute_result"
    }
   ],
   "source": [
    "import math\n",
    "math.log(1 / time_total * 2000000, 2)"
   ]
  },
  {
   "cell_type": "code",
   "execution_count": 42,
   "metadata": {},
   "outputs": [
    {
     "data": {
      "text/plain": [
       "1458085765.3984704"
      ]
     },
     "execution_count": 42,
     "metadata": {},
     "output_type": "execute_result"
    }
   ],
   "source": [
    "result = 22.37 / 32 * 2**(43 + 16.4 * 2) / 1000 / 1000 / 60 / 60 / 24 / 365\n",
    "result"
   ]
  },
  {
   "cell_type": "code",
   "execution_count": 44,
   "metadata": {},
   "outputs": [
    {
     "data": {
      "text/plain": [
       "9.163783070171128"
      ]
     },
     "execution_count": 44,
     "metadata": {},
     "output_type": "execute_result"
    }
   ],
   "source": [
    "math.log(result, 10) "
   ]
  }
 ],
 "metadata": {
  "kernelspec": {
   "display_name": "intel-attack-m",
   "language": "python",
   "name": "python3"
  },
  "language_info": {
   "codemirror_mode": {
    "name": "ipython",
    "version": 3
   },
   "file_extension": ".py",
   "mimetype": "text/x-python",
   "name": "python",
   "nbconvert_exporter": "python",
   "pygments_lexer": "ipython3",
   "version": "3.10.11"
  }
 },
 "nbformat": 4,
 "nbformat_minor": 2
}
