{
 "cells": [
  {
   "cell_type": "code",
   "execution_count": 3,
   "metadata": {},
   "outputs": [],
   "source": [
    "import numpy as np\n",
    "import math"
   ]
  },
  {
   "cell_type": "markdown",
   "metadata": {},
   "source": [
    "## Utils"
   ]
  },
  {
   "cell_type": "code",
   "execution_count": 2,
   "metadata": {},
   "outputs": [],
   "source": [
    "from sample import _generate_puzzle\n",
    "import utils\n",
    "\n",
    "\n",
    "def generate_puzzle(dimension, alpha, error_rate=0):\n",
    "    w = utils.random_unit_vector(dimension)\n",
    "    a, M1, _ = _generate_puzzle(w, dimension, alpha, error_rate=0)\n",
    "    b, M2, coserror = _generate_puzzle(w, dimension, alpha, error_rate=error_rate)\n",
    "    return a, b, M2 @ M1.T, coserror"
   ]
  },
  {
   "cell_type": "markdown",
   "metadata": {},
   "source": [
    "## Overall Settings"
   ]
  },
  {
   "cell_type": "code",
   "execution_count": 3,
   "metadata": {},
   "outputs": [],
   "source": [
    "# parameter of codewords\n",
    "dimension = 512\n",
    "alpha = 16"
   ]
  },
  {
   "cell_type": "markdown",
   "metadata": {},
   "source": [
    "## Parameter Explanation and Example"
   ]
  },
  {
   "cell_type": "markdown",
   "metadata": {},
   "source": [
    "### parameter explanation"
   ]
  },
  {
   "cell_type": "markdown",
   "metadata": {},
   "source": [
    "Settings"
   ]
  },
  {
   "cell_type": "code",
   "execution_count": 8,
   "metadata": {},
   "outputs": [],
   "source": [
    "# whether testing real angle with desired_success_rate\n",
    "desired_success_rate_test = True\n",
    "desired_success_rate = 0.8"
   ]
  },
  {
   "cell_type": "markdown",
   "metadata": {},
   "source": [
    "parameter explanation"
   ]
  },
  {
   "cell_type": "code",
   "execution_count": 9,
   "metadata": {},
   "outputs": [
    {
     "name": "stdout",
     "output_type": "stream",
     "text": [
      "dimension  = 512, alpha(parameter of codeword) = 16\n",
      "Log(size of codewords) = 115\n",
      "Design (error-torelant) angle = 10.18\n"
     ]
    },
    {
     "data": {
      "application/vnd.jupyter.widget-view+json": {
       "model_id": "3cf00e14052048eba394d812c983f34e",
       "version_major": 2,
       "version_minor": 0
      },
      "text/plain": [
       "Testing real error torelant angle:   0%|          | 0/90 [00:00<?, ?it/s]"
      ]
     },
     "metadata": {},
     "output_type": "display_data"
    },
    {
     "name": "stdout",
     "output_type": "stream",
     "text": [
      "Real (error-torelant) angle = 45.00 degree with success rate 80.0%\n",
      "*****************************************************************\n",
      "*IronMask parameters settings are:\n",
      "*\tdimension = 512, alpha = 16\n",
      "*you could change the parameter to align to IronMask's settings but the time would be long\n",
      "*If you just to verify that the code is runnable, then recommended parameters are:\n",
      "*\tdimension = 512, alpha = 4\n"
     ]
    }
   ],
   "source": [
    "print(\"dimension  = %d, alpha(parameter of codeword) = %d\" % (dimension, alpha))\n",
    "print(\"Log(size of codewords) = %d\" % (utils.log2c_alpha(dimension, alpha) + alpha))\n",
    "print(\n",
    "    \"Design (error-torelant) angle = {:.2f}\".format(\n",
    "        np.arccos(1 - 1 / alpha) / np.pi * 180 / 2\n",
    "    )\n",
    ")\n",
    "\n",
    "if desired_success_rate_test:\n",
    "    print(\n",
    "        \"Real (error-torelant) angle = {:.2f} degree with success rate {:.1f}%\".format(\n",
    "            utils.get_real_error_torelant_angle(dimension, alpha, desired_success_rate),\n",
    "            desired_success_rate * 100,\n",
    "        )\n",
    "    )\n",
    "print(\"*****************************************************************\")\n",
    "print(\n",
    "    \"*IronMask parameters settings are:\\n*\\tdimension = %d, alpha = %d\\n\"\n",
    "    \"*you could change the parameter to align to IronMask's settings but the time would be long\\n\"\n",
    "    \"*If you just to verify that the code is runnable, then recommended parameters are:\\n\"\n",
    "    \"*\\tdimension = %d, alpha = %d\" % (512, 16, 512, 4)\n",
    ")"
   ]
  },
  {
   "cell_type": "markdown",
   "metadata": {},
   "source": [
    "### Example"
   ]
  },
  {
   "cell_type": "markdown",
   "metadata": {},
   "source": [
    "Setting"
   ]
  },
  {
   "cell_type": "code",
   "execution_count": 10,
   "metadata": {},
   "outputs": [],
   "source": [
    "error_angle = 40  # degree"
   ]
  },
  {
   "cell_type": "markdown",
   "metadata": {},
   "source": [
    "Example 1: two sketch"
   ]
  },
  {
   "cell_type": "code",
   "execution_count": 11,
   "metadata": {},
   "outputs": [
    {
     "name": "stdout",
     "output_type": "stream",
     "text": [
      "Judgements: \n",
      "* Is the puzzle isometric?  True\n",
      "* Does the puzzle could be decoded from template a to codeword b?  True \n",
      "    Non-zero elements indices of each vector:\n",
      "    - Decode(M @ a):\t [ 14  31  38  76  87 206 210 234 267 316 321 324 368 398 402 473] \n",
      "    -        b     :\t [ 14  31  38  76  87 206 210 234 267 316 321 324 368 398 402 473]\n",
      "* Does the noise error angle is equal to error_angle = 40 ?  True\n"
     ]
    }
   ],
   "source": [
    "from ironmask import decode_codeword\n",
    "\n",
    "error_rate = utils.translate_error_angle_to_error_noise(error_angle)\n",
    "a, b, isometric_matrix, coserror = generate_puzzle(\n",
    "    dimension, alpha, error_rate=error_rate\n",
    ")\n",
    "print(\"Judgements: \")\n",
    "# check if it is isometric\n",
    "print(\n",
    "    \"* Is the puzzle isometric? \",\n",
    "    np.allclose(np.eye(dimension), np.dot(isometric_matrix, isometric_matrix.T)),\n",
    ")\n",
    "# check if it maps a to b\n",
    "decoded_codeword = decode_codeword(isometric_matrix @ a, dimension, alpha)\n",
    "print(\n",
    "    \"* Does the puzzle could be decoded from template a to codeword b? \",\n",
    "    np.allclose(b, decoded_codeword, atol=1e-3),\n",
    "    \"\\n    Non-zero elements indices of each vector:\\n    - Decode(M @ a):\\t\",\n",
    "    np.sort(np.argsort(np.abs(decoded_codeword))[-alpha:]),\n",
    "    \"\\n    -        b     :\\t\",\n",
    "    np.sort(np.argsort(np.abs(b))[-alpha:]),\n",
    ")\n",
    "print(\n",
    "    \"* Does the noise error angle is equal to error_angle = %d ? \" % error_angle,\n",
    "    np.allclose(utils.get_angle_of_two_vectors(isometric_matrix @ a, b), error_angle),\n",
    ")"
   ]
  },
  {
   "cell_type": "markdown",
   "metadata": {},
   "source": [
    "Example 2: multiple sketches"
   ]
  },
  {
   "cell_type": "code",
   "execution_count": 12,
   "metadata": {},
   "outputs": [
    {
     "data": {
      "application/vnd.jupyter.widget-view+json": {
       "model_id": "9b82e92ff5824ef98cd5a6c68e33495d",
       "version_major": 2,
       "version_minor": 0
      },
      "text/plain": [
       "Generating Puzzles:   0%|          | 0/511 [00:00<?, ?it/s]"
      ]
     },
     "metadata": {},
     "output_type": "display_data"
    },
    {
     "name": "stdout",
     "output_type": "stream",
     "text": [
      "Judgements: \n",
      "* Is the sketches all isometric?  True\n",
      "* Does the puzzle map the first noisy template to codeword b(associated with the second noisy template)?  True \n",
      "    Non-zero elements indices of each vector:\n",
      "    - Decode(M @ a):\t [  8  46  75  84 114 117 122 152 165 195 231 297 351 374 460 466] \n",
      "    -        b     :\t [  8  46  75  84 114 117 122 152 165 195 231 297 351 374 460 466]\n",
      "* Does the noise error angle is approximately equal to error_angle = 40 ?  True \t mean real angle between two noisy templates: 39.99\n"
     ]
    }
   ],
   "source": [
    "from sample import generate_puzzle_n\n",
    "import itertools\n",
    "\n",
    "error_rate = utils.translate_error_angle_to_error_noise_n(error_angle)\n",
    "_, cs, isometric_matrices, _ = generate_puzzle_n(\n",
    "    dimension, alpha, error_rate=error_rate\n",
    ")\n",
    "is_isometric = True\n",
    "for m in isometric_matrices:\n",
    "    if not np.allclose(np.eye(dimension), np.dot(m, m.T)):\n",
    "        is_isometric = False\n",
    "        break\n",
    "a = isometric_matrices[0].T @ cs[0]\n",
    "b = cs[1]\n",
    "isometric_matrix = isometric_matrices[1]\n",
    "print(\"Judgements: \")\n",
    "# check if it is isometric\n",
    "print(\n",
    "    \"* Is the sketches all isometric? \",\n",
    "    is_isometric,\n",
    ")\n",
    "# check if it maps a to b\n",
    "decoded_codeword = decode_codeword(isometric_matrix @ a, dimension, alpha)\n",
    "print(\n",
    "    \"* Does the puzzle map the first noisy template to codeword b(associated with the second noisy template)? \",\n",
    "    np.allclose(b, decoded_codeword, atol=1e-3),\n",
    "    \"\\n    Non-zero elements indices of each vector:\\n    - Decode(M @ a):\\t\",\n",
    "    np.sort(np.argsort(np.abs(decoded_codeword))[-alpha:]),\n",
    "    \"\\n    -        b     :\\t\",\n",
    "    np.sort(np.argsort(np.abs(b))[-alpha:]),\n",
    ")\n",
    "ws = [isometric_matrices[i].T @ cs[i] for i in range(len(isometric_matrices))]\n",
    "angles = [\n",
    "    utils.get_angle_of_two_vectors(ws[i], ws[j], type=\"degree\")\n",
    "    for i, j in itertools.combinations(range(len(isometric_matrices)), 2)\n",
    "]\n",
    "\n",
    "print(\n",
    "    \"* Does the noise error angle is approximately equal to error_angle = %d ? \"\n",
    "    % error_angle,\n",
    "    np.allclose(np.mean(angles), error_angle, rtol=0.5),\n",
    "    \"\\t mean real angle between two noisy templates: {:.2f}\".format(np.mean(angles)),\n",
    ")"
   ]
  },
  {
   "cell_type": "markdown",
   "metadata": {},
   "source": [
    "## Test for svd getting 2 sketches if sampled matrix is \"correct\""
   ]
  },
  {
   "cell_type": "markdown",
   "metadata": {},
   "source": [
    "### Env"
   ]
  },
  {
   "cell_type": "code",
   "execution_count": 13,
   "metadata": {},
   "outputs": [],
   "source": [
    "import numpy as np\n",
    "import utils\n",
    "from tqdm.auto import tqdm\n",
    "from attacker import submatrix_solver_numpy\n",
    "from ironmask import decode_codeword"
   ]
  },
  {
   "cell_type": "markdown",
   "metadata": {},
   "source": [
    "### Settings"
   ]
  },
  {
   "cell_type": "code",
   "execution_count": 14,
   "metadata": {},
   "outputs": [],
   "source": [
    "k = 511 # the number of sampled linear equations (k, need to justify in paper section 5 according to noise)\n",
    "# degree\n",
    "noise_angle = 0    # Noise(\\theta')\n",
    "threshold = 10  # threshold hyper-parameter(\\theta_t, need to justify in paper section 5 according to noise, but generally 40 is enough)"
   ]
  },
  {
   "cell_type": "code",
   "execution_count": 15,
   "metadata": {},
   "outputs": [
    {
     "name": "stdout",
     "output_type": "stream",
     "text": [
      "Parameters:\n",
      "The number of sampled linear equations(k): 511\n",
      "The number of sampled linear equations each sketch: 255\n",
      "The noise level(Noise(\\theta')): 0 degree\n",
      "The threshold(\\theta_t): 10 degree\n"
     ]
    }
   ],
   "source": [
    "print(\"Parameters:\")\n",
    "print(\"The number of sampled linear equations(k):\", k)\n",
    "print(\"The number of sampled linear equations each sketch:\", k // 2)\n",
    "print(\"The noise level(Noise(\\\\theta')):\", noise_angle, \"degree\")\n",
    "print(\"The threshold(\\\\theta_t):\", threshold, \"degree\")"
   ]
  },
  {
   "cell_type": "markdown",
   "metadata": {},
   "source": [
    "### Test code"
   ]
  },
  {
   "cell_type": "markdown",
   "metadata": {},
   "source": [
    "test success rate"
   ]
  },
  {
   "cell_type": "code",
   "execution_count": 16,
   "metadata": {},
   "outputs": [],
   "source": [
    "tmpka = k // 2\n",
    "tmpkb = (k + 1) // 2\n",
    "error_rate = utils.translate_error_angle_to_error_noise(noise_angle)"
   ]
  },
  {
   "cell_type": "code",
   "execution_count": 17,
   "metadata": {},
   "outputs": [
    {
     "data": {
      "application/vnd.jupyter.widget-view+json": {
       "model_id": "b1622e99a36f4dfda859911578e3a48f",
       "version_major": 2,
       "version_minor": 0
      },
      "text/plain": [
       "  0%|          | 0/10000 [00:00<?, ?it/s]"
      ]
     },
     "metadata": {},
     "output_type": "display_data"
    }
   ],
   "source": [
    "num_times = 0\n",
    "success_times = 0\n",
    "false_positive_times = 0\n",
    "for j in (pbar_outer := tqdm(range(10000))):\n",
    "    # generate a random vector with dimension, which has only k non-zero elements(fill with 1 or -1) in random positions\n",
    "    a, b, isometric_matrix, coserror = generate_puzzle(\n",
    "        dimension, alpha, error_rate=error_rate\n",
    "    )\n",
    "    near_0_positions_a = np.where(np.abs(a) < 0.1)[0]\n",
    "    near_0_positions_b = np.argsort(np.abs(b))[: dimension - alpha]\n",
    "    # assert len(near_0_positions_a) == len(near_0_positions_b)\n",
    "    # random select dimension // 2 near_0_positions\n",
    "    test_number = 0\n",
    "    coserror = 0\n",
    "    min_angle = 90\n",
    "    random_near_0_positions_a = np.random.choice(\n",
    "        near_0_positions_a, tmpka, replace=False\n",
    "    )\n",
    "    random_near_0_positions_b = np.random.choice(\n",
    "        near_0_positions_b, tmpkb, replace=False\n",
    "    )\n",
    "    random_near_0_positions_a = np.sort(random_near_0_positions_a)\n",
    "    random_near_0_positions_b = np.sort(random_near_0_positions_b)\n",
    "    # get the submatrix of isometric_matrix with selected rows: random_near_0_positions_b and columns: versus random_near_0_positions_a\n",
    "    versus_random_near_0_positions_a = np.setdiff1d(\n",
    "        np.arange(dimension), random_near_0_positions_a\n",
    "    )\n",
    "    submatrix = isometric_matrix[random_near_0_positions_b][\n",
    "        :, versus_random_near_0_positions_a\n",
    "    ]\n",
    "    # get the null vector of submatrix\n",
    "    null_vector = submatrix_solver_numpy(submatrix)\n",
    "    null_vector = null_vector / np.linalg.norm(null_vector)\n",
    "    assume_vector = np.zeros(dimension)\n",
    "    for i in np.argsort(np.abs(null_vector)):\n",
    "        assume_vector[versus_random_near_0_positions_a[i]] = null_vector[i]\n",
    "\n",
    "    # determinant work\n",
    "    assume_b = np.dot(isometric_matrix, assume_vector)\n",
    "    decode_b = decode_codeword(assume_b, dimension, alpha)\n",
    "    # get the arc cos of assume_b and b\n",
    "    assume_a = np.dot(isometric_matrix.T, assume_b)\n",
    "    decode_a = decode_codeword(assume_a, dimension, alpha)\n",
    "    min_angle = utils.get_angle_of_two_vectors(assume_a, decode_a)\n",
    "    if min_angle < threshold:  # pass determinant check\n",
    "        if not np.allclose(\n",
    "            np.sort(np.argsort(np.abs(decode_b))[-alpha:][::-1]),\n",
    "            np.sort(np.argsort(np.abs(b))[-alpha:]),\n",
    "        ):\n",
    "            false_positive_times += 1\n",
    "        else:\n",
    "            success_times += 1\n",
    "    pbar_outer.set_description(\n",
    "        \"success_time: {}, false_positive_times: {}, whole_times: {}\".format(\n",
    "            success_times, false_positive_times, j + 1\n",
    "        )\n",
    "    )\n",
    "    if success_times > 100:\n",
    "        num_times = j + 1\n",
    "        break\n",
    "\n",
    "pkf = success_times / num_times  # p_k * p_f"
   ]
  },
  {
   "cell_type": "code",
   "execution_count": 21,
   "metadata": {},
   "outputs": [
    {
     "name": "stdout",
     "output_type": "stream",
     "text": [
      "P_k * P_f  = 1.0\n"
     ]
    }
   ],
   "source": [
    "print(\"P_k * P_f  = {}\".format(pkf))"
   ]
  },
  {
   "cell_type": "markdown",
   "metadata": {},
   "source": [
    "Test solve svd time"
   ]
  },
  {
   "cell_type": "code",
   "execution_count": 22,
   "metadata": {},
   "outputs": [],
   "source": [
    "import numpy as np\n",
    "import attacker\n",
    "import time\n",
    "\n",
    "matrix_size = tmpka\n",
    "matrix_size_2 = dimension - tmpkb\n",
    "tmp_num_times = 100\n",
    "whole_time = 0\n",
    "for i in range(tmp_num_times):\n",
    "    tmp_matrix = np.random.rand(matrix_size, matrix_size_2)\n",
    "    tmp_matrix = tmp_matrix[:-1]\n",
    "    start_time = time.time()\n",
    "    attacker.submatrix_solver_numpy(tmp_matrix)\n",
    "    whole_time += time.time() - start_time\n",
    "\n",
    "tk = whole_time / tmp_num_times"
   ]
  },
  {
   "cell_type": "code",
   "execution_count": 23,
   "metadata": {},
   "outputs": [
    {
     "name": "stdout",
     "output_type": "stream",
     "text": [
      "Time(t_k) = 20.72948932647705 miliseconds\n",
      "* Remarks: You might find the time is longer than in the paper, it's because our experiments use intel-mkl to accelerate the svd computation, \n",
      "* while the default svd implementation is openblas, which is 10 times slower than mkl.\n"
     ]
    }
   ],
   "source": [
    "print(\"Time(t_k) = {} miliseconds\".format(tk * 1000))\n",
    "print(\n",
    "    \"* Remarks: You might find the time is longer than in the paper, it's because our experiments use intel-mkl to accelerate the svd computation, \\n\"\n",
    "    \"* while the default svd implementation is openblas, which is 10 times slower than mkl.\"\n",
    ")"
   ]
  },
  {
   "cell_type": "markdown",
   "metadata": {},
   "source": [
    "### Results"
   ]
  },
  {
   "cell_type": "code",
   "execution_count": 24,
   "metadata": {},
   "outputs": [
    {
     "name": "stdout",
     "output_type": "stream",
     "text": [
      "Whole Time:\n",
      "* seconds: 135393281.88\n",
      "* minutes: 2256554.70\n",
      "* hours: 37609.24\n",
      "* days: 1567.05\n",
      "* years: 4.29\n"
     ]
    }
   ],
   "source": [
    "rk = utils.subset_n_a_alpha(dimension, tmpka, alpha) + utils.subset_n_a_alpha(\n",
    "    dimension, tmpkb, alpha\n",
    ")\n",
    "et = tk / pkf * (2**rk)\n",
    "print(\"Whole Time:\")\n",
    "print(\"* seconds: {:.2f}\".format(et))\n",
    "print(\"* minutes: {:.2f}\".format(et / 60))\n",
    "print(\"* hours: {:.2f}\".format(et / 3600))\n",
    "print(\"* days: {:.2f}\".format(et / 3600 / 24))\n",
    "print(\"* years: {:.2f}\".format(et / 3600 / 24 / 365))"
   ]
  },
  {
   "cell_type": "markdown",
   "metadata": {},
   "source": [
    "## Test for svd getting multiple matrices if sampled matrix is \"correct\""
   ]
  },
  {
   "cell_type": "markdown",
   "metadata": {},
   "source": [
    "### Env"
   ]
  },
  {
   "cell_type": "code",
   "execution_count": 25,
   "metadata": {},
   "outputs": [
    {
     "data": {
      "text/plain": [
       "<module 'attacker' from 'd:\\\\code\\\\probabilistic-linear-regression-attack\\\\attacker.py'>"
      ]
     },
     "execution_count": 25,
     "metadata": {},
     "output_type": "execute_result"
    }
   ],
   "source": [
    "# reimport attacker\n",
    "import importlib\n",
    "import attacker\n",
    "import numpy as np\n",
    "from attacker import solve_puzzle_with_n_matrix_known_places\n",
    "from sample import generate_puzzle_n\n",
    "from tqdm.auto import tqdm\n",
    "importlib.reload(attacker)"
   ]
  },
  {
   "cell_type": "markdown",
   "metadata": {},
   "source": [
    "### Settings"
   ]
  },
  {
   "cell_type": "code",
   "execution_count": 26,
   "metadata": {},
   "outputs": [],
   "source": [
    "k = 531  # the number of sampled linear equations (k, need to justify in paper section 5 according to noise), for multiple scenarios, the number of sketches is equal to k\n",
    "# degree\n",
    "noise_angle = 8.7  # Noise(\\theta')\n",
    "threshold = 30  # threshold hyper-parameter(\\theta_t, need to justify in paper section 5 according to noise, but generally 40 is enough)"
   ]
  },
  {
   "cell_type": "code",
   "execution_count": 27,
   "metadata": {},
   "outputs": [
    {
     "name": "stdout",
     "output_type": "stream",
     "text": [
      "Parameters:\n",
      "The number of sampled linear equations(k): 531\n",
      "The number of sampled linear equations each sketch: 1\n",
      "The number of secure sketches: 531\n",
      "The noise level(Noise(\\theta')): 8.7 degree\n",
      "The threshold(\\theta_t): 30 degree\n"
     ]
    }
   ],
   "source": [
    "print(\"Parameters:\")\n",
    "print(\"The number of sampled linear equations(k):\", k)\n",
    "print(\"The number of sampled linear equations each sketch:\", 1)\n",
    "print(\"The number of secure sketches:\", k)\n",
    "print(\"The noise level(Noise(\\\\theta')):\", noise_angle, \"degree\")\n",
    "print(\"The threshold(\\\\theta_t):\", threshold, \"degree\")"
   ]
  },
  {
   "cell_type": "markdown",
   "metadata": {},
   "source": [
    "### Test Code"
   ]
  },
  {
   "cell_type": "code",
   "execution_count": 28,
   "metadata": {},
   "outputs": [
    {
     "data": {
      "application/vnd.jupyter.widget-view+json": {
       "model_id": "ca62416fe1794a48bde7bb807b4e2faf",
       "version_major": 2,
       "version_minor": 0
      },
      "text/plain": [
       "Generating Puzzles:   0%|          | 0/1024 [00:00<?, ?it/s]"
      ]
     },
     "metadata": {},
     "output_type": "display_data"
    }
   ],
   "source": [
    "error_rate = utils.translate_error_angle_to_error_noise_n(noise_angle)\n",
    "c, bs, isometrixes, coserrors = generate_puzzle_n(dimension, alpha, error_rate = error_rate, n= 2 * dimension, disable_tqdm=False)   # we will select puzzle from this"
   ]
  },
  {
   "cell_type": "code",
   "execution_count": 29,
   "metadata": {},
   "outputs": [
    {
     "data": {
      "application/vnd.jupyter.widget-view+json": {
       "model_id": "0c418ba01e7a4f45a54a1d4118e1e9ba",
       "version_major": 2,
       "version_minor": 0
      },
      "text/plain": [
       "Test for multiple matrices:   0%|          | 0/10000 [00:00<?, ?it/s]"
      ]
     },
     "metadata": {},
     "output_type": "display_data"
    }
   ],
   "source": [
    "total_run_times = 0\n",
    "success_times = 0\n",
    "false_positive_times = 0\n",
    "total_test_times = 10000\n",
    "tmpk = k\n",
    "for j in (pbar := tqdm(range(total_test_times), desc=\"Test for multiple matrices\")):\n",
    "    # random get tmpk bs and isometrixes\n",
    "    indices = np.random.choice(len(bs), tmpk, replace=False).tolist()\n",
    "    tmp_bs = [bs[i] for i in indices]\n",
    "    tmp_isometrixes = [isometrixes[i] for i in indices]\n",
    "    result = solve_puzzle_with_n_matrix_known_places(\n",
    "        tmp_isometrixes,\n",
    "        tmp_bs,\n",
    "        dimension,\n",
    "        alpha,\n",
    "        max_rtimes=1,\n",
    "        threshold=threshold,\n",
    "        disable_tqdm=True,\n",
    "        return_runtimes=True,\n",
    "    )\n",
    "    if result[0] is not None:\n",
    "        if np.allclose(result[1], tmp_bs[0]) or np.allclose(result[1], -tmp_bs[0]):\n",
    "            success_times += 1\n",
    "        else:\n",
    "            false_positive_times += 1\n",
    "    total_run_times += result[2]\n",
    "    pbar.set_postfix(\n",
    "        {\n",
    "            \"success_times\": success_times,\n",
    "            \"averg_success_prob\": success_times / total_run_times,\n",
    "            \"false_positive_times\": false_positive_times,\n",
    "        }\n",
    "    )\n",
    "    if success_times > 100:\n",
    "        num_times = j + 1\n",
    "        break"
   ]
  },
  {
   "cell_type": "code",
   "execution_count": 31,
   "metadata": {},
   "outputs": [
    {
     "name": "stdout",
     "output_type": "stream",
     "text": [
      "P_k * P_f  = 0.7062937062937062\n",
      "P_f = {} 0.9017857142857143\n"
     ]
    }
   ],
   "source": [
    "pkf = success_times / num_times\n",
    "pf = success_times / (success_times + false_positive_times)\n",
    "print(\"P_k * P_f  = {}\".format(pkf))\n",
    "print(\"P_f = {}\", pf)"
   ]
  },
  {
   "cell_type": "markdown",
   "metadata": {},
   "source": [
    "Test solve svd time"
   ]
  },
  {
   "cell_type": "code",
   "execution_count": 32,
   "metadata": {},
   "outputs": [],
   "source": [
    "import numpy as np\n",
    "import attacker\n",
    "import time\n",
    "\n",
    "matrix_size = k\n",
    "matrix_size_2 = dimension\n",
    "tmp_num_times = 100\n",
    "whole_time = 0\n",
    "for i in range(tmp_num_times):\n",
    "    tmp_matrix = np.random.rand(matrix_size, matrix_size_2)\n",
    "    tmp_matrix = tmp_matrix[:-1]\n",
    "    start_time = time.time()\n",
    "    attacker.submatrix_solver_numpy(tmp_matrix)\n",
    "    whole_time += time.time() - start_time\n",
    "\n",
    "tk = whole_time / tmp_num_times"
   ]
  },
  {
   "cell_type": "code",
   "execution_count": null,
   "metadata": {},
   "outputs": [],
   "source": [
    "print(\"Time(t_k) = {} miliseconds\".format(tk * 1000))\n",
    "print(\n",
    "    \"* Remarks: You might find the time is longer than in the paper, it's because our experiments use intel-mkl to accelerate the svd computation, \\n\"\n",
    "    \"* while the default svd implementation is openblas in Windows Platform, which is 10 times slower than mkl.\"\n",
    ")"
   ]
  },
  {
   "cell_type": "code",
   "execution_count": null,
   "metadata": {},
   "outputs": [],
   "source": [
    "# output the implementation backend of numpy BLAS' configuration, you might see OpenBlas instead of MKL\n",
    "print(np.__config__.show())"
   ]
  },
  {
   "cell_type": "markdown",
   "metadata": {},
   "source": [
    "### Results"
   ]
  },
  {
   "cell_type": "code",
   "execution_count": 34,
   "metadata": {},
   "outputs": [
    {
     "name": "stdout",
     "output_type": "stream",
     "text": [
      "Whole Time:\n",
      "* seconds: 1990576.76\n",
      "* minutes: 33176.28\n",
      "* hours: 552.94\n",
      "* days: 23.04\n",
      "* years: 0.06\n"
     ]
    }
   ],
   "source": [
    "rk = utils.subset_n_a_alpha(dimension, 1, alpha) * k\n",
    "et = tk / pkf * (2**rk)\n",
    "print(\"Whole Time:\")\n",
    "print(\"* seconds: {:.2f}\".format(et))\n",
    "print(\"* minutes: {:.2f}\".format(et / 60))\n",
    "print(\"* hours: {:.2f}\".format(et / 3600))\n",
    "print(\"* days: {:.2f}\".format(et / 3600 / 24))\n",
    "print(\"* years: {:.2f}\".format(et / 3600 / 24 / 365))"
   ]
  }
 ],
 "metadata": {
  "kernelspec": {
   "display_name": ".venv",
   "language": "python",
   "name": "python3"
  },
  "language_info": {
   "codemirror_mode": {
    "name": "ipython",
    "version": 3
   },
   "file_extension": ".py",
   "mimetype": "text/x-python",
   "name": "python",
   "nbconvert_exporter": "python",
   "pygments_lexer": "ipython3",
   "version": "3.10.16"
  }
 },
 "nbformat": 4,
 "nbformat_minor": 4
}
