{
 "cells": [
  {
   "cell_type": "code",
   "execution_count": 1,
   "metadata": {},
   "outputs": [],
   "source": [
    "import numpy as np"
   ]
  },
  {
   "cell_type": "markdown",
   "metadata": {},
   "source": [
    "## Utils"
   ]
  },
  {
   "cell_type": "code",
   "execution_count": 2,
   "metadata": {},
   "outputs": [],
   "source": [
    "from sample import _generate_puzzle\n",
    "import utils\n",
    "\n",
    "def generate_puzzle(dimension, alpha, error_rate=0):\n",
    "    w = utils.random_unit_vector(dimension)\n",
    "    a, M1, _ = _generate_puzzle(w, dimension, alpha, error_rate=0)\n",
    "    b, M2, coserror = _generate_puzzle(w, dimension, alpha, error_rate=error_rate)\n",
    "    return a, b, M2 @ M1.T, coserror"
   ]
  },
  {
   "cell_type": "markdown",
   "metadata": {},
   "source": [
    "## Example"
   ]
  },
  {
   "cell_type": "code",
   "execution_count": 6,
   "metadata": {},
   "outputs": [
    {
     "name": "stdout",
     "output_type": "stream",
     "text": [
      "True\n",
      "False\n",
      "degree:  69.99999999999999\n",
      "Design angle: 20.70481105463543\n",
      "M @ a:\t [ 22 189 258 269]\n",
      "b:\t [ 22 189 269 367]\n",
      "False\n"
     ]
    }
   ],
   "source": [
    "import math\n",
    "import numpy as np\n",
    "\n",
    "dimension = 512\n",
    "alpha = 4\n",
    "# generate a random vector with dimension 36, which has only k non-zero elements(fill with 1 or -1) in random positions\n",
    "# error_rate 0.15 -> 8.5 degrees; 0.25 -> 14 degrees; 0.35 -> 19 degrees; \n",
    "# 0.5 -> 26 degrees; 0.6 -> 31 degrees; 0.73 -> 36 degrees\n",
    "error_rate = math.tan(70 * np.pi / 180)\n",
    "a, b, isometric_matrix, coserror = generate_puzzle(dimension, alpha, error_rate=error_rate)     \n",
    "# check if it is isometric\n",
    "print(np.allclose(np.eye(dimension), np.dot(isometric_matrix, isometric_matrix.T)))\n",
    "# check if it maps a to b\n",
    "print(np.allclose(b, np.dot(isometric_matrix, a), atol=1e-3))\n",
    "print(\"degree: \", np.arccos(np.clip(coserror, -1, 1)) / np.pi * 180)\n",
    "\n",
    "print(\"Design angle:\", np.arccos(1-1/alpha) / np.pi * 180/2)\n",
    "print(\"M @ a:\\t\", np.sort(np.argsort(np.abs(isometric_matrix @ a))[-alpha:]))\n",
    "print(\"b:\\t\", np.sort(np.argsort(np.abs(b))[-alpha:]))\n",
    "print(np.allclose(np.sort(np.argsort(np.abs(isometric_matrix @ a))[-alpha:]), np.sort(np.argsort(np.abs(b))[-alpha:])))"
   ]
  },
  {
   "cell_type": "markdown",
   "metadata": {},
   "source": [
    "## Test for svd getting 2 sketches if sampled matrix is \"correct\""
   ]
  },
  {
   "cell_type": "code",
   "execution_count": 15,
   "metadata": {},
   "outputs": [
    {
     "name": "stdout",
     "output_type": "stream",
     "text": [
      "31.103979569752205\n"
     ]
    },
    {
     "data": {
      "application/vnd.jupyter.widget-view+json": {
       "model_id": "d8e0aa326aa14fb9a35e04814eb94850",
       "version_major": 2,
       "version_minor": 0
      },
      "text/plain": [
       "  0%|          | 0/10000 [00:00<?, ?it/s]"
      ]
     },
     "metadata": {},
     "output_type": "display_data"
    },
    {
     "ename": "KeyboardInterrupt",
     "evalue": "",
     "output_type": "error",
     "traceback": [
      "\u001b[0;31m---------------------------------------------------------------------------\u001b[0m",
      "\u001b[0;31mKeyboardInterrupt\u001b[0m                         Traceback (most recent call last)",
      "Cell \u001b[0;32mIn[15], line 24\u001b[0m\n\u001b[1;32m     22\u001b[0m alpha \u001b[38;5;241m=\u001b[39m \u001b[38;5;241m4\u001b[39m\n\u001b[1;32m     23\u001b[0m \u001b[38;5;66;03m# generate a random vector with dimension 512, which has only k non-zero elements(fill with 1 or -1) in random positions\u001b[39;00m\n\u001b[0;32m---> 24\u001b[0m a, b, isometric_matrix, coserror \u001b[38;5;241m=\u001b[39m \u001b[43mgenerate_puzzle\u001b[49m\u001b[43m(\u001b[49m\u001b[43mdimension\u001b[49m\u001b[43m,\u001b[49m\u001b[43m \u001b[49m\u001b[43malpha\u001b[49m\u001b[43m,\u001b[49m\u001b[43m \u001b[49m\u001b[43merror_rate\u001b[49m\u001b[38;5;241;43m=\u001b[39;49m\u001b[43merror_rate\u001b[49m\u001b[43m)\u001b[49m\n\u001b[1;32m     25\u001b[0m near_0_positions_a \u001b[38;5;241m=\u001b[39m np\u001b[38;5;241m.\u001b[39mwhere(np\u001b[38;5;241m.\u001b[39mabs(a) \u001b[38;5;241m<\u001b[39m \u001b[38;5;241m0.1\u001b[39m)[\u001b[38;5;241m0\u001b[39m]\n\u001b[1;32m     26\u001b[0m near_0_positions_b \u001b[38;5;241m=\u001b[39m np\u001b[38;5;241m.\u001b[39margsort(np\u001b[38;5;241m.\u001b[39mabs(b))[:dimension\u001b[38;5;241m-\u001b[39malpha]\n",
      "Cell \u001b[0;32mIn[2], line 7\u001b[0m, in \u001b[0;36mgenerate_puzzle\u001b[0;34m(dimension, alpha, error_rate)\u001b[0m\n\u001b[1;32m      5\u001b[0m w \u001b[38;5;241m=\u001b[39m utils\u001b[38;5;241m.\u001b[39mrandom_unit_vector(dimension)\n\u001b[1;32m      6\u001b[0m a, M1, _ \u001b[38;5;241m=\u001b[39m _generate_puzzle(w, dimension, alpha, error_rate\u001b[38;5;241m=\u001b[39m\u001b[38;5;241m0\u001b[39m)\n\u001b[0;32m----> 7\u001b[0m b, M2, coserror \u001b[38;5;241m=\u001b[39m \u001b[43m_generate_puzzle\u001b[49m\u001b[43m(\u001b[49m\u001b[43mw\u001b[49m\u001b[43m,\u001b[49m\u001b[43m \u001b[49m\u001b[43mdimension\u001b[49m\u001b[43m,\u001b[49m\u001b[43m \u001b[49m\u001b[43malpha\u001b[49m\u001b[43m,\u001b[49m\u001b[43m \u001b[49m\u001b[43merror_rate\u001b[49m\u001b[38;5;241;43m=\u001b[39;49m\u001b[43merror_rate\u001b[49m\u001b[43m)\u001b[49m\n\u001b[1;32m      8\u001b[0m \u001b[38;5;28;01mreturn\u001b[39;00m a, b, M2 \u001b[38;5;241m@\u001b[39m M1\u001b[38;5;241m.\u001b[39mT, coserror\n",
      "File \u001b[0;32m~/Documents/myarcface/attacks/attack_matrix/probabilistic_linear_regression_attack/sample.py:37\u001b[0m, in \u001b[0;36m_generate_puzzle\u001b[0;34m(unprotected_template, n, alpha, error_rate)\u001b[0m\n\u001b[1;32m     35\u001b[0m c2 \u001b[38;5;241m=\u001b[39m _generate_random_unit_vector_nearby(unprotected_template, error_rate)\n\u001b[1;32m     36\u001b[0m \u001b[38;5;66;03m# get the orthogonal matrix that mapped c2 to b\u001b[39;00m\n\u001b[0;32m---> 37\u001b[0m M2 \u001b[38;5;241m=\u001b[39m \u001b[43mgenerate_secure_sketch\u001b[49m\u001b[43m(\u001b[49m\u001b[43mc2\u001b[49m\u001b[43m,\u001b[49m\u001b[43m \u001b[49m\u001b[43mb\u001b[49m\u001b[43m)\u001b[49m\n\u001b[1;32m     38\u001b[0m \u001b[38;5;66;03m# get the cosine error between M3*a and b\u001b[39;00m\n\u001b[1;32m     39\u001b[0m coserror \u001b[38;5;241m=\u001b[39m np\u001b[38;5;241m.\u001b[39mdot(M2 \u001b[38;5;241m@\u001b[39m unprotected_template, b) \u001b[38;5;241m/\u001b[39m np\u001b[38;5;241m.\u001b[39mlinalg\u001b[38;5;241m.\u001b[39mnorm(M2 \u001b[38;5;241m@\u001b[39m unprotected_template) \u001b[38;5;241m/\u001b[39m np\u001b[38;5;241m.\u001b[39mlinalg\u001b[38;5;241m.\u001b[39mnorm(b)\n",
      "File \u001b[0;32m~/Documents/myarcface/attacks/attack_matrix/probabilistic_linear_regression_attack/ironmask.py:52\u001b[0m, in \u001b[0;36mgenerate_secure_sketch\u001b[0;34m(unprotected_template, codeword)\u001b[0m\n\u001b[1;32m     50\u001b[0m R \u001b[38;5;241m=\u001b[39m utils\u001b[38;5;241m.\u001b[39mget_naive_isometry_rotation_matrix(a_mapped, codeword)\n\u001b[1;32m     51\u001b[0m \u001b[38;5;28;01massert\u001b[39;00m np\u001b[38;5;241m.\u001b[39mallclose(np\u001b[38;5;241m.\u001b[39mdot(R, a_mapped), codeword), \u001b[38;5;28mprint\u001b[39m(np\u001b[38;5;241m.\u001b[39mdot(R, a_mapped), codeword)\n\u001b[0;32m---> 52\u001b[0m \u001b[38;5;28;01massert\u001b[39;00m \u001b[43mnp\u001b[49m\u001b[38;5;241;43m.\u001b[39;49m\u001b[43mallclose\u001b[49m\u001b[43m(\u001b[49m\u001b[43mnp\u001b[49m\u001b[38;5;241;43m.\u001b[39;49m\u001b[43meye\u001b[49m\u001b[43m(\u001b[49m\u001b[38;5;28;43mlen\u001b[39;49m\u001b[43m(\u001b[49m\u001b[43munprotected_template\u001b[49m\u001b[43m)\u001b[49m\u001b[43m)\u001b[49m\u001b[43m,\u001b[49m\u001b[43m \u001b[49m\u001b[43mR\u001b[49m\u001b[43m \u001b[49m\u001b[38;5;241;43m@\u001b[39;49m\u001b[43m \u001b[49m\u001b[43mR\u001b[49m\u001b[38;5;241;43m.\u001b[39;49m\u001b[43mT\u001b[49m\u001b[43m)\u001b[49m\n\u001b[1;32m     53\u001b[0m \u001b[38;5;28;01mreturn\u001b[39;00m np\u001b[38;5;241m.\u001b[39mdot(R, Q)\n",
      "File \u001b[0;32m<__array_function__ internals>:180\u001b[0m, in \u001b[0;36mallclose\u001b[0;34m(*args, **kwargs)\u001b[0m\n",
      "File \u001b[0;32m~/miniconda3/envs/intel-attack-m/lib/python3.10/site-packages/numpy/core/numeric.py:2195\u001b[0m, in \u001b[0;36m_allclose_dispatcher\u001b[0;34m(a, b, rtol, atol, equal_nan)\u001b[0m\n\u001b[1;32m   2187\u001b[0m     \u001b[38;5;28;01mreturn\u001b[39;00m eye(n, dtype\u001b[38;5;241m=\u001b[39mdtype, like\u001b[38;5;241m=\u001b[39mlike)\n\u001b[1;32m   2190\u001b[0m _identity_with_like \u001b[38;5;241m=\u001b[39m array_function_dispatch(\n\u001b[1;32m   2191\u001b[0m     _identity_dispatcher, use_like\u001b[38;5;241m=\u001b[39m\u001b[38;5;28;01mTrue\u001b[39;00m\n\u001b[1;32m   2192\u001b[0m )(identity)\n\u001b[0;32m-> 2195\u001b[0m \u001b[38;5;28;01mdef\u001b[39;00m \u001b[38;5;21m_allclose_dispatcher\u001b[39m(a, b, rtol\u001b[38;5;241m=\u001b[39m\u001b[38;5;28;01mNone\u001b[39;00m, atol\u001b[38;5;241m=\u001b[39m\u001b[38;5;28;01mNone\u001b[39;00m, equal_nan\u001b[38;5;241m=\u001b[39m\u001b[38;5;28;01mNone\u001b[39;00m):\n\u001b[1;32m   2196\u001b[0m     \u001b[38;5;28;01mreturn\u001b[39;00m (a, b)\n\u001b[1;32m   2199\u001b[0m \u001b[38;5;129m@array_function_dispatch\u001b[39m(_allclose_dispatcher)\n\u001b[1;32m   2200\u001b[0m \u001b[38;5;28;01mdef\u001b[39;00m \u001b[38;5;21mallclose\u001b[39m(a, b, rtol\u001b[38;5;241m=\u001b[39m\u001b[38;5;241m1.e-5\u001b[39m, atol\u001b[38;5;241m=\u001b[39m\u001b[38;5;241m1.e-8\u001b[39m, equal_nan\u001b[38;5;241m=\u001b[39m\u001b[38;5;28;01mFalse\u001b[39;00m):\n",
      "\u001b[0;31mKeyboardInterrupt\u001b[0m: "
     ]
    }
   ],
   "source": [
    "import numpy as np\n",
    "import utils\n",
    "import math\n",
    "from tqdm.auto import tqdm\n",
    "from attacker import submatrix_solver_numpy\n",
    "from ironmask import decode_codeword\n",
    "# random select dimension // 2 positions that satisfy a[i] near 0\n",
    "num_times = 0\n",
    "success_times = 0\n",
    "false_positive_times = 0\n",
    "dimension = 512\n",
    "tmpk = dimension // 2 + 220\n",
    "print(utils.subset_n_a_alpha(dimension, tmpk, alpha) * 2)\n",
    "# error_rate 0.15 -> 8.5 degrees; 0.25 -> 14 degrees; 0.35 -> 19 degrees; \n",
    "# 0.5 -> 26 degrees; 0.6 -> 31 degrees; 0.73 -> 36 degrees\n",
    "error_rate = math.tan(75 * np.pi / 180)\n",
    "threshold = 80\n",
    "\n",
    "\n",
    "for j in (pbar_outer:=tqdm(range(10000))):\n",
    "    dimension = 512\n",
    "    alpha = 4\n",
    "    # generate a random vector with dimension 512, which has only k non-zero elements(fill with 1 or -1) in random positions\n",
    "    a, b, isometric_matrix, coserror = generate_puzzle(dimension, alpha, error_rate=error_rate)\n",
    "    near_0_positions_a = np.where(np.abs(a) < 0.1)[0]\n",
    "    near_0_positions_b = np.argsort(np.abs(b))[:dimension-alpha]\n",
    "    # assert len(near_0_positions_a) == len(near_0_positions_b)\n",
    "    # random select dimension // 2 near_0_positions\n",
    "    test_number = 0\n",
    "    coserror = 0\n",
    "    min_angle = 90\n",
    "    random_near_0_positions_a = np.random.choice(near_0_positions_a, tmpk, replace=False)\n",
    "    random_near_0_positions_b = np.random.choice(near_0_positions_b, tmpk, replace=False)\n",
    "    random_near_0_positions_a = np.sort(random_near_0_positions_a)\n",
    "    random_near_0_positions_b = np.sort(random_near_0_positions_b)\n",
    "    # get the submatrix of isometric_matrix with selected rows: random_near_0_positions_b and columns: versus random_near_0_positions_a\n",
    "    versus_random_near_0_positions_a = np.setdiff1d(np.arange(dimension), random_near_0_positions_a)\n",
    "    submatrix = isometric_matrix[random_near_0_positions_b][:, versus_random_near_0_positions_a]\n",
    "    # get the null vector of submatrix\n",
    "    null_vector = submatrix_solver_numpy(submatrix)\n",
    "    null_vector = null_vector / np.linalg.norm(null_vector)\n",
    "    assume_vector = np.zeros(dimension)\n",
    "    for i in np.argsort(np.abs(null_vector)):\n",
    "        assume_vector[versus_random_near_0_positions_a[i]] = null_vector[i]\n",
    "\n",
    "    # determinant work\n",
    "    assume_b = np.dot(isometric_matrix, assume_vector)\n",
    "    decode_b = decode_codeword(assume_b, dimension, alpha)\n",
    "    # get the arc cos of assume_b and b\n",
    "    assume_a = np.dot(isometric_matrix.T, assume_b)\n",
    "    decode_a = decode_codeword(assume_a, dimension, alpha)\n",
    "    min_angle = utils.get_angle_of_two_vectors(assume_a, decode_a)\n",
    "    if min_angle < threshold:  # pass determinant check\n",
    "        if not np.allclose(np.sort(np.argsort(np.abs(decode_b))[-alpha:][::-1]), np.sort(np.argsort(np.abs(b))[-alpha:])):\n",
    "            false_positive_times += 1\n",
    "        else:\n",
    "            success_times += 1\n",
    "    pbar_outer.set_description(\"success_time: {}, false_positive_times: {}, whole_times: {}\".format(success_times, false_positive_times, j+1))\n",
    "    if success_times > 100:\n",
    "        num_times = j + 1\n",
    "        break\n",
    "\n",
    "print(success_times / num_times)\n",
    "print(success_times)"
   ]
  },
  {
   "cell_type": "markdown",
   "metadata": {},
   "source": [
    "## Test solve svd time"
   ]
  },
  {
   "cell_type": "code",
   "execution_count": null,
   "metadata": {},
   "outputs": [],
   "source": [
    "import numpy as np\n",
    "import attacker\n",
    "import time\n",
    "\n",
    "matrix_size = 512 + 400 - 1\n",
    "matrix_size_2 = 512\n",
    "\n",
    "tmp_num_times = 100\n",
    "whole_time = 0\n",
    "for i in tqdm(range(tmp_num_times)):\n",
    "    tmp_matrix = np.random.rand(matrix_size, matrix_size_2)\n",
    "    tmp_matrix = tmp_matrix[:-1]\n",
    "    start_time = time.time()\n",
    "    attacker.submatrix_solver_numpy(tmp_matrix)\n",
    "    whole_time += time.time() - start_time\n",
    "\n",
    "print(whole_time / tmp_num_times)\n",
    "print(\"Whole Time: \", whole_time)"
   ]
  },
  {
   "cell_type": "markdown",
   "metadata": {},
   "source": [
    "## Test run time for multiple matrices if sampled matrix is \"correct\""
   ]
  },
  {
   "cell_type": "code",
   "execution_count": null,
   "metadata": {},
   "outputs": [],
   "source": [
    "# reimport attacker\n",
    "import importlib\n",
    "import attacker\n",
    "importlib.reload(attacker)"
   ]
  },
  {
   "cell_type": "code",
   "execution_count": 16,
   "metadata": {},
   "outputs": [
    {
     "data": {
      "application/vnd.jupyter.widget-view+json": {
       "model_id": "4d3d60068fad4cb28b7d5b7c5bd32fae",
       "version_major": 2,
       "version_minor": 0
      },
      "text/plain": [
       "Generating Puzzles:   0%|          | 0/1024 [00:00<?, ?it/s]"
      ]
     },
     "metadata": {},
     "output_type": "display_data"
    }
   ],
   "source": [
    "from attacker import solve_puzzle_with_n_matrix_known_places\n",
    "from sample import generate_puzzle_n\n",
    "from tqdm.auto import tqdm\n",
    "import numpy as np\n",
    "error_rate = math.tan(75 * np.pi / 180)\n",
    "threshold = 80\n",
    "dimension = 512\n",
    "alpha = 4\n",
    "\n",
    "c, bs, isometrixes, coserrors = generate_puzzle_n(dimension, alpha, error_rate = error_rate, n=1024, disable_tqdm=False)\n",
    "# error parameter and angle degree relation\n",
    "# for more information, see example.ipynb\n",
    "# 0.035 -> 2.8 degrees; 0.07-> 5.6 degrees; 0.108 -> 8.6 degrees; 0.13 -> 11 degrees;  \n",
    "# 0.18 -> 14 degrees; 0.25 -> 19 degrees; 0.35 -> 26 degrees; 0.4 -> 30 degrees; 0.5 -> 36 degrees; "
   ]
  },
  {
   "cell_type": "code",
   "execution_count": 17,
   "metadata": {},
   "outputs": [
    {
     "data": {
      "application/vnd.jupyter.widget-view+json": {
       "model_id": "b4d79b254f51452fba4bbe53199c1ca1",
       "version_major": 2,
       "version_minor": 0
      },
      "text/plain": [
       "Test for multiple matrices:   0%|          | 0/10000 [00:00<?, ?it/s]"
      ]
     },
     "metadata": {},
     "output_type": "display_data"
    },
    {
     "ename": "KeyboardInterrupt",
     "evalue": "",
     "output_type": "error",
     "traceback": [
      "\u001b[0;31m---------------------------------------------------------------------------\u001b[0m",
      "\u001b[0;31mKeyboardInterrupt\u001b[0m                         Traceback (most recent call last)",
      "Cell \u001b[0;32mIn[17], line 11\u001b[0m\n\u001b[1;32m      9\u001b[0m tmp_bs \u001b[38;5;241m=\u001b[39m [bs[i] \u001b[38;5;28;01mfor\u001b[39;00m i \u001b[38;5;129;01min\u001b[39;00m indices]\n\u001b[1;32m     10\u001b[0m tmp_isometrixes \u001b[38;5;241m=\u001b[39m [isometrixes[i] \u001b[38;5;28;01mfor\u001b[39;00m i \u001b[38;5;129;01min\u001b[39;00m indices]\n\u001b[0;32m---> 11\u001b[0m result \u001b[38;5;241m=\u001b[39m \u001b[43msolve_puzzle_with_n_matrix_known_places\u001b[49m\u001b[43m(\u001b[49m\u001b[43mtmp_isometrixes\u001b[49m\u001b[43m,\u001b[49m\u001b[43m \u001b[49m\u001b[43mtmp_bs\u001b[49m\u001b[43m,\u001b[49m\u001b[43m \u001b[49m\u001b[43mdimension\u001b[49m\u001b[43m,\u001b[49m\u001b[43m \u001b[49m\u001b[43malpha\u001b[49m\u001b[43m,\u001b[49m\u001b[43m \u001b[49m\u001b[43mmax_rtimes\u001b[49m\u001b[38;5;241;43m=\u001b[39;49m\u001b[38;5;241;43m1\u001b[39;49m\u001b[43m,\u001b[49m\u001b[43m \u001b[49m\u001b[43mthreshold\u001b[49m\u001b[38;5;241;43m=\u001b[39;49m\u001b[38;5;241;43m45\u001b[39;49m\u001b[43m,\u001b[49m\u001b[43m \u001b[49m\u001b[43mdisable_tqdm\u001b[49m\u001b[38;5;241;43m=\u001b[39;49m\u001b[38;5;28;43;01mTrue\u001b[39;49;00m\u001b[43m,\u001b[49m\u001b[43m \u001b[49m\u001b[43mreturn_runtimes\u001b[49m\u001b[38;5;241;43m=\u001b[39;49m\u001b[38;5;28;43;01mTrue\u001b[39;49;00m\u001b[43m)\u001b[49m\n\u001b[1;32m     12\u001b[0m \u001b[38;5;28;01mif\u001b[39;00m result[\u001b[38;5;241m0\u001b[39m] \u001b[38;5;129;01mis\u001b[39;00m \u001b[38;5;129;01mnot\u001b[39;00m \u001b[38;5;28;01mNone\u001b[39;00m:\n\u001b[1;32m     13\u001b[0m     \u001b[38;5;28;01mif\u001b[39;00m (np\u001b[38;5;241m.\u001b[39mallclose(result[\u001b[38;5;241m1\u001b[39m], tmp_bs[\u001b[38;5;241m0\u001b[39m]) \u001b[38;5;129;01mor\u001b[39;00m np\u001b[38;5;241m.\u001b[39mallclose(result[\u001b[38;5;241m1\u001b[39m], \u001b[38;5;241m-\u001b[39mtmp_bs[\u001b[38;5;241m0\u001b[39m])):\n",
      "File \u001b[0;32m~/Documents/myarcface/attacks/attack_matrix/probabilistic_linear_regression_attack/attacker.py:193\u001b[0m, in \u001b[0;36msolve_puzzle_with_n_matrix_known_places\u001b[0;34m(isometric_matrixes, mapped_codeword_list, dimension, alpha, threshold, max_rtimes, algorithm, **kwargs)\u001b[0m\n\u001b[1;32m    191\u001b[0m pbar\u001b[38;5;241m.\u001b[39mupdate()\n\u001b[1;32m    192\u001b[0m pbar\u001b[38;5;241m.\u001b[39mset_postfix({\u001b[38;5;124m\"\u001b[39m\u001b[38;5;124mangle_min\u001b[39m\u001b[38;5;124m\"\u001b[39m: angle_min, \u001b[38;5;124m\"\u001b[39m\u001b[38;5;124mget_result_times\u001b[39m\u001b[38;5;124m\"\u001b[39m: get_result_times})\n\u001b[0;32m--> 193\u001b[0m null_vector \u001b[38;5;241m=\u001b[39m \u001b[43msolver\u001b[49m\u001b[43m(\u001b[49m\u001b[43msub_matrix\u001b[49m\u001b[43m)\u001b[49m\n\u001b[1;32m    194\u001b[0m \u001b[38;5;28;01mif\u001b[39;00m null_vector \u001b[38;5;129;01mis\u001b[39;00m \u001b[38;5;28;01mNone\u001b[39;00m:\n\u001b[1;32m    195\u001b[0m     \u001b[38;5;28;01mcontinue\u001b[39;00m\n",
      "File \u001b[0;32m~/Documents/myarcface/attacks/attack_matrix/probabilistic_linear_regression_attack/attacker.py:24\u001b[0m, in \u001b[0;36msubmatrix_solver_numpy\u001b[0;34m(submatrix)\u001b[0m\n\u001b[1;32m     20\u001b[0m \u001b[38;5;28;01mdef\u001b[39;00m \u001b[38;5;21msubmatrix_solver_numpy\u001b[39m(submatrix:np\u001b[38;5;241m.\u001b[39mndarray):\n\u001b[1;32m     21\u001b[0m \u001b[38;5;250m    \u001b[39m\u001b[38;5;124;03m\"\"\"\u001b[39;00m\n\u001b[1;32m     22\u001b[0m \u001b[38;5;124;03m    Return the null vector of the submatrix(svd)\u001b[39;00m\n\u001b[1;32m     23\u001b[0m \u001b[38;5;124;03m    \"\"\"\u001b[39;00m\n\u001b[0;32m---> 24\u001b[0m     null_vector \u001b[38;5;241m=\u001b[39m \u001b[43mnp\u001b[49m\u001b[38;5;241;43m.\u001b[39;49m\u001b[43mlinalg\u001b[49m\u001b[38;5;241;43m.\u001b[39;49m\u001b[43msvd\u001b[49m\u001b[43m(\u001b[49m\u001b[43msubmatrix\u001b[49m\u001b[43m)\u001b[49m[\u001b[38;5;241m2\u001b[39m][\u001b[38;5;241m-\u001b[39m\u001b[38;5;241m1\u001b[39m, :]\n\u001b[1;32m     25\u001b[0m     \u001b[38;5;28;01mreturn\u001b[39;00m null_vector\n",
      "File \u001b[0;32m<__array_function__ internals>:200\u001b[0m, in \u001b[0;36msvd\u001b[0;34m(*args, **kwargs)\u001b[0m\n",
      "File \u001b[0;32m~/miniconda3/envs/intel-attack-m/lib/python3.10/site-packages/numpy/linalg/linalg.py:1642\u001b[0m, in \u001b[0;36msvd\u001b[0;34m(a, full_matrices, compute_uv, hermitian)\u001b[0m\n\u001b[1;32m   1639\u001b[0m         gufunc \u001b[38;5;241m=\u001b[39m _umath_linalg\u001b[38;5;241m.\u001b[39msvd_n_s\n\u001b[1;32m   1641\u001b[0m signature \u001b[38;5;241m=\u001b[39m \u001b[38;5;124m'\u001b[39m\u001b[38;5;124mD->DdD\u001b[39m\u001b[38;5;124m'\u001b[39m \u001b[38;5;28;01mif\u001b[39;00m isComplexType(t) \u001b[38;5;28;01melse\u001b[39;00m \u001b[38;5;124m'\u001b[39m\u001b[38;5;124md->ddd\u001b[39m\u001b[38;5;124m'\u001b[39m\n\u001b[0;32m-> 1642\u001b[0m u, s, vh \u001b[38;5;241m=\u001b[39m \u001b[43mgufunc\u001b[49m\u001b[43m(\u001b[49m\u001b[43ma\u001b[49m\u001b[43m,\u001b[49m\u001b[43m \u001b[49m\u001b[43msignature\u001b[49m\u001b[38;5;241;43m=\u001b[39;49m\u001b[43msignature\u001b[49m\u001b[43m,\u001b[49m\u001b[43m \u001b[49m\u001b[43mextobj\u001b[49m\u001b[38;5;241;43m=\u001b[39;49m\u001b[43mextobj\u001b[49m\u001b[43m)\u001b[49m\n\u001b[1;32m   1643\u001b[0m u \u001b[38;5;241m=\u001b[39m u\u001b[38;5;241m.\u001b[39mastype(result_t, copy\u001b[38;5;241m=\u001b[39m\u001b[38;5;28;01mFalse\u001b[39;00m)\n\u001b[1;32m   1644\u001b[0m s \u001b[38;5;241m=\u001b[39m s\u001b[38;5;241m.\u001b[39mastype(_realType(result_t), copy\u001b[38;5;241m=\u001b[39m\u001b[38;5;28;01mFalse\u001b[39;00m)\n",
      "\u001b[0;31mKeyboardInterrupt\u001b[0m: "
     ]
    }
   ],
   "source": [
    "total_run_times = 0\n",
    "success_times = 0\n",
    "false_positive_times = 0\n",
    "total_test_times = 10000\n",
    "tmpk = dimension - 1 + 400  # how many sketches do we choose\n",
    "for j in (pbar:=tqdm(range(total_test_times), desc=\"Test for multiple matrices\")):\n",
    "    # random get (dimension - 1) bs and isometrixes\n",
    "    indices = np.random.choice(len(bs), tmpk, replace=False).tolist()\n",
    "    tmp_bs = [bs[i] for i in indices]\n",
    "    tmp_isometrixes = [isometrixes[i] for i in indices]\n",
    "    result = solve_puzzle_with_n_matrix_known_places(tmp_isometrixes, tmp_bs, dimension, alpha, max_rtimes=1, threshold=45, disable_tqdm=True, return_runtimes=True)\n",
    "    if result[0] is not None:\n",
    "        if (np.allclose(result[1], tmp_bs[0]) or np.allclose(result[1], -tmp_bs[0])):\n",
    "            success_times += 1\n",
    "        else:\n",
    "            false_positive_times += 1\n",
    "    total_run_times += result[2]\n",
    "    pbar.set_postfix({\"success_times\": success_times, \n",
    "                      \"averg_success_prob\": success_times / total_run_times,\n",
    "                      \"false_positive_times\": false_positive_times})\n",
    "    if success_times > 100:\n",
    "        num_times = j + 1\n",
    "        break\n",
    "\n",
    "print(\"Pr[Success]: \", success_times / num_times)\n",
    "print(\"Pr[False postive]: \", false_positive_times / num_times)"
   ]
  }
 ],
 "metadata": {
  "kernelspec": {
   "display_name": "intel-attack-m",
   "language": "python",
   "name": "python3"
  },
  "language_info": {
   "codemirror_mode": {
    "name": "ipython",
    "version": 3
   },
   "file_extension": ".py",
   "mimetype": "text/x-python",
   "name": "python",
   "nbconvert_exporter": "python",
   "pygments_lexer": "ipython3",
   "version": "3.10.11"
  }
 },
 "nbformat": 4,
 "nbformat_minor": 4
}
