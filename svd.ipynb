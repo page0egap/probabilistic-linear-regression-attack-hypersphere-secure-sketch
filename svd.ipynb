{
 "cells": [
  {
   "cell_type": "code",
   "execution_count": 3,
   "metadata": {},
   "outputs": [],
   "source": [
    "import numpy as np"
   ]
  },
  {
   "cell_type": "markdown",
   "metadata": {},
   "source": [
    "## Utils"
   ]
  },
  {
   "cell_type": "code",
   "execution_count": 30,
   "metadata": {},
   "outputs": [],
   "source": [
    "from sample import _generate_puzzle\n",
    "import utils\n",
    "\n",
    "def generate_puzzle(dimension, alpha, error_rate=0):\n",
    "    w = utils.random_unit_vector(dimension)\n",
    "    a, M1, _ = _generate_puzzle(w, dimension, alpha, error_rate=0)\n",
    "    b, M2, coserror = _generate_puzzle(w, dimension, alpha, error_rate=error_rate)\n",
    "    return a, b, M2 @ M1.T, coserror"
   ]
  },
  {
   "cell_type": "markdown",
   "metadata": {},
   "source": [
    "## Example"
   ]
  },
  {
   "cell_type": "code",
   "execution_count": null,
   "metadata": {},
   "outputs": [],
   "source": [
    "\n",
    "import numpy as np\n",
    "\n",
    "dimension = 512\n",
    "alpha = 16\n",
    "# generate a random vector with dimension 36, which has only k non-zero elements(fill with 1 or -1) in random positions\n",
    "# error_rate 0.15 -> 8.5 degrees; 0.25 -> 14 degrees; 0.35 -> 19 degrees; \n",
    "# 0.5 -> 26 degrees; 0.6 -> 31 degrees; 0.73 -> 36 degrees\n",
    "error_rate = 0.73\n",
    "a, b, isometric_matrix, coserror = generate_puzzle(dimension, alpha, error_rate=error_rate)     \n",
    "# check if it is isometric\n",
    "print(np.allclose(np.eye(dimension), np.dot(isometric_matrix, isometric_matrix.T)))\n",
    "# check if it maps a to b\n",
    "print(np.allclose(b, np.dot(isometric_matrix, a), atol=1e-3))\n",
    "print(\"degree: \", np.arccos(np.clip(coserror, -1, 1)) / np.pi * 180)\n",
    "\n",
    "print(\"Design angle:\", np.arccos(1-1/alpha) / np.pi * 180/2)\n",
    "print(\"M @ a:\\t\", np.sort(np.argsort(np.abs(isometric_matrix @ a))[-alpha:]))\n",
    "print(\"b:\\t\", np.sort(np.argsort(np.abs(b))[-alpha:]))\n",
    "print(np.allclose(np.sort(np.argsort(np.abs(isometric_matrix @ a))[-alpha:]), np.sort(np.argsort(np.abs(b))[-alpha:])))"
   ]
  },
  {
   "cell_type": "markdown",
   "metadata": {},
   "source": [
    "## Test for svd getting 2 sketches if sampled matrix is \"correct\""
   ]
  },
  {
   "cell_type": "code",
   "execution_count": null,
   "metadata": {},
   "outputs": [],
   "source": [
    "import numpy as np\n",
    "import utils\n",
    "from tqdm.auto import tqdm\n",
    "from attacker import submatrix_solver_numpy\n",
    "from ironmask import decode_codeword\n",
    "# random select dimension // 2 positions that satisfy a[i] near 0\n",
    "num_times = 0\n",
    "success_times = 0\n",
    "false_positive_times = 0\n",
    "dimension = 512\n",
    "tmpk = dimension // 2 + 5\n",
    "# error_rate 0.15 -> 8.5 degrees; 0.25 -> 14 degrees; 0.35 -> 19 degrees; \n",
    "# 0.5 -> 26 degrees; 0.6 -> 31 degrees; 0.73 -> 36 degrees\n",
    "error_rate = 0.15\n",
    "threshold = 40\n",
    "\n",
    "\n",
    "for j in (pbar_outer:=tqdm(range(10000))):\n",
    "    dimension = 512\n",
    "    alpha = 16\n",
    "    # generate a random vector with dimension 512, which has only k non-zero elements(fill with 1 or -1) in random positions\n",
    "    a, b, isometric_matrix, coserror = generate_puzzle(dimension, alpha, error_rate=error_rate)\n",
    "    near_0_positions_a = np.where(np.abs(a) < 0.1)[0]\n",
    "    near_0_positions_b = np.argsort(np.abs(b))[:dimension-alpha]\n",
    "    # assert len(near_0_positions_a) == len(near_0_positions_b)\n",
    "    # random select dimension // 2 near_0_positions\n",
    "    test_number = 0\n",
    "    coserror = 0\n",
    "    min_angle = 90\n",
    "    random_near_0_positions_a = np.random.choice(near_0_positions_a, tmpk, replace=False)\n",
    "    random_near_0_positions_b = np.random.choice(near_0_positions_b, tmpk, replace=False)\n",
    "    random_near_0_positions_a = np.sort(random_near_0_positions_a)\n",
    "    random_near_0_positions_b = np.sort(random_near_0_positions_b)\n",
    "    # get the submatrix of isometric_matrix with selected rows: random_near_0_positions_b and columns: versus random_near_0_positions_a\n",
    "    versus_random_near_0_positions_a = np.setdiff1d(np.arange(dimension), random_near_0_positions_a)\n",
    "    submatrix = isometric_matrix[random_near_0_positions_b][:, versus_random_near_0_positions_a]\n",
    "    # get the null vector of submatrix\n",
    "    null_vector = submatrix_solver_numpy(submatrix)\n",
    "    null_vector = null_vector / np.linalg.norm(null_vector)\n",
    "    assume_vector = np.zeros(dimension)\n",
    "    for i in np.argsort(np.abs(null_vector)):\n",
    "        assume_vector[versus_random_near_0_positions_a[i]] = null_vector[i]\n",
    "\n",
    "    # determinant work\n",
    "    assume_b = np.dot(isometric_matrix, assume_vector)\n",
    "    decode_b = decode_codeword(assume_b, dimension, alpha)\n",
    "    # get the arc cos of assume_b and b\n",
    "    assume_a = np.dot(isometric_matrix.T, assume_b)\n",
    "    decode_a = decode_codeword(assume_a, dimension, alpha)\n",
    "    min_angle = utils.get_angle_of_two_vectors(assume_a, decode_a)\n",
    "    if min_angle < threshold:  # pass determinant check\n",
    "        if not np.allclose(np.sort(np.argsort(np.abs(decode_b))[-alpha:][::-1]), np.sort(np.argsort(np.abs(b))[-alpha:])):\n",
    "            false_positive_times += 1\n",
    "        else:\n",
    "            success_times += 1\n",
    "    pbar_outer.set_description(\"success_time: {}, false_positive_times: {}, whole_times: {}\".format(success_times, false_positive_times, j+1))\n",
    "    if success_times > 100:\n",
    "        num_times = j + 1\n",
    "        break\n",
    "\n",
    "print(success_times / num_times)\n",
    "print(success_times)"
   ]
  },
  {
   "cell_type": "markdown",
   "metadata": {},
   "source": [
    "## Test solve svd time"
   ]
  },
  {
   "cell_type": "code",
   "execution_count": null,
   "metadata": {},
   "outputs": [],
   "source": [
    "import numpy as np\n",
    "import attacker\n",
    "import time\n",
    "\n",
    "matrix_size = 512 + 400 - 1\n",
    "matrix_size_2 = 512\n",
    "\n",
    "tmp_num_times = 100\n",
    "whole_time = 0\n",
    "for i in tqdm(range(tmp_num_times)):\n",
    "    tmp_matrix = np.random.rand(matrix_size, matrix_size_2)\n",
    "    tmp_matrix = tmp_matrix[:-1]\n",
    "    start_time = time.time()\n",
    "    attacker.submatrix_solver_numpy(tmp_matrix)\n",
    "    whole_time += time.time() - start_time\n",
    "\n",
    "print(whole_time / tmp_num_times)\n",
    "print(\"Whole Time: \", whole_time)"
   ]
  },
  {
   "cell_type": "markdown",
   "metadata": {},
   "source": [
    "## Test run time for multiple matrices if sampled matrix is \"correct\""
   ]
  },
  {
   "cell_type": "code",
   "execution_count": null,
   "metadata": {},
   "outputs": [],
   "source": [
    "# reimport attacker\n",
    "import importlib\n",
    "import attacker\n",
    "importlib.reload(attacker)"
   ]
  },
  {
   "cell_type": "code",
   "execution_count": null,
   "metadata": {},
   "outputs": [],
   "source": [
    "from attacker import solve_puzzle_with_n_matrix_known_places\n",
    "from sample import generate_puzzle_n\n",
    "from tqdm.auto import tqdm\n",
    "import numpy as np\n",
    "dimension = 512\n",
    "alpha = 16\n",
    "\n",
    "c, bs, isometrixes, coserrors = generate_puzzle_n(dimension, alpha, error_rate = 0.5, n=1024, disable_tqdm=False)\n",
    "# error parameter and angle degree relation\n",
    "# for more information, see example.ipynb\n",
    "# 0.035 -> 2.8 degrees; 0.07-> 5.6 degrees; 0.108 -> 8.6 degrees; 0.13 -> 11 degrees;  \n",
    "# 0.18 -> 14 degrees; 0.25 -> 19 degrees; 0.35 -> 26 degrees; 0.4 -> 30 degrees; 0.5 -> 36 degrees; "
   ]
  },
  {
   "cell_type": "code",
   "execution_count": null,
   "metadata": {},
   "outputs": [],
   "source": [
    "total_run_times = 0\n",
    "success_times = 0\n",
    "false_positive_times = 0\n",
    "total_test_times = 10000\n",
    "tmpk = dimension - 1 + 400  # how many sketches do we choose\n",
    "for j in (pbar:=tqdm(range(total_test_times), desc=\"Test for multiple matrices\")):\n",
    "    # random get (dimension - 1) bs and isometrixes\n",
    "    indices = np.random.choice(len(bs), tmpk, replace=False).tolist()\n",
    "    tmp_bs = [bs[i] for i in indices]\n",
    "    tmp_isometrixes = [isometrixes[i] for i in indices]\n",
    "    result = solve_puzzle_with_n_matrix_known_places(tmp_isometrixes, tmp_bs, dimension, alpha, max_rtimes=1, threshold=45, disable_tqdm=True, return_runtimes=True)\n",
    "    if result[0] is not None:\n",
    "        if (np.allclose(result[1], tmp_bs[0]) or np.allclose(result[1], -tmp_bs[0])):\n",
    "            success_times += 1\n",
    "        else:\n",
    "            false_positive_times += 1\n",
    "    total_run_times += result[2]\n",
    "    pbar.set_postfix({\"success_times\": success_times, \n",
    "                      \"averg_success_prob\": success_times / total_run_times,\n",
    "                      \"false_positive_times\": false_positive_times})\n",
    "    if success_times > 100:\n",
    "        num_times = j + 1\n",
    "        break\n",
    "\n",
    "print(\"Pr[Success]: \", success_times / num_times)\n",
    "print(\"Pr[False postive]: \", false_positive_times / num_times)"
   ]
  }
 ],
 "metadata": {
  "kernelspec": {
   "display_name": "attack-m",
   "language": "python",
   "name": "python3"
  },
  "language_info": {
   "codemirror_mode": {
    "name": "ipython",
    "version": 3
   },
   "file_extension": ".py",
   "mimetype": "text/x-python",
   "name": "python",
   "nbconvert_exporter": "python",
   "pygments_lexer": "ipython3",
   "version": "3.10.11"
  }
 },
 "nbformat": 4,
 "nbformat_minor": 4
}
