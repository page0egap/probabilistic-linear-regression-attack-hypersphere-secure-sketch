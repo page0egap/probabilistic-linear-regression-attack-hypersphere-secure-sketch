{
 "cells": [
  {
   "cell_type": "code",
   "execution_count": 26,
   "metadata": {},
   "outputs": [],
   "source": [
    "from itertools import combinations\n",
    "from tqdm.auto import tqdm\n",
    "import numpy as np\n",
    "import math\n",
    "import sample as sampler\n",
    "import utils\n",
    "import attacker\n",
    "from model import BackBone"
   ]
  },
  {
   "cell_type": "markdown",
   "metadata": {},
   "source": [
    "## Dataset"
   ]
  },
  {
   "cell_type": "code",
   "execution_count": 27,
   "metadata": {},
   "outputs": [],
   "source": [
    "# model path, where your model is \n",
    "model_path = \"/mnt/e/BaiduNet/ms1mv3_arcface_r100_fp16\"\n",
    "# fatial data path(upper diretory)\n",
    "data_fei_retinaface_path = \"/mnt/e/Downloads/FEI/originalimages_retinaface_122\"\n",
    "data_color_feret_path = \"/mnt/e/Downloads/colorferet/images_retina\"\n",
    "data_fatial_path = data_color_feret_path\n",
    "# model parameters, need to revise if using different model\n",
    "# for example, ms1mv3_arcface_r100_fp16 -> \"r100\", \"fp16\": True\n",
    "kwargs = {\"name\": \"r100\", \"dropout\":0.0, \"fp16\": True, \"num_features\": 512}"
   ]
  },
  {
   "cell_type": "code",
   "execution_count": 28,
   "metadata": {},
   "outputs": [],
   "source": [
    "backbone_model = BackBone(platform=\"pytorch\", backbone_path=f\"{model_path}/backbone.pth\", **kwargs)"
   ]
  },
  {
   "cell_type": "code",
   "execution_count": 29,
   "metadata": {},
   "outputs": [
    {
     "data": {
      "text/plain": [
       "'/tmp/ms1mv3_arcface_r100_fp16'"
      ]
     },
     "execution_count": 29,
     "metadata": {},
     "output_type": "execute_result"
    }
   ],
   "source": [
    "import tempfile\n",
    "# tempdir: where to temporarily store fatial embeddings\n",
    "tempdir = '/tmp/' + model_path.split('/')[-1].split('.')[0]\n",
    "tempdir"
   ]
  },
  {
   "cell_type": "code",
   "execution_count": 30,
   "metadata": {},
   "outputs": [],
   "source": [
    "from torchvision import transforms\n",
    "from dataset.fatial_dataset import FatialDataset\n",
    "\n",
    "fatial_dataset = FatialDataset(data_fatial_path, transform=transforms.Compose([\n",
    "    transforms.ToPILImage(),\n",
    "    transforms.Resize((112, 112)),\n",
    "    transforms.ToTensor(),\n",
    "    lambda x: x * 2 - 1]), target_transform=lambda label: str(label))"
   ]
  },
  {
   "cell_type": "code",
   "execution_count": 31,
   "metadata": {},
   "outputs": [
    {
     "name": "stderr",
     "output_type": "stream",
     "text": [
      "Enumerating:   0%|          | 0/488 [00:00<?, ?it/s]"
     ]
    },
    {
     "name": "stderr",
     "output_type": "stream",
     "text": [
      "                                                              \r"
     ]
    }
   ],
   "source": [
    "from dataset.fatial_dataset_embedding_dict import FatialDataEmbeddingsDict\n",
    "dataset_dict = FatialDataEmbeddingsDict(file_folder=tempdir, data_set=fatial_dataset, file_raw_name=\"labels.pickle\")\n",
    "dataset_dict.dump_embeddings(backbone_model, 10)"
   ]
  },
  {
   "cell_type": "code",
   "execution_count": 32,
   "metadata": {},
   "outputs": [
    {
     "name": "stdout",
     "output_type": "stream",
     "text": [
      "1123\n"
     ]
    }
   ],
   "source": [
    "identity_list = list(dataset_dict.keys())\n",
    "print(len(identity_list))"
   ]
  },
  {
   "cell_type": "markdown",
   "metadata": {},
   "source": [
    "## Parameters"
   ]
  },
  {
   "cell_type": "code",
   "execution_count": 33,
   "metadata": {},
   "outputs": [
    {
     "name": "stdout",
     "output_type": "stream",
     "text": [
      "Estimated angle between two noisy templates: 28.407677076587362\n"
     ]
    }
   ],
   "source": [
    "# codeword parameters\n",
    "dimension = 512\n",
    "alpha = 16\n",
    "n = 511\n",
    "error_rate = 0.37    # angle(w + noise_1, w + noise_2) \n",
    "                    # approximate 2*arcsin(error_rate * \\sqrt(2) / \\sqrt(1 + error_rate^2) / 2)\n",
    "print(\"Estimated angle between two noisy templates: {}\".format(2 * np.arcsin(error_rate * np.sqrt(2) / np.sqrt(1 + error_rate**2) / 2) * 180 / np.pi))"
   ]
  },
  {
   "cell_type": "markdown",
   "metadata": {},
   "source": [
    "## Secure sketch true accept rate"
   ]
  },
  {
   "cell_type": "code",
   "execution_count": 37,
   "metadata": {},
   "outputs": [
    {
     "name": "stdout",
     "output_type": "stream",
     "text": [
      "1123\n"
     ]
    },
    {
     "data": {
      "application/vnd.jupyter.widget-view+json": {
       "model_id": "2953dc60d63d41a2b331d00da261fdbf",
       "version_major": 2,
       "version_minor": 0
      },
      "text/plain": [
       "  0%|          | 0/1123 [00:00<?, ?it/s]"
      ]
     },
     "metadata": {},
     "output_type": "display_data"
    }
   ],
   "source": [
    "identity_list = list(dataset_dict.keys())\n",
    "print(len(identity_list))\n",
    "\n",
    "import ironmask\n",
    "import math\n",
    "success_num = 0\n",
    "whole_num = 0\n",
    "index_list = [0, 1, 2, 3, 4, 5, 6, 7, 8, 9, 10]  # according to labels.csv, if the sequences is p02, p03, ..., then index of 0 is p02, index of 1 is p03 and etc\n",
    "index_list = [0, 1, 2, 3]\n",
    "for each_identity in tqdm(identity_list):\n",
    "    for index in index_list:\n",
    "        tmpcs = ironmask.sample_codeword(dimension, alpha)\n",
    "        tmpw = dataset_dict[each_identity][index]\n",
    "        # tmpw = sampler._generate_random_unit_vector_nearby(tmpw, math.tan(56.3228 * math.pi / 180))\n",
    "        tmp_sketch = ironmask.generate_secure_sketch(tmpw, tmpcs)\n",
    "        for indexj in index_list:\n",
    "            if index==indexj: continue\n",
    "            tmpw = dataset_dict[each_identity][indexj]\n",
    "            candidate = tmp_sketch @ tmpw\n",
    "            candidate = ironmask.decode_codeword(candidate, dimension, alpha)\n",
    "            if np.allclose(candidate, tmpcs):\n",
    "                success_num += 1\n",
    "            whole_num += 1"
   ]
  },
  {
   "cell_type": "code",
   "execution_count": 38,
   "metadata": {},
   "outputs": [
    {
     "name": "stdout",
     "output_type": "stream",
     "text": [
      "success_num:  12243 \twhole_num:  13476 success rate:  90.8504%\n"
     ]
    }
   ],
   "source": [
    "print(\"success_num: \", success_num, \"\\twhole_num: \", whole_num, \"success rate: \", \"{:.4f}%\".format(success_num / whole_num * 100))"
   ]
  },
  {
   "cell_type": "markdown",
   "metadata": {},
   "source": [
    "## Generate puzzle with each identity"
   ]
  },
  {
   "cell_type": "code",
   "execution_count": 39,
   "metadata": {},
   "outputs": [
    {
     "data": {
      "application/vnd.jupyter.widget-view+json": {
       "model_id": "0fb45f21b0624f509334698790a02abd",
       "version_major": 2,
       "version_minor": 0
      },
      "text/plain": [
       "  0%|          | 0/1123 [00:00<?, ?it/s]"
      ]
     },
     "metadata": {},
     "output_type": "display_data"
    },
    {
     "name": "stdout",
     "output_type": "stream",
     "text": [
      "39.68718703137071\n"
     ]
    }
   ],
   "source": [
    "# generate puzzle\n",
    "import ironmask\n",
    "import itertools\n",
    "cs = []\n",
    "isometric_matrixes = []\n",
    "index_list = [0, 2, 3]\n",
    "angles_sum = 0\n",
    "for each_identity in tqdm(identity_list):\n",
    "    each_isometric_matrixes = []\n",
    "    each_cs = []\n",
    "    for indexi, indexj in itertools.combinations(index_list, 2):\n",
    "        angles_sum += utils.get_angle_of_two_vectors(dataset_dict[each_identity][indexi], dataset_dict[each_identity][indexj])\n",
    "    for index in index_list:  # according to labels.csv, if the sequences is p02, p03, ..., then index of 0 is p02, index of 1 is p03 and etc\n",
    "        tmpcs = ironmask.sample_codeword(dimension, alpha)\n",
    "        tmpw = dataset_dict[each_identity][index]\n",
    "        # tmpw = sampler._generate_random_unit_vector_nearby(tmpw, math.tan(56.3228 * math.pi / 180))\n",
    "        each_isometric_matrixes.append(ironmask.generate_secure_sketch(dataset_dict[each_identity][index], tmpcs))\n",
    "        each_cs.append(tmpcs)\n",
    "    cs.append(cs)\n",
    "    isometric_matrixes.append(each_isometric_matrixes)\n",
    "angle_mean = angles_sum / (len(index_list) * (len(index_list) - 1) // 2 * len(identity_list))\n",
    "print(angle_mean)"
   ]
  },
  {
   "cell_type": "markdown",
   "metadata": {},
   "source": [
    "## solving original template if sampled matrix is correct\n",
    "\n",
    "ensure the matrix generated by linear equation sampler is \"correct\" as in Definition 4.1 in paper."
   ]
  },
  {
   "cell_type": "markdown",
   "metadata": {},
   "source": [
    "svd solver"
   ]
  },
  {
   "cell_type": "code",
   "execution_count": null,
   "metadata": {},
   "outputs": [],
   "source": [
    "assume_vector, b = attacker.solve_puzzle_with_n_matrix_known_places(isometric_matrixes, cs, dimension, alpha, threshold=49, max_rtimes=1000, algorithm=\"SVD\", disable_tqdm=False, k_each_matrix=1)"
   ]
  },
  {
   "cell_type": "code",
   "execution_count": null,
   "metadata": {},
   "outputs": [],
   "source": [
    "# check the result(b is whether equal to the first code word)\n",
    "print(\"The result is: \", np.allclose(b, cs[0]) or np.allclose(b, -cs[0]))"
   ]
  },
  {
   "cell_type": "markdown",
   "metadata": {},
   "source": [
    "lsa solver"
   ]
  },
  {
   "cell_type": "code",
   "execution_count": null,
   "metadata": {},
   "outputs": [
    {
     "data": {
      "application/vnd.jupyter.widget-view+json": {
       "model_id": "49e78ab69e414eeaaf1cb20a273c0ccc",
       "version_major": 2,
       "version_minor": 0
      },
      "text/plain": [
       "  0%|          | 0/1123 [00:00<?, ?it/s]"
      ]
     },
     "metadata": {},
     "output_type": "display_data"
    },
    {
     "data": {
      "application/vnd.jupyter.widget-view+json": {
       "model_id": "ad202813768b4adebbb6ecd3a8f63316",
       "version_major": 2,
       "version_minor": 0
      },
      "text/plain": [
       "Solving(LSA):   0%|          | 0/10000 [00:00<?, ?it/s]"
      ]
     },
     "metadata": {},
     "output_type": "display_data"
    },
    {
     "ename": "KeyboardInterrupt",
     "evalue": "",
     "output_type": "error",
     "traceback": [
      "\u001b[0;31m---------------------------------------------------------------------------\u001b[0m",
      "\u001b[0;31mKeyboardInterrupt\u001b[0m                         Traceback (most recent call last)",
      "Cell \u001b[0;32mIn[41], line 10\u001b[0m\n\u001b[1;32m      8\u001b[0m     each_isometric_matrixes\u001b[38;5;241m.\u001b[39mappend(ironmask\u001b[38;5;241m.\u001b[39mgenerate_secure_sketch(dataset_dict[each_identity][index], tmpcs))\n\u001b[1;32m      9\u001b[0m     each_cs\u001b[38;5;241m.\u001b[39mappend(tmpcs)\n\u001b[0;32m---> 10\u001b[0m assume_vector, b, run_times \u001b[38;5;241m=\u001b[39m \u001b[43mattacker\u001b[49m\u001b[38;5;241;43m.\u001b[39;49m\u001b[43msolve_puzzle_with_n_matrix_known_places\u001b[49m\u001b[43m(\u001b[49m\u001b[43meach_isometric_matrixes\u001b[49m\u001b[43m,\u001b[49m\u001b[43m \u001b[49m\u001b[43meach_cs\u001b[49m\u001b[43m,\u001b[49m\u001b[43m \u001b[49m\u001b[43mdimension\u001b[49m\u001b[43m,\u001b[49m\u001b[43m \u001b[49m\u001b[43malpha\u001b[49m\u001b[43m,\u001b[49m\u001b[43m  \u001b[49m\u001b[43mthreshold\u001b[49m\u001b[38;5;241;43m=\u001b[39;49m\u001b[38;5;241;43m49\u001b[39;49m\u001b[43m,\u001b[49m\u001b[43m \u001b[49m\u001b[43mmax_rtimes\u001b[49m\u001b[38;5;241;43m=\u001b[39;49m\u001b[38;5;241;43m10000\u001b[39;49m\u001b[43m,\u001b[49m\u001b[43m \u001b[49m\u001b[43malgorithm\u001b[49m\u001b[38;5;241;43m=\u001b[39;49m\u001b[38;5;124;43m\"\u001b[39;49m\u001b[38;5;124;43mLSA\u001b[39;49m\u001b[38;5;124;43m\"\u001b[39;49m\u001b[43m,\u001b[49m\u001b[43m \u001b[49m\u001b[43mdisable_tqdm\u001b[49m\u001b[38;5;241;43m=\u001b[39;49m\u001b[38;5;28;43;01mFalse\u001b[39;49;00m\u001b[43m,\u001b[49m\u001b[43m \u001b[49m\u001b[43mk_each_matrix\u001b[49m\u001b[38;5;241;43m=\u001b[39;49m\u001b[38;5;241;43m210\u001b[39;49m\u001b[43m,\u001b[49m\u001b[43m \u001b[49m\u001b[43merror_rate\u001b[49m\u001b[43m \u001b[49m\u001b[38;5;241;43m=\u001b[39;49m\u001b[43m \u001b[49m\u001b[43merror_rate\u001b[49m\u001b[43m \u001b[49m\u001b[38;5;241;43m*\u001b[39;49m\u001b[43m \u001b[49m\u001b[38;5;241;43m3.0\u001b[39;49m\u001b[43m,\u001b[49m\u001b[43m \u001b[49m\u001b[43mreturn_runtimes\u001b[49m\u001b[43m \u001b[49m\u001b[38;5;241;43m=\u001b[39;49m\u001b[43m \u001b[49m\u001b[38;5;28;43;01mTrue\u001b[39;49;00m\u001b[43m)\u001b[49m\n\u001b[1;32m     11\u001b[0m \u001b[38;5;28;01mif\u001b[39;00m b \u001b[38;5;129;01mis\u001b[39;00m \u001b[38;5;129;01mnot\u001b[39;00m \u001b[38;5;28;01mNone\u001b[39;00m \u001b[38;5;129;01mand\u001b[39;00m (np\u001b[38;5;241m.\u001b[39mallclose(b, each_cs[\u001b[38;5;241m0\u001b[39m]) \u001b[38;5;129;01mor\u001b[39;00m np\u001b[38;5;241m.\u001b[39mallclose(b, \u001b[38;5;241m-\u001b[39meach_cs[\u001b[38;5;241m0\u001b[39m])):\n\u001b[1;32m     12\u001b[0m     success_times \u001b[38;5;241m+\u001b[39m\u001b[38;5;241m=\u001b[39m \u001b[38;5;241m1\u001b[39m\n",
      "File \u001b[0;32m~/Documents/myarcface/attacks/attack_matrix/probabilistic_linear_regression_attack/attacker.py:206\u001b[0m, in \u001b[0;36msolve_puzzle_with_n_matrix_known_places\u001b[0;34m(isometric_matrixes, mapped_codeword_list, dimension, alpha, threshold, max_rtimes, algorithm, **kwargs)\u001b[0m\n\u001b[1;32m    204\u001b[0m     assume_vector \u001b[38;5;241m=\u001b[39m isometric_matrixes[\u001b[38;5;241m0\u001b[39m]\u001b[38;5;241m.\u001b[39mT \u001b[38;5;241m@\u001b[39m b\n\u001b[1;32m    205\u001b[0m \u001b[38;5;66;03m# threshold determinant\u001b[39;00m\n\u001b[0;32m--> 206\u001b[0m angle \u001b[38;5;241m=\u001b[39m \u001b[43mdeterminant\u001b[49m\u001b[43m(\u001b[49m\u001b[43mdimension\u001b[49m\u001b[43m,\u001b[49m\u001b[43m \u001b[49m\u001b[43malpha\u001b[49m\u001b[43m,\u001b[49m\u001b[43m \u001b[49m\u001b[43mb\u001b[49m\u001b[43m,\u001b[49m\u001b[43m \u001b[49m\u001b[43misometric_matrixes\u001b[49m\u001b[43m[\u001b[49m\u001b[38;5;241;43m1\u001b[39;49m\u001b[43m]\u001b[49m\u001b[43m \u001b[49m\u001b[38;5;241;43m@\u001b[39;49m\u001b[43m \u001b[49m\u001b[43mmatrix_1\u001b[49m\u001b[38;5;241;43m.\u001b[39;49m\u001b[43mT\u001b[49m\u001b[43m)\u001b[49m\n\u001b[1;32m    207\u001b[0m angle_min \u001b[38;5;241m=\u001b[39m \u001b[38;5;28mmin\u001b[39m(angle, angle_min)\n\u001b[1;32m    208\u001b[0m pbar\u001b[38;5;241m.\u001b[39mset_postfix({\u001b[38;5;124m\"\u001b[39m\u001b[38;5;124mangle_min\u001b[39m\u001b[38;5;124m\"\u001b[39m: angle, \u001b[38;5;124m\"\u001b[39m\u001b[38;5;124mget_result_times\u001b[39m\u001b[38;5;124m\"\u001b[39m: get_result_times})\n",
      "File \u001b[0;32m~/Documents/myarcface/attacks/attack_matrix/probabilistic_linear_regression_attack/attacker.py:96\u001b[0m, in \u001b[0;36mdeterminant\u001b[0;34m(dimension, alpha, w, matrix)\u001b[0m\n\u001b[1;32m     94\u001b[0m transformed_vector \u001b[38;5;241m=\u001b[39m matrix \u001b[38;5;241m@\u001b[39m w\n\u001b[1;32m     95\u001b[0m closest_codeword \u001b[38;5;241m=\u001b[39m ironmask\u001b[38;5;241m.\u001b[39mdecode_codeword(transformed_vector, dimension, alpha)\n\u001b[0;32m---> 96\u001b[0m \u001b[38;5;28;01mreturn\u001b[39;00m \u001b[43mutils\u001b[49m\u001b[38;5;241;43m.\u001b[39;49m\u001b[43mget_angle_of_two_vectors\u001b[49m\u001b[43m(\u001b[49m\u001b[43mtransformed_vector\u001b[49m\u001b[43m,\u001b[49m\u001b[43m \u001b[49m\u001b[43mclosest_codeword\u001b[49m\u001b[43m)\u001b[49m\n",
      "File \u001b[0;32m~/Documents/myarcface/attacks/attack_matrix/probabilistic_linear_regression_attack/utils.py:64\u001b[0m, in \u001b[0;36mget_angle_of_two_vectors\u001b[0;34m(a, b, type)\u001b[0m\n\u001b[1;32m     62\u001b[0m a \u001b[38;5;241m=\u001b[39m a \u001b[38;5;241m/\u001b[39m np\u001b[38;5;241m.\u001b[39mlinalg\u001b[38;5;241m.\u001b[39mnorm(a)\n\u001b[1;32m     63\u001b[0m b \u001b[38;5;241m=\u001b[39m b \u001b[38;5;241m/\u001b[39m np\u001b[38;5;241m.\u001b[39mlinalg\u001b[38;5;241m.\u001b[39mnorm(b)\n\u001b[0;32m---> 64\u001b[0m theta \u001b[38;5;241m=\u001b[39m np\u001b[38;5;241m.\u001b[39marccos(np\u001b[38;5;241m.\u001b[39mclip(\u001b[43mnp\u001b[49m\u001b[38;5;241;43m.\u001b[39;49m\u001b[43mdot\u001b[49m\u001b[43m(\u001b[49m\u001b[43ma\u001b[49m\u001b[38;5;241;43m.\u001b[39;49m\u001b[43mT\u001b[49m\u001b[43m,\u001b[49m\u001b[43m \u001b[49m\u001b[43mb\u001b[49m\u001b[43m)\u001b[49m, \u001b[38;5;241m-\u001b[39m\u001b[38;5;241m1\u001b[39m, \u001b[38;5;241m1\u001b[39m))\u001b[38;5;241m.\u001b[39mitem()\n\u001b[1;32m     65\u001b[0m \u001b[38;5;28;01mif\u001b[39;00m \u001b[38;5;28mtype\u001b[39m \u001b[38;5;241m==\u001b[39m \u001b[38;5;124m\"\u001b[39m\u001b[38;5;124mdegree\u001b[39m\u001b[38;5;124m\"\u001b[39m:\n\u001b[1;32m     66\u001b[0m     theta \u001b[38;5;241m=\u001b[39m theta \u001b[38;5;241m*\u001b[39m \u001b[38;5;241m180\u001b[39m \u001b[38;5;241m/\u001b[39m np\u001b[38;5;241m.\u001b[39mpi\n",
      "File \u001b[0;32m<__array_function__ internals>:180\u001b[0m, in \u001b[0;36mdot\u001b[0;34m(*args, **kwargs)\u001b[0m\n",
      "File \u001b[0;32m~/miniconda3/envs/intel-attack-m/lib/python3.10/site-packages/numpy/core/multiarray.py:740\u001b[0m, in \u001b[0;36mdot\u001b[0;34m(a, b, out)\u001b[0m\n\u001b[1;32m    670\u001b[0m \u001b[38;5;250m    \u001b[39m\u001b[38;5;124;03m\"\"\"\u001b[39;00m\n\u001b[1;32m    671\u001b[0m \u001b[38;5;124;03m    result_type(*arrays_and_dtypes)\u001b[39;00m\n\u001b[1;32m    672\u001b[0m \n\u001b[0;32m   (...)\u001b[0m\n\u001b[1;32m    735\u001b[0m \n\u001b[1;32m    736\u001b[0m \u001b[38;5;124;03m    \"\"\"\u001b[39;00m\n\u001b[1;32m    737\u001b[0m     \u001b[38;5;28;01mreturn\u001b[39;00m arrays_and_dtypes\n\u001b[0;32m--> 740\u001b[0m \u001b[38;5;129m@array_function_from_c_func_and_dispatcher\u001b[39m(_multiarray_umath\u001b[38;5;241m.\u001b[39mdot)\n\u001b[1;32m    741\u001b[0m \u001b[38;5;28;01mdef\u001b[39;00m \u001b[38;5;21mdot\u001b[39m(a, b, out\u001b[38;5;241m=\u001b[39m\u001b[38;5;28;01mNone\u001b[39;00m):\n\u001b[1;32m    742\u001b[0m \u001b[38;5;250m    \u001b[39m\u001b[38;5;124;03m\"\"\"\u001b[39;00m\n\u001b[1;32m    743\u001b[0m \u001b[38;5;124;03m    dot(a, b, out=None)\u001b[39;00m\n\u001b[1;32m    744\u001b[0m \n\u001b[0;32m   (...)\u001b[0m\n\u001b[1;32m    828\u001b[0m \n\u001b[1;32m    829\u001b[0m \u001b[38;5;124;03m    \"\"\"\u001b[39;00m\n\u001b[1;32m    830\u001b[0m     \u001b[38;5;28;01mreturn\u001b[39;00m (a, b, out)\n",
      "\u001b[0;31mKeyboardInterrupt\u001b[0m: "
     ]
    }
   ],
   "source": [
    "runtimes_vec = []\n",
    "success_times = 0\n",
    "for each_identity in (pbar:=tqdm(identity_list)):\n",
    "    each_isometric_matrixes = []\n",
    "    each_cs = []\n",
    "    for index in [0, 2, 3]:\n",
    "        tmpcs = ironmask.sample_codeword(dimension, alpha)\n",
    "        each_isometric_matrixes.append(ironmask.generate_secure_sketch(dataset_dict[each_identity][index], tmpcs))\n",
    "        each_cs.append(tmpcs)\n",
    "    assume_vector, b, run_times = attacker.solve_puzzle_with_n_matrix_known_places(each_isometric_matrixes, each_cs, dimension, alpha,  threshold=49, max_rtimes=10000, algorithm=\"LSA\", disable_tqdm=False, k_each_matrix=200, error_rate = error_rate * 3.0, return_runtimes = True)\n",
    "    if b is not None and (np.allclose(b, each_cs[0]) or np.allclose(b, -each_cs[0])):\n",
    "        success_times += 1\n",
    "    pbar.set_postfix({\"Success Rate\": success_times / (pbar.n + 1)})\n",
    "    runtimes_vec.append(run_times)"
   ]
  },
  {
   "cell_type": "code",
   "execution_count": null,
   "metadata": {},
   "outputs": [],
   "source": [
    "import pickle\n",
    "with open(\"runtimes_vec.pickle\", \"wb\") as f:\n",
    "    pickle.dump(runtimes_vec, f)\n",
    "with open(\"success_times.pickle\", \"wb\") as f:\n",
    "    pickle.dump(success_times, f)"
   ]
  },
  {
   "cell_type": "code",
   "execution_count": null,
   "metadata": {},
   "outputs": [
    {
     "name": "stdout",
     "output_type": "stream",
     "text": [
      "Success Rate: 89.00%\n",
      "Average Run Times: 754.23\n",
      "847.4494382022472\n"
     ]
    }
   ],
   "source": [
    "import pickle\n",
    "from utils import subset_n_a_alpha\n",
    "\n",
    "with open(\"runtimes_vec.pickle\", \"rb\") as f:\n",
    "    runtimes_vec = pickle.load(f)\n",
    "with open(\"success_times.pickle\", \"rb\") as f:\n",
    "    success_times = pickle.load(f)\n",
    "\n",
    "print(\"Success Rate: {:.2f}%\".format(success_times / len(identity_list) * 100))\n",
    "print(\"Average Run Times: {:.2f}\".format(np.mean(runtimes_vec)))\n",
    "print(np.mean(runtimes_vec) * len(identity_list) / success_times)\n"
   ]
  },
  {
   "cell_type": "markdown",
   "metadata": {},
   "source": [
    "## solving original template without preposition that sampled matrix is \"correct\""
   ]
  },
  {
   "cell_type": "code",
   "execution_count": null,
   "metadata": {},
   "outputs": [],
   "source": [
    "# toy example for small k = 2\n",
    "assume_vector, b = attacker.solve_puzzle_with_n_matrix(isometric_matrixes, dimension, alpha, threshold=49, max_rtimes=1000,\n",
    "                                                        algorithm=\"SVD\", disable_tqdm=False, k_each_matrix=1, scale=100.0)"
   ]
  },
  {
   "cell_type": "code",
   "execution_count": null,
   "metadata": {},
   "outputs": [],
   "source": [
    "# check the result(b is whether equal to the first codeword)\n",
    "print(\"The result is: \", np.allclose(b, cs[0]) or np.allclose(b, -cs[0]))"
   ]
  },
  {
   "cell_type": "code",
   "execution_count": null,
   "metadata": {},
   "outputs": [],
   "source": [
    "# toy example for small k = 2\n",
    "assume_vector, b = attacker.solve_puzzle_with_n_matrix(isometric_matrixes, dimension, alpha, threshold=49, max_rtimes=1000, algorithm=\"LSA\", disable_tqdm=False, k_each_matrix=1, scale=1000.0, error_rate=error_rate * 3.0)"
   ]
  },
  {
   "cell_type": "code",
   "execution_count": null,
   "metadata": {},
   "outputs": [],
   "source": [
    "# check the result(b is whether equal to the first codeword)\n",
    "print(\"The result is: \", np.allclose(b, cs[0]) or np.allclose(b, -cs[0]))"
   ]
  }
 ],
 "metadata": {
  "kernelspec": {
   "display_name": "intel-attack-m",
   "language": "python",
   "name": "python3"
  },
  "language_info": {
   "codemirror_mode": {
    "name": "ipython",
    "version": 3
   },
   "file_extension": ".py",
   "mimetype": "text/x-python",
   "name": "python",
   "nbconvert_exporter": "python",
   "pygments_lexer": "ipython3",
   "version": "3.10.11"
  }
 },
 "nbformat": 4,
 "nbformat_minor": 2
}
