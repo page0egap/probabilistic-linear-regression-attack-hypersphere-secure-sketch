{
 "cells": [
  {
   "cell_type": "code",
   "execution_count": 15,
   "metadata": {},
   "outputs": [],
   "source": [
    "from itertools import combinations\n",
    "from tqdm.auto import tqdm\n",
    "import numpy as np\n",
    "import math\n",
    "import sample as sampler\n",
    "import utils\n",
    "import attacker"
   ]
  },
  {
   "cell_type": "code",
   "execution_count": 16,
   "metadata": {},
   "outputs": [],
   "source": [
    "model_path = \"/mnt/e/BaiduNet/ms1mv3_arcface_r100_fp16\"\n",
    "data_insight_path = \"/mnt/e/BaiduNet/ms1m-retinaface-t1/ms1m-retinaface-t1\"\n",
    "data_fei_retinaface_path = \"/mnt/e/Downloads/FEI/originalimages_retinaface_122\"\n",
    "data_fatial_path = data_fei_retinaface_path"
   ]
  },
  {
   "cell_type": "code",
   "execution_count": 17,
   "metadata": {},
   "outputs": [
    {
     "data": {
      "text/plain": [
       "'/tmp/ms1mv3_arcface_r100_fp16'"
      ]
     },
     "execution_count": 17,
     "metadata": {},
     "output_type": "execute_result"
    }
   ],
   "source": [
    "import tempfile\n",
    "# tempdir = '/tmp/last name of the model without suffix'\n",
    "tempdir = '/tmp/' + model_path.split('/')[-1].split('.')[0]\n",
    "tempdir"
   ]
  },
  {
   "cell_type": "code",
   "execution_count": 18,
   "metadata": {},
   "outputs": [],
   "source": [
    "from torchvision import transforms\n",
    "from dataset.fatial_dataset import FatialDataset\n",
    "\n",
    "fatial_dataset = FatialDataset(data_fatial_path, transform=transforms.Compose([\n",
    "    transforms.ToPILImage(),\n",
    "    transforms.Resize((112, 112)),\n",
    "    transforms.ToTensor(),\n",
    "    lambda x: x * 2 - 1]), target_transform=lambda label: str(label))"
   ]
  },
  {
   "cell_type": "code",
   "execution_count": 19,
   "metadata": {},
   "outputs": [],
   "source": [
    "from dataset.fatial_dataset_embedding_dict import FatialDataEmbeddingsDict\n",
    "dataset_dict = FatialDataEmbeddingsDict(file_folder=tempdir, data_set=fatial_dataset, file_raw_name=\"labels_set_sphere.pickle\")\n",
    "dataset_dict.dump_embeddings(None, 10, None, True)"
   ]
  },
  {
   "cell_type": "markdown",
   "metadata": {},
   "source": [
    "## Generate puzzle with each identity"
   ]
  },
  {
   "cell_type": "code",
   "execution_count": 21,
   "metadata": {},
   "outputs": [],
   "source": [
    "identity_list = list(dataset_dict.keys())"
   ]
  },
  {
   "cell_type": "code",
   "execution_count": 22,
   "metadata": {},
   "outputs": [
    {
     "name": "stdout",
     "output_type": "stream",
     "text": [
      "Estimated angle between two noisy templates: 28.407677076587362\n"
     ]
    }
   ],
   "source": [
    "# codeword parameters\n",
    "dimension = 512\n",
    "alpha = 5\n",
    "n = 511\n",
    "error_rate = 0.37    # angle(w + noise_1, w + noise_2) \n",
    "                    # approximate 2*arcsin(error_rate * \\sqrt(2) / \\sqrt(1 + error_rate^2) / 2)\n",
    "print(\"Estimated angle between two noisy templates: {}\".format(2 * np.arcsin(error_rate * np.sqrt(2) / np.sqrt(1 + error_rate**2) / 2) * 180 / np.pi))"
   ]
  },
  {
   "cell_type": "code",
   "execution_count": null,
   "metadata": {},
   "outputs": [],
   "source": [
    "# generate puzzle\n",
    "import ironmask\n",
    "import math\n",
    "# random select a identity from identity_list\n",
    "# use 0, 2, 5 as the query unprotected templates\n",
    "cs = []\n",
    "isometric_matrixes = []\n",
    "for each_identity in tqdm(identity_list):\n",
    "    each_isometric_matrixes = []\n",
    "    each_cs = []\n",
    "    for index in [0, 1, 2, 3, 4, 5, 6, 7]:\n",
    "        tmpcs = ironmask.sample_codeword(dimension, alpha)\n",
    "        tmpw = dataset_dict[each_identity][index]\n",
    "        tmpw = sampler._generate_random_unit_vector_nearby(tmpw, math.tan(56.3228 * math.pi / 180))\n",
    "        each_isometric_matrixes.append(ironmask.generate_secure_sketch(dataset_dict[each_identity][index], tmpcs))\n",
    "        each_cs.append(tmpcs)\n",
    "    cs.append(cs)\n",
    "    isometric_matrixes.append(each_isometric_matrixes)"
   ]
  },
  {
   "cell_type": "code",
   "execution_count": 16,
   "metadata": {},
   "outputs": [
    {
     "data": {
      "application/vnd.jupyter.widget-view+json": {
       "model_id": "7c1a7108d47344cf978b27b50ac5ae5b",
       "version_major": 2,
       "version_minor": 0
      },
      "text/plain": [
       "  0%|          | 0/200 [00:00<?, ?it/s]"
      ]
     },
     "metadata": {},
     "output_type": "display_data"
    },
    {
     "name": "stdout",
     "output_type": "stream",
     "text": [
      "success_num:  10657 \twhole_num:  11200\n"
     ]
    }
   ],
   "source": [
    "# generate puzzle\n",
    "import ironmask\n",
    "import math\n",
    "success_num = 0\n",
    "whole_num = 0\n",
    "for each_identity in tqdm(identity_list):\n",
    "    for index in [0, 1, 2, 3, 4, 5, 6, 7]:\n",
    "        tmpcs = ironmask.sample_codeword(dimension, alpha)\n",
    "        tmpw = dataset_dict[each_identity][index]\n",
    "        tmpw = sampler._generate_random_unit_vector_nearby(tmpw, math.tan(56.3228 * math.pi / 180))\n",
    "        tmp_sketch = ironmask.generate_secure_sketch(tmpw, tmpcs)\n",
    "        for indexj in [0, 1, 2, 3, 4, 5, 6, 7]:\n",
    "            if index==indexj: continue\n",
    "            tmpw = dataset_dict[each_identity][indexj]\n",
    "            candidate = tmp_sketch @ tmpw\n",
    "            candidate = ironmask.decode_codeword(candidate, dimension, alpha)\n",
    "            if np.allclose(candidate, tmpcs):\n",
    "                success_num += 1\n",
    "            whole_num += 1\n",
    "print(\"success_num: \", success_num, \"\\twhole_num: \", whole_num)"
   ]
  },
  {
   "cell_type": "code",
   "execution_count": 17,
   "metadata": {},
   "outputs": [
    {
     "name": "stdout",
     "output_type": "stream",
     "text": [
      "0.9515178571428572\n"
     ]
    }
   ],
   "source": [
    "print(success_num / whole_num)"
   ]
  },
  {
   "cell_type": "code",
   "execution_count": 37,
   "metadata": {},
   "outputs": [
    {
     "data": {
      "application/vnd.jupyter.widget-view+json": {
       "model_id": "56663b7db195438683ebb51e97704916",
       "version_major": 2,
       "version_minor": 0
      },
      "text/plain": [
       "  0%|          | 0/200 [00:00<?, ?it/s]"
      ]
     },
     "metadata": {},
     "output_type": "display_data"
    },
    {
     "name": "stdout",
     "output_type": "stream",
     "text": [
      "Test Mean Degree: 73.43°\n"
     ]
    }
   ],
   "source": [
    "# get the mean angle between each pair of templates, i.e. angle(w + noise_1, w + noise_2)\n",
    "\n",
    "angles = []\n",
    "for each_identity in tqdm(identity_list):\n",
    "    each_identity_vector = dataset_dict[each_identity]\n",
    "    ws = []\n",
    "    for index in [1, 2, 3]:\n",
    "        ws.append(each_identity_vector[index])\n",
    "    for i, j in combinations(range(len(ws)), 2):\n",
    "        tmpw1 = sampler._generate_random_unit_vector_nearby(ws[i], math.tan(56.3228 * math.pi / 180))\n",
    "        tmpw2 = sampler._generate_random_unit_vector_nearby(ws[j], math.tan(56.3228 * math.pi / 180))\n",
    "        angles.append(utils.get_angle_of_two_vectors(tmpw1, tmpw2))\n",
    "    \n",
    "\n",
    "print(\"Test Mean Degree: {:.2f}{}\".format(np.mean(angles), u'\\u00b0'))"
   ]
  },
  {
   "cell_type": "markdown",
   "metadata": {},
   "source": [
    "## solving original template if sampled matrix is correct\n",
    "\n",
    "ensure the matrix generated by linear equation sampler is \"correct\" as in Definition 4.1 in paper."
   ]
  },
  {
   "cell_type": "markdown",
   "metadata": {},
   "source": [
    "svd solver"
   ]
  },
  {
   "cell_type": "code",
   "execution_count": null,
   "metadata": {},
   "outputs": [],
   "source": [
    "assume_vector, b = attacker.solve_puzzle_with_n_matrix_known_places(isometric_matrixes, cs, dimension, alpha, threshold=49, max_rtimes=1000, algorithm=\"SVD\", disable_tqdm=False, k_each_matrix=1)"
   ]
  },
  {
   "cell_type": "code",
   "execution_count": null,
   "metadata": {},
   "outputs": [],
   "source": [
    "# check the result(b is whether equal to the first code word)\n",
    "print(\"The result is: \", np.allclose(b, cs[0]) or np.allclose(b, -cs[0]))"
   ]
  },
  {
   "cell_type": "markdown",
   "metadata": {},
   "source": [
    "lsa solver"
   ]
  },
  {
   "cell_type": "code",
   "execution_count": null,
   "metadata": {},
   "outputs": [],
   "source": [
    "runtimes_vec = []\n",
    "success_times = 0\n",
    "for each_identity in (pbar:=tqdm(identity_list)):\n",
    "    each_isometric_matrixes = []\n",
    "    each_cs = []\n",
    "    for index in [1, 2, 3]:\n",
    "        tmpcs = ironmask.sample_codeword(dimension, alpha)\n",
    "        each_isometric_matrixes.append(ironmask.generate_secure_sketch(dataset_dict[each_identity][index], tmpcs))\n",
    "        each_cs.append(tmpcs)\n",
    "    assume_vector, b, run_times = attacker.solve_puzzle_with_n_matrix_known_places(each_isometric_matrixes, each_cs, dimension, alpha,  threshold=49, max_rtimes=2000, algorithm=\"LSA\", disable_tqdm=False, k_each_matrix=150, error_rate = error_rate * 3.0, return_runtimes = True)\n",
    "    if b is not None and (np.allclose(b, each_cs[0]) or np.allclose(b, -each_cs[0])):\n",
    "        success_times += 1\n",
    "    pbar.set_postfix({\"Success Rate\": success_times / (pbar.n + 1)})\n",
    "    runtimes_vec.append(run_times)"
   ]
  },
  {
   "cell_type": "code",
   "execution_count": 2,
   "metadata": {},
   "outputs": [],
   "source": [
    "# 保存结果和success times\n",
    "import pickle\n",
    "with open(\"runtimes_vec.pickle\", \"wb\") as f:\n",
    "    pickle.dump(runtimes_vec, f)\n",
    "with open(\"success_times.pickle\", \"wb\") as f:\n",
    "    pickle.dump(success_times, f)"
   ]
  },
  {
   "cell_type": "code",
   "execution_count": 17,
   "metadata": {},
   "outputs": [
    {
     "name": "stdout",
     "output_type": "stream",
     "text": [
      "Success Rate: 89.00%\n",
      "Average Run Times: 754.23\n",
      "847.4494382022472\n"
     ]
    }
   ],
   "source": [
    "# 加载结果\n",
    "import pickle\n",
    "from utils import subset_n_a_alpha\n",
    "\n",
    "with open(\"runtimes_vec.pickle\", \"rb\") as f:\n",
    "    runtimes_vec = pickle.load(f)\n",
    "with open(\"success_times.pickle\", \"rb\") as f:\n",
    "    success_times = pickle.load(f)\n",
    "\n",
    "print(\"Success Rate: {:.2f}%\".format(success_times / len(identity_list) * 100))\n",
    "print(\"Average Run Times: {:.2f}\".format(np.mean(runtimes_vec)))\n",
    "print(np.mean(runtimes_vec) * len(identity_list) / success_times)\n"
   ]
  },
  {
   "cell_type": "code",
   "execution_count": 19,
   "metadata": {},
   "outputs": [
    {
     "name": "stdout",
     "output_type": "stream",
     "text": [
      "Estimated Whole running time: 103.74047259857736 year\n"
     ]
    }
   ],
   "source": [
    "from utils import subset_n_a_alpha\n",
    "\n",
    "whole_time = 2 ** (subset_n_a_alpha(512, 16, 150) * 2) * np.mean(runtimes_vec) * len(identity_list) / success_times * 131.8 / 1000 / 3600 / 24\n",
    "\n",
    "print(\"Estimated Whole running time: {} year\".format(whole_time))"
   ]
  },
  {
   "cell_type": "code",
   "execution_count": 50,
   "metadata": {},
   "outputs": [
    {
     "name": "stdout",
     "output_type": "stream",
     "text": [
      "Estimated Whole running time: 4882.834615650419 year\n"
     ]
    }
   ],
   "source": [
    "from utils import subset_n_a_alpha\n",
    "\n",
    "whole_time = 2 ** (subset_n_a_alpha(512, 16, 170) * 2) * 697 * 168 / 1000 / 3600 / 24 / 365\n",
    "\n",
    "print(\"Estimated Whole running time: {} year\".format(whole_time))"
   ]
  },
  {
   "cell_type": "code",
   "execution_count": 49,
   "metadata": {},
   "outputs": [
    {
     "name": "stdout",
     "output_type": "stream",
     "text": [
      "Estimated Whole running time: 82282.55636310703 year\n"
     ]
    }
   ],
   "source": [
    "from utils import subset_n_a_alpha\n",
    "\n",
    "whole_time = 2 ** (subset_n_a_alpha(512, 16, 1) * 680) * 4851.75 * 225 / 1000 / 3600 / 24 / 365\n",
    "\n",
    "print(\"Estimated Whole running time: {} year\".format(whole_time))"
   ]
  },
  {
   "cell_type": "code",
   "execution_count": null,
   "metadata": {},
   "outputs": [
    {
     "name": "stdout",
     "output_type": "stream",
     "text": [
      "The result is:  True\n"
     ]
    }
   ],
   "source": [
    "# check the result(b is whether equal to the first code word)\n",
    "print(\"The result is: \", np.allclose(b, cs[0]) or np.allclose(b, -cs[0]))"
   ]
  },
  {
   "cell_type": "markdown",
   "metadata": {},
   "source": [
    "## solving original template without preposition that sampled matrix is \"correct\""
   ]
  },
  {
   "cell_type": "code",
   "execution_count": null,
   "metadata": {},
   "outputs": [],
   "source": [
    "# toy example for small k = 2\n",
    "assume_vector, b = attacker.solve_puzzle_with_n_matrix(isometric_matrixes, dimension, alpha, threshold=49, max_rtimes=1000,\n",
    "                                                        algorithm=\"SVD\", disable_tqdm=False, k_each_matrix=1, scale=100.0)"
   ]
  },
  {
   "cell_type": "code",
   "execution_count": null,
   "metadata": {},
   "outputs": [],
   "source": [
    "# check the result(b is whether equal to the first codeword)\n",
    "print(\"The result is: \", np.allclose(b, cs[0]) or np.allclose(b, -cs[0]))"
   ]
  },
  {
   "cell_type": "code",
   "execution_count": null,
   "metadata": {},
   "outputs": [],
   "source": [
    "# toy example for small k = 2\n",
    "assume_vector, b = attacker.solve_puzzle_with_n_matrix(isometric_matrixes, dimension, alpha, threshold=49, max_rtimes=1000, algorithm=\"LSA\", disable_tqdm=False, k_each_matrix=1, scale=1000.0, error_rate=error_rate * 3.0)"
   ]
  },
  {
   "cell_type": "code",
   "execution_count": null,
   "metadata": {},
   "outputs": [],
   "source": [
    "# check the result(b is whether equal to the first codeword)\n",
    "print(\"The result is: \", np.allclose(b, cs[0]) or np.allclose(b, -cs[0]))"
   ]
  }
 ],
 "metadata": {
  "kernelspec": {
   "display_name": "intel-attack-m",
   "language": "python",
   "name": "python3"
  },
  "language_info": {
   "codemirror_mode": {
    "name": "ipython",
    "version": 3
   },
   "file_extension": ".py",
   "mimetype": "text/x-python",
   "name": "python",
   "nbconvert_exporter": "python",
   "pygments_lexer": "ipython3",
   "version": "3.10.11"
  }
 },
 "nbformat": 4,
 "nbformat_minor": 2
}
