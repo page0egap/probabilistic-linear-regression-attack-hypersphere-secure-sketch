{
 "cells": [
  {
   "cell_type": "code",
   "execution_count": 1,
   "metadata": {},
   "outputs": [],
   "source": [
    "from itertools import combinations\n",
    "from tqdm.auto import tqdm\n",
    "import numpy as np\n",
    "import sample as sampler\n",
    "import utils\n",
    "import attacker"
   ]
  },
  {
   "cell_type": "code",
   "execution_count": 2,
   "metadata": {},
   "outputs": [],
   "source": [
    "model_path = \"/mnt/e/BaiduNet/ms1mv3_arcface_r100_fp16\"\n",
    "data_insight_path = \"/mnt/e/BaiduNet/ms1m-retinaface-t1/ms1m-retinaface-t1\"\n",
    "data_fei_retinaface_path = \"/mnt/e/Downloads/FEI/originalimages_retinaface_122\"\n",
    "data_fatial_path = data_fei_retinaface_path"
   ]
  },
  {
   "cell_type": "code",
   "execution_count": 3,
   "metadata": {},
   "outputs": [
    {
     "data": {
      "text/plain": [
       "'/tmp/ms1mv3_arcface_r100_fp16'"
      ]
     },
     "execution_count": 3,
     "metadata": {},
     "output_type": "execute_result"
    }
   ],
   "source": [
    "import tempfile\n",
    "# tempdir = '/tmp/last name of the model without suffix'\n",
    "tempdir = '/tmp/' + model_path.split('/')[-1].split('.')[0]\n",
    "tempdir"
   ]
  },
  {
   "cell_type": "code",
   "execution_count": 4,
   "metadata": {},
   "outputs": [],
   "source": [
    "from torchvision import transforms\n",
    "from dataset.fatial_dataset import FatialDataset\n",
    "\n",
    "fatial_dataset = FatialDataset(data_fatial_path, transform=transforms.Compose([\n",
    "    transforms.ToPILImage(),\n",
    "    transforms.Resize((112, 112)),\n",
    "    transforms.ToTensor(),\n",
    "    lambda x: x * 2 - 1]), target_transform=lambda label: str(label))"
   ]
  },
  {
   "cell_type": "code",
   "execution_count": 5,
   "metadata": {},
   "outputs": [],
   "source": [
    "from dataset.fatial_dataset_embedding_dict import FatialDataEmbeddingsDict\n",
    "dataset_dict = FatialDataEmbeddingsDict(file_folder=tempdir, data_set=fatial_dataset, file_raw_name=\"labels_set_sphere.pickle\")\n",
    "dataset_dict.dump_embeddings(None, 10, None, True)"
   ]
  },
  {
   "cell_type": "markdown",
   "metadata": {},
   "source": [
    "## Generate puzzle with each identity"
   ]
  },
  {
   "cell_type": "code",
   "execution_count": 6,
   "metadata": {},
   "outputs": [],
   "source": [
    "identity_list = list(dataset_dict.keys())"
   ]
  },
  {
   "cell_type": "code",
   "execution_count": 7,
   "metadata": {},
   "outputs": [
    {
     "name": "stdout",
     "output_type": "stream",
     "text": [
      "Estimated angle between two noisy templates: 30.450314021355645\n"
     ]
    }
   ],
   "source": [
    "# codeword parameters\n",
    "dimension = 512\n",
    "alpha = 16\n",
    "n = 511\n",
    "error_rate = 0.4    # angle(w + noise_1, w + noise_2) \n",
    "                    # approximate 2*arcsin(error_rate * \\sqrt(2) / \\sqrt(1 + error_rate^2) / 2)\n",
    "print(\"Estimated angle between two noisy templates: {}\".format(2 * np.arcsin(error_rate * np.sqrt(2) / np.sqrt(1 + error_rate**2) / 2) * 180 / np.pi))"
   ]
  },
  {
   "cell_type": "code",
   "execution_count": 8,
   "metadata": {},
   "outputs": [
    {
     "data": {
      "application/vnd.jupyter.widget-view+json": {
       "model_id": "92c5b6a453454bec9ac81a1e0e4352b4",
       "version_major": 2,
       "version_minor": 0
      },
      "text/plain": [
       "  0%|          | 0/200 [00:00<?, ?it/s]"
      ]
     },
     "metadata": {},
     "output_type": "display_data"
    }
   ],
   "source": [
    "# generate puzzle\n",
    "import ironmask\n",
    "# random select a identity from identity_list\n",
    "# use 0, 2, 5 as the query unprotected templates\n",
    "cs = []\n",
    "isometric_matrixes = []\n",
    "for each_identity in tqdm(identity_list):\n",
    "    each_isometric_matrixes = []\n",
    "    each_cs = []\n",
    "    for index in [0, 2, 5]:\n",
    "        tmpcs = ironmask.sample_codeword(dimension, alpha)\n",
    "        each_isometric_matrixes.append(ironmask.generate_secure_sketch(dataset_dict[each_identity][index], tmpcs))\n",
    "        each_cs.append(tmpcs)\n",
    "    cs.append(cs)\n",
    "    isometric_matrixes.append(each_isometric_matrixes)"
   ]
  },
  {
   "cell_type": "code",
   "execution_count": 23,
   "metadata": {},
   "outputs": [
    {
     "data": {
      "application/vnd.jupyter.widget-view+json": {
       "model_id": "a5b3a39f5e6c4f5b89ff7be10cf0e7d3",
       "version_major": 2,
       "version_minor": 0
      },
      "text/plain": [
       "  0%|          | 0/200 [00:00<?, ?it/s]"
      ]
     },
     "metadata": {},
     "output_type": "display_data"
    },
    {
     "name": "stdout",
     "output_type": "stream",
     "text": [
      "Test Mean Degree: 28.56°\n"
     ]
    }
   ],
   "source": [
    "# get the mean angle between each pair of templates, i.e. angle(w + noise_1, w + noise_2)\n",
    "\n",
    "angles = []\n",
    "for each_identity in tqdm(identity_list):\n",
    "    each_identity_vector = dataset_dict[each_identity]\n",
    "    ws = []\n",
    "    for index in [0, 2, 5]:\n",
    "        ws.append(each_identity_vector[index])\n",
    "    for i, j in combinations(range(len(ws)), 2):\n",
    "        angles.append(utils.get_angle_of_two_vectors(ws[i], ws[j]))\n",
    "    \n",
    "\n",
    "print(\"Test Mean Degree: {:.2f}{}\".format(np.mean(angles), u'\\u00b0'))"
   ]
  },
  {
   "cell_type": "markdown",
   "metadata": {},
   "source": [
    "## solving original template if sampled matrix is correct\n",
    "\n",
    "ensure the matrix generated by linear equation sampler is \"correct\" as in Definition 4.1 in paper."
   ]
  },
  {
   "cell_type": "markdown",
   "metadata": {},
   "source": [
    "svd solver"
   ]
  },
  {
   "cell_type": "code",
   "execution_count": null,
   "metadata": {},
   "outputs": [],
   "source": [
    "assume_vector, b = attacker.solve_puzzle_with_n_matrix_known_places(isometric_matrixes, cs, dimension, alpha, threshold=49, max_rtimes=1000, algorithm=\"SVD\", disable_tqdm=False, k_each_matrix=1)"
   ]
  },
  {
   "cell_type": "code",
   "execution_count": null,
   "metadata": {},
   "outputs": [],
   "source": [
    "# check the result(b is whether equal to the first code word)\n",
    "print(\"The result is: \", np.allclose(b, cs[0]) or np.allclose(b, -cs[0]))"
   ]
  },
  {
   "cell_type": "markdown",
   "metadata": {},
   "source": [
    "lsa solver"
   ]
  },
  {
   "cell_type": "code",
   "execution_count": 28,
   "metadata": {},
   "outputs": [
    {
     "data": {
      "application/vnd.jupyter.widget-view+json": {
       "model_id": "d1667f2a1bf4485aa190db4b039260e2",
       "version_major": 2,
       "version_minor": 0
      },
      "text/plain": [
       "  0%|          | 0/200 [00:00<?, ?it/s]"
      ]
     },
     "metadata": {},
     "output_type": "display_data"
    },
    {
     "data": {
      "application/vnd.jupyter.widget-view+json": {
       "model_id": "232bee1c9b9b4e798ec98a826e1816eb",
       "version_major": 2,
       "version_minor": 0
      },
      "text/plain": [
       "Solving(LSA):   0%|          | 0/2000 [00:00<?, ?it/s]"
      ]
     },
     "metadata": {},
     "output_type": "display_data"
    },
    {
     "data": {
      "application/vnd.jupyter.widget-view+json": {
       "model_id": "30b43ab6f7794f08ac42e2c19aef850c",
       "version_major": 2,
       "version_minor": 0
      },
      "text/plain": [
       "Solving(LSA):   0%|          | 0/2000 [00:00<?, ?it/s]"
      ]
     },
     "metadata": {},
     "output_type": "display_data"
    },
    {
     "data": {
      "application/vnd.jupyter.widget-view+json": {
       "model_id": "47df0d9e1e0f41e295283c3e9edfcdfb",
       "version_major": 2,
       "version_minor": 0
      },
      "text/plain": [
       "Solving(LSA):   0%|          | 0/2000 [00:00<?, ?it/s]"
      ]
     },
     "metadata": {},
     "output_type": "display_data"
    },
    {
     "data": {
      "application/vnd.jupyter.widget-view+json": {
       "model_id": "eb7adb6b609148f18f16dfe3097c2961",
       "version_major": 2,
       "version_minor": 0
      },
      "text/plain": [
       "Solving(LSA):   0%|          | 0/2000 [00:00<?, ?it/s]"
      ]
     },
     "metadata": {},
     "output_type": "display_data"
    },
    {
     "data": {
      "application/vnd.jupyter.widget-view+json": {
       "model_id": "78979dba1bbd44468f31433f406d9e80",
       "version_major": 2,
       "version_minor": 0
      },
      "text/plain": [
       "Solving(LSA):   0%|          | 0/2000 [00:00<?, ?it/s]"
      ]
     },
     "metadata": {},
     "output_type": "display_data"
    },
    {
     "data": {
      "application/vnd.jupyter.widget-view+json": {
       "model_id": "8f59149765694e5ca4dc333d7d7935d4",
       "version_major": 2,
       "version_minor": 0
      },
      "text/plain": [
       "Solving(LSA):   0%|          | 0/2000 [00:00<?, ?it/s]"
      ]
     },
     "metadata": {},
     "output_type": "display_data"
    },
    {
     "data": {
      "application/vnd.jupyter.widget-view+json": {
       "model_id": "ce26fcd7101d4e579ff126dd41d0cfea",
       "version_major": 2,
       "version_minor": 0
      },
      "text/plain": [
       "Solving(LSA):   0%|          | 0/2000 [00:00<?, ?it/s]"
      ]
     },
     "metadata": {},
     "output_type": "display_data"
    },
    {
     "data": {
      "application/vnd.jupyter.widget-view+json": {
       "model_id": "9a1963687d634eb495e7e1208959c5d7",
       "version_major": 2,
       "version_minor": 0
      },
      "text/plain": [
       "Solving(LSA):   0%|          | 0/2000 [00:00<?, ?it/s]"
      ]
     },
     "metadata": {},
     "output_type": "display_data"
    },
    {
     "data": {
      "application/vnd.jupyter.widget-view+json": {
       "model_id": "196799ed2a744660abb1bff759473882",
       "version_major": 2,
       "version_minor": 0
      },
      "text/plain": [
       "Solving(LSA):   0%|          | 0/2000 [00:00<?, ?it/s]"
      ]
     },
     "metadata": {},
     "output_type": "display_data"
    },
    {
     "data": {
      "application/vnd.jupyter.widget-view+json": {
       "model_id": "d8544965449a4dc093e9453d1f34b79b",
       "version_major": 2,
       "version_minor": 0
      },
      "text/plain": [
       "Solving(LSA):   0%|          | 0/2000 [00:00<?, ?it/s]"
      ]
     },
     "metadata": {},
     "output_type": "display_data"
    },
    {
     "data": {
      "application/vnd.jupyter.widget-view+json": {
       "model_id": "7a83692044514641b62aa9b59fe9f42c",
       "version_major": 2,
       "version_minor": 0
      },
      "text/plain": [
       "Solving(LSA):   0%|          | 0/2000 [00:00<?, ?it/s]"
      ]
     },
     "metadata": {},
     "output_type": "display_data"
    },
    {
     "data": {
      "application/vnd.jupyter.widget-view+json": {
       "model_id": "b8a950259e344d3b8479fdc59a5e46f6",
       "version_major": 2,
       "version_minor": 0
      },
      "text/plain": [
       "Solving(LSA):   0%|          | 0/2000 [00:00<?, ?it/s]"
      ]
     },
     "metadata": {},
     "output_type": "display_data"
    },
    {
     "data": {
      "application/vnd.jupyter.widget-view+json": {
       "model_id": "717f25f816bc429c943081b14a06ddfe",
       "version_major": 2,
       "version_minor": 0
      },
      "text/plain": [
       "Solving(LSA):   0%|          | 0/2000 [00:00<?, ?it/s]"
      ]
     },
     "metadata": {},
     "output_type": "display_data"
    },
    {
     "data": {
      "application/vnd.jupyter.widget-view+json": {
       "model_id": "cba2100ffad0420aae7931b1476e79a2",
       "version_major": 2,
       "version_minor": 0
      },
      "text/plain": [
       "Solving(LSA):   0%|          | 0/2000 [00:00<?, ?it/s]"
      ]
     },
     "metadata": {},
     "output_type": "display_data"
    },
    {
     "data": {
      "application/vnd.jupyter.widget-view+json": {
       "model_id": "d41b2462e2344525a8b37443b8436308",
       "version_major": 2,
       "version_minor": 0
      },
      "text/plain": [
       "Solving(LSA):   0%|          | 0/2000 [00:00<?, ?it/s]"
      ]
     },
     "metadata": {},
     "output_type": "display_data"
    },
    {
     "data": {
      "application/vnd.jupyter.widget-view+json": {
       "model_id": "9946cf4c6c634f8fb6a95dcfb40ee151",
       "version_major": 2,
       "version_minor": 0
      },
      "text/plain": [
       "Solving(LSA):   0%|          | 0/2000 [00:00<?, ?it/s]"
      ]
     },
     "metadata": {},
     "output_type": "display_data"
    },
    {
     "data": {
      "application/vnd.jupyter.widget-view+json": {
       "model_id": "19f1098927d8456892856997694bf995",
       "version_major": 2,
       "version_minor": 0
      },
      "text/plain": [
       "Solving(LSA):   0%|          | 0/2000 [00:00<?, ?it/s]"
      ]
     },
     "metadata": {},
     "output_type": "display_data"
    },
    {
     "data": {
      "application/vnd.jupyter.widget-view+json": {
       "model_id": "ad991119efc24338b0d3aa66962c1cbf",
       "version_major": 2,
       "version_minor": 0
      },
      "text/plain": [
       "Solving(LSA):   0%|          | 0/2000 [00:00<?, ?it/s]"
      ]
     },
     "metadata": {},
     "output_type": "display_data"
    },
    {
     "data": {
      "application/vnd.jupyter.widget-view+json": {
       "model_id": "1d67f611c7b34467922b3553a2035230",
       "version_major": 2,
       "version_minor": 0
      },
      "text/plain": [
       "Solving(LSA):   0%|          | 0/2000 [00:00<?, ?it/s]"
      ]
     },
     "metadata": {},
     "output_type": "display_data"
    },
    {
     "data": {
      "application/vnd.jupyter.widget-view+json": {
       "model_id": "cfd219db89304c8db139a6a4e8176dc5",
       "version_major": 2,
       "version_minor": 0
      },
      "text/plain": [
       "Solving(LSA):   0%|          | 0/2000 [00:00<?, ?it/s]"
      ]
     },
     "metadata": {},
     "output_type": "display_data"
    },
    {
     "data": {
      "application/vnd.jupyter.widget-view+json": {
       "model_id": "b1fdf3d87f1d4a5484fa2f7cfa36876d",
       "version_major": 2,
       "version_minor": 0
      },
      "text/plain": [
       "Solving(LSA):   0%|          | 0/2000 [00:00<?, ?it/s]"
      ]
     },
     "metadata": {},
     "output_type": "display_data"
    },
    {
     "data": {
      "application/vnd.jupyter.widget-view+json": {
       "model_id": "6fe06b2625f342ceabd91ac3d354d520",
       "version_major": 2,
       "version_minor": 0
      },
      "text/plain": [
       "Solving(LSA):   0%|          | 0/2000 [00:00<?, ?it/s]"
      ]
     },
     "metadata": {},
     "output_type": "display_data"
    },
    {
     "data": {
      "application/vnd.jupyter.widget-view+json": {
       "model_id": "ed4881bfa5d5495cb70b0f376129285c",
       "version_major": 2,
       "version_minor": 0
      },
      "text/plain": [
       "Solving(LSA):   0%|          | 0/2000 [00:00<?, ?it/s]"
      ]
     },
     "metadata": {},
     "output_type": "display_data"
    },
    {
     "data": {
      "application/vnd.jupyter.widget-view+json": {
       "model_id": "e550107f781b48cb8794034fddf456c0",
       "version_major": 2,
       "version_minor": 0
      },
      "text/plain": [
       "Solving(LSA):   0%|          | 0/2000 [00:00<?, ?it/s]"
      ]
     },
     "metadata": {},
     "output_type": "display_data"
    },
    {
     "data": {
      "application/vnd.jupyter.widget-view+json": {
       "model_id": "9c49883dde8b4b2287671dac41600a23",
       "version_major": 2,
       "version_minor": 0
      },
      "text/plain": [
       "Solving(LSA):   0%|          | 0/2000 [00:00<?, ?it/s]"
      ]
     },
     "metadata": {},
     "output_type": "display_data"
    },
    {
     "data": {
      "application/vnd.jupyter.widget-view+json": {
       "model_id": "2569e37ff44e43788c75555d07e49751",
       "version_major": 2,
       "version_minor": 0
      },
      "text/plain": [
       "Solving(LSA):   0%|          | 0/2000 [00:00<?, ?it/s]"
      ]
     },
     "metadata": {},
     "output_type": "display_data"
    },
    {
     "data": {
      "application/vnd.jupyter.widget-view+json": {
       "model_id": "08c734ce94c641fe9ef9ca6307d5c2d9",
       "version_major": 2,
       "version_minor": 0
      },
      "text/plain": [
       "Solving(LSA):   0%|          | 0/2000 [00:00<?, ?it/s]"
      ]
     },
     "metadata": {},
     "output_type": "display_data"
    },
    {
     "data": {
      "application/vnd.jupyter.widget-view+json": {
       "model_id": "9a51043bf1f445c799e9649dcc0b33ba",
       "version_major": 2,
       "version_minor": 0
      },
      "text/plain": [
       "Solving(LSA):   0%|          | 0/2000 [00:00<?, ?it/s]"
      ]
     },
     "metadata": {},
     "output_type": "display_data"
    },
    {
     "data": {
      "application/vnd.jupyter.widget-view+json": {
       "model_id": "068304e8a3a74f0abe158a064a43cc0c",
       "version_major": 2,
       "version_minor": 0
      },
      "text/plain": [
       "Solving(LSA):   0%|          | 0/2000 [00:00<?, ?it/s]"
      ]
     },
     "metadata": {},
     "output_type": "display_data"
    },
    {
     "data": {
      "application/vnd.jupyter.widget-view+json": {
       "model_id": "e601abe9262a466586ff4d722e832a65",
       "version_major": 2,
       "version_minor": 0
      },
      "text/plain": [
       "Solving(LSA):   0%|          | 0/2000 [00:00<?, ?it/s]"
      ]
     },
     "metadata": {},
     "output_type": "display_data"
    },
    {
     "data": {
      "application/vnd.jupyter.widget-view+json": {
       "model_id": "34d9d2e6cb3c47618caa156548298b93",
       "version_major": 2,
       "version_minor": 0
      },
      "text/plain": [
       "Solving(LSA):   0%|          | 0/2000 [00:00<?, ?it/s]"
      ]
     },
     "metadata": {},
     "output_type": "display_data"
    },
    {
     "data": {
      "application/vnd.jupyter.widget-view+json": {
       "model_id": "d8719d9449964ec091d87acfcec31a87",
       "version_major": 2,
       "version_minor": 0
      },
      "text/plain": [
       "Solving(LSA):   0%|          | 0/2000 [00:00<?, ?it/s]"
      ]
     },
     "metadata": {},
     "output_type": "display_data"
    },
    {
     "data": {
      "application/vnd.jupyter.widget-view+json": {
       "model_id": "9c74597bf50941a09633494e760a238b",
       "version_major": 2,
       "version_minor": 0
      },
      "text/plain": [
       "Solving(LSA):   0%|          | 0/2000 [00:00<?, ?it/s]"
      ]
     },
     "metadata": {},
     "output_type": "display_data"
    },
    {
     "data": {
      "application/vnd.jupyter.widget-view+json": {
       "model_id": "a553cd0866e44149bde98d7e02ea4885",
       "version_major": 2,
       "version_minor": 0
      },
      "text/plain": [
       "Solving(LSA):   0%|          | 0/2000 [00:00<?, ?it/s]"
      ]
     },
     "metadata": {},
     "output_type": "display_data"
    },
    {
     "data": {
      "application/vnd.jupyter.widget-view+json": {
       "model_id": "1b3e2a6aa2f5475aa78c583bf3c0f87d",
       "version_major": 2,
       "version_minor": 0
      },
      "text/plain": [
       "Solving(LSA):   0%|          | 0/2000 [00:00<?, ?it/s]"
      ]
     },
     "metadata": {},
     "output_type": "display_data"
    },
    {
     "data": {
      "application/vnd.jupyter.widget-view+json": {
       "model_id": "8f8c9f65d5954fadb662554ffd579e50",
       "version_major": 2,
       "version_minor": 0
      },
      "text/plain": [
       "Solving(LSA):   0%|          | 0/2000 [00:00<?, ?it/s]"
      ]
     },
     "metadata": {},
     "output_type": "display_data"
    },
    {
     "data": {
      "application/vnd.jupyter.widget-view+json": {
       "model_id": "a6e2ea44c6244aff8453f6beb1f86bac",
       "version_major": 2,
       "version_minor": 0
      },
      "text/plain": [
       "Solving(LSA):   0%|          | 0/2000 [00:00<?, ?it/s]"
      ]
     },
     "metadata": {},
     "output_type": "display_data"
    },
    {
     "data": {
      "application/vnd.jupyter.widget-view+json": {
       "model_id": "5d59e1f7a09d448792f959aa8bd03328",
       "version_major": 2,
       "version_minor": 0
      },
      "text/plain": [
       "Solving(LSA):   0%|          | 0/2000 [00:00<?, ?it/s]"
      ]
     },
     "metadata": {},
     "output_type": "display_data"
    },
    {
     "data": {
      "application/vnd.jupyter.widget-view+json": {
       "model_id": "59d32f4e46ce4790ba66e3a382212693",
       "version_major": 2,
       "version_minor": 0
      },
      "text/plain": [
       "Solving(LSA):   0%|          | 0/2000 [00:00<?, ?it/s]"
      ]
     },
     "metadata": {},
     "output_type": "display_data"
    },
    {
     "data": {
      "application/vnd.jupyter.widget-view+json": {
       "model_id": "a75bb4deee0049e1bd3adeeb4883d882",
       "version_major": 2,
       "version_minor": 0
      },
      "text/plain": [
       "Solving(LSA):   0%|          | 0/2000 [00:00<?, ?it/s]"
      ]
     },
     "metadata": {},
     "output_type": "display_data"
    },
    {
     "data": {
      "application/vnd.jupyter.widget-view+json": {
       "model_id": "6751b0e3a8234e0187bdf8c9e6efd6fc",
       "version_major": 2,
       "version_minor": 0
      },
      "text/plain": [
       "Solving(LSA):   0%|          | 0/2000 [00:00<?, ?it/s]"
      ]
     },
     "metadata": {},
     "output_type": "display_data"
    },
    {
     "data": {
      "application/vnd.jupyter.widget-view+json": {
       "model_id": "e3120bcfbc42489e9a205bd206f8e6c3",
       "version_major": 2,
       "version_minor": 0
      },
      "text/plain": [
       "Solving(LSA):   0%|          | 0/2000 [00:00<?, ?it/s]"
      ]
     },
     "metadata": {},
     "output_type": "display_data"
    },
    {
     "data": {
      "application/vnd.jupyter.widget-view+json": {
       "model_id": "22f384554448421ea275c0dea036aa08",
       "version_major": 2,
       "version_minor": 0
      },
      "text/plain": [
       "Solving(LSA):   0%|          | 0/2000 [00:00<?, ?it/s]"
      ]
     },
     "metadata": {},
     "output_type": "display_data"
    },
    {
     "data": {
      "application/vnd.jupyter.widget-view+json": {
       "model_id": "a712bf0a35334de1ac1040b185bdfcbf",
       "version_major": 2,
       "version_minor": 0
      },
      "text/plain": [
       "Solving(LSA):   0%|          | 0/2000 [00:00<?, ?it/s]"
      ]
     },
     "metadata": {},
     "output_type": "display_data"
    },
    {
     "data": {
      "application/vnd.jupyter.widget-view+json": {
       "model_id": "3dd54c528dff4d0ca0084e8df7266763",
       "version_major": 2,
       "version_minor": 0
      },
      "text/plain": [
       "Solving(LSA):   0%|          | 0/2000 [00:00<?, ?it/s]"
      ]
     },
     "metadata": {},
     "output_type": "display_data"
    },
    {
     "data": {
      "application/vnd.jupyter.widget-view+json": {
       "model_id": "a44b201b9af743389e8b90a9fe78b0ef",
       "version_major": 2,
       "version_minor": 0
      },
      "text/plain": [
       "Solving(LSA):   0%|          | 0/2000 [00:00<?, ?it/s]"
      ]
     },
     "metadata": {},
     "output_type": "display_data"
    },
    {
     "data": {
      "application/vnd.jupyter.widget-view+json": {
       "model_id": "d3f83d19b8d347988c970b57250c8ba8",
       "version_major": 2,
       "version_minor": 0
      },
      "text/plain": [
       "Solving(LSA):   0%|          | 0/2000 [00:00<?, ?it/s]"
      ]
     },
     "metadata": {},
     "output_type": "display_data"
    },
    {
     "data": {
      "application/vnd.jupyter.widget-view+json": {
       "model_id": "995579cc2e394b92b4460164027eb0f4",
       "version_major": 2,
       "version_minor": 0
      },
      "text/plain": [
       "Solving(LSA):   0%|          | 0/2000 [00:00<?, ?it/s]"
      ]
     },
     "metadata": {},
     "output_type": "display_data"
    },
    {
     "data": {
      "application/vnd.jupyter.widget-view+json": {
       "model_id": "2ed4dd59bc544a73837e48a342485de1",
       "version_major": 2,
       "version_minor": 0
      },
      "text/plain": [
       "Solving(LSA):   0%|          | 0/2000 [00:00<?, ?it/s]"
      ]
     },
     "metadata": {},
     "output_type": "display_data"
    },
    {
     "data": {
      "application/vnd.jupyter.widget-view+json": {
       "model_id": "bef25b5d88214193b2b8b0020164cca0",
       "version_major": 2,
       "version_minor": 0
      },
      "text/plain": [
       "Solving(LSA):   0%|          | 0/2000 [00:00<?, ?it/s]"
      ]
     },
     "metadata": {},
     "output_type": "display_data"
    },
    {
     "data": {
      "application/vnd.jupyter.widget-view+json": {
       "model_id": "5e7d50a0aa1a4b0fb75d2253ec7d5620",
       "version_major": 2,
       "version_minor": 0
      },
      "text/plain": [
       "Solving(LSA):   0%|          | 0/2000 [00:00<?, ?it/s]"
      ]
     },
     "metadata": {},
     "output_type": "display_data"
    },
    {
     "data": {
      "application/vnd.jupyter.widget-view+json": {
       "model_id": "a5a2354f63704759a4c8f3df2fac525a",
       "version_major": 2,
       "version_minor": 0
      },
      "text/plain": [
       "Solving(LSA):   0%|          | 0/2000 [00:00<?, ?it/s]"
      ]
     },
     "metadata": {},
     "output_type": "display_data"
    },
    {
     "data": {
      "application/vnd.jupyter.widget-view+json": {
       "model_id": "64f973120c0b45ffa5a850d7a798b960",
       "version_major": 2,
       "version_minor": 0
      },
      "text/plain": [
       "Solving(LSA):   0%|          | 0/2000 [00:00<?, ?it/s]"
      ]
     },
     "metadata": {},
     "output_type": "display_data"
    },
    {
     "data": {
      "application/vnd.jupyter.widget-view+json": {
       "model_id": "be52c3a89964476a8cab6bbdcd662a50",
       "version_major": 2,
       "version_minor": 0
      },
      "text/plain": [
       "Solving(LSA):   0%|          | 0/2000 [00:00<?, ?it/s]"
      ]
     },
     "metadata": {},
     "output_type": "display_data"
    },
    {
     "data": {
      "application/vnd.jupyter.widget-view+json": {
       "model_id": "4822f8b70e944dca9bfb3be1ef6db100",
       "version_major": 2,
       "version_minor": 0
      },
      "text/plain": [
       "Solving(LSA):   0%|          | 0/2000 [00:00<?, ?it/s]"
      ]
     },
     "metadata": {},
     "output_type": "display_data"
    },
    {
     "data": {
      "application/vnd.jupyter.widget-view+json": {
       "model_id": "50091f482ef042269922a4794300c7ab",
       "version_major": 2,
       "version_minor": 0
      },
      "text/plain": [
       "Solving(LSA):   0%|          | 0/2000 [00:00<?, ?it/s]"
      ]
     },
     "metadata": {},
     "output_type": "display_data"
    },
    {
     "data": {
      "application/vnd.jupyter.widget-view+json": {
       "model_id": "804a01eaf93c4ed5abd8e193d11fa76c",
       "version_major": 2,
       "version_minor": 0
      },
      "text/plain": [
       "Solving(LSA):   0%|          | 0/2000 [00:00<?, ?it/s]"
      ]
     },
     "metadata": {},
     "output_type": "display_data"
    },
    {
     "data": {
      "application/vnd.jupyter.widget-view+json": {
       "model_id": "3a7d6e6f1e7d4d5cb4c01c0cbaa412a4",
       "version_major": 2,
       "version_minor": 0
      },
      "text/plain": [
       "Solving(LSA):   0%|          | 0/2000 [00:00<?, ?it/s]"
      ]
     },
     "metadata": {},
     "output_type": "display_data"
    },
    {
     "data": {
      "application/vnd.jupyter.widget-view+json": {
       "model_id": "f1a2154e29b04626b56036ad717d0178",
       "version_major": 2,
       "version_minor": 0
      },
      "text/plain": [
       "Solving(LSA):   0%|          | 0/2000 [00:00<?, ?it/s]"
      ]
     },
     "metadata": {},
     "output_type": "display_data"
    },
    {
     "data": {
      "application/vnd.jupyter.widget-view+json": {
       "model_id": "9703f65bb658457f90ad4a5ed291dbeb",
       "version_major": 2,
       "version_minor": 0
      },
      "text/plain": [
       "Solving(LSA):   0%|          | 0/2000 [00:00<?, ?it/s]"
      ]
     },
     "metadata": {},
     "output_type": "display_data"
    },
    {
     "data": {
      "application/vnd.jupyter.widget-view+json": {
       "model_id": "ddc46996fe7f45fabe23ea76b765af05",
       "version_major": 2,
       "version_minor": 0
      },
      "text/plain": [
       "Solving(LSA):   0%|          | 0/2000 [00:00<?, ?it/s]"
      ]
     },
     "metadata": {},
     "output_type": "display_data"
    },
    {
     "data": {
      "application/vnd.jupyter.widget-view+json": {
       "model_id": "ff6f6986fcaf4d5492dfd6eac4c46668",
       "version_major": 2,
       "version_minor": 0
      },
      "text/plain": [
       "Solving(LSA):   0%|          | 0/2000 [00:00<?, ?it/s]"
      ]
     },
     "metadata": {},
     "output_type": "display_data"
    },
    {
     "data": {
      "application/vnd.jupyter.widget-view+json": {
       "model_id": "068ffb09f3cb481b86cbe67b94bbfb1c",
       "version_major": 2,
       "version_minor": 0
      },
      "text/plain": [
       "Solving(LSA):   0%|          | 0/2000 [00:00<?, ?it/s]"
      ]
     },
     "metadata": {},
     "output_type": "display_data"
    },
    {
     "data": {
      "application/vnd.jupyter.widget-view+json": {
       "model_id": "fbf3089fe4ec4365b8adb9bc5ce35e97",
       "version_major": 2,
       "version_minor": 0
      },
      "text/plain": [
       "Solving(LSA):   0%|          | 0/2000 [00:00<?, ?it/s]"
      ]
     },
     "metadata": {},
     "output_type": "display_data"
    },
    {
     "data": {
      "application/vnd.jupyter.widget-view+json": {
       "model_id": "d98ba88480e84761ae6f4a28f0a25f29",
       "version_major": 2,
       "version_minor": 0
      },
      "text/plain": [
       "Solving(LSA):   0%|          | 0/2000 [00:00<?, ?it/s]"
      ]
     },
     "metadata": {},
     "output_type": "display_data"
    },
    {
     "data": {
      "application/vnd.jupyter.widget-view+json": {
       "model_id": "c5de77b5c64d4842bc3679ba741b7fa6",
       "version_major": 2,
       "version_minor": 0
      },
      "text/plain": [
       "Solving(LSA):   0%|          | 0/2000 [00:00<?, ?it/s]"
      ]
     },
     "metadata": {},
     "output_type": "display_data"
    },
    {
     "data": {
      "application/vnd.jupyter.widget-view+json": {
       "model_id": "8ca6343fa2d14ccda9ecf3e49e326387",
       "version_major": 2,
       "version_minor": 0
      },
      "text/plain": [
       "Solving(LSA):   0%|          | 0/2000 [00:00<?, ?it/s]"
      ]
     },
     "metadata": {},
     "output_type": "display_data"
    },
    {
     "data": {
      "application/vnd.jupyter.widget-view+json": {
       "model_id": "46ac768dd91044d5b06bfd8e4d6a0047",
       "version_major": 2,
       "version_minor": 0
      },
      "text/plain": [
       "Solving(LSA):   0%|          | 0/2000 [00:00<?, ?it/s]"
      ]
     },
     "metadata": {},
     "output_type": "display_data"
    },
    {
     "data": {
      "application/vnd.jupyter.widget-view+json": {
       "model_id": "9723d5303a64432eadec44523286721c",
       "version_major": 2,
       "version_minor": 0
      },
      "text/plain": [
       "Solving(LSA):   0%|          | 0/2000 [00:00<?, ?it/s]"
      ]
     },
     "metadata": {},
     "output_type": "display_data"
    },
    {
     "data": {
      "application/vnd.jupyter.widget-view+json": {
       "model_id": "50407b543bde4c71bd68eb2a0b43543e",
       "version_major": 2,
       "version_minor": 0
      },
      "text/plain": [
       "Solving(LSA):   0%|          | 0/2000 [00:00<?, ?it/s]"
      ]
     },
     "metadata": {},
     "output_type": "display_data"
    },
    {
     "data": {
      "application/vnd.jupyter.widget-view+json": {
       "model_id": "70a6251b19e24d29b18ea2714d84daaa",
       "version_major": 2,
       "version_minor": 0
      },
      "text/plain": [
       "Solving(LSA):   0%|          | 0/2000 [00:00<?, ?it/s]"
      ]
     },
     "metadata": {},
     "output_type": "display_data"
    },
    {
     "data": {
      "application/vnd.jupyter.widget-view+json": {
       "model_id": "714aa1083b014b19b4949270e5a9c9ff",
       "version_major": 2,
       "version_minor": 0
      },
      "text/plain": [
       "Solving(LSA):   0%|          | 0/2000 [00:00<?, ?it/s]"
      ]
     },
     "metadata": {},
     "output_type": "display_data"
    },
    {
     "data": {
      "application/vnd.jupyter.widget-view+json": {
       "model_id": "420d7a45ce6d495496d05ed2066a8eaa",
       "version_major": 2,
       "version_minor": 0
      },
      "text/plain": [
       "Solving(LSA):   0%|          | 0/2000 [00:00<?, ?it/s]"
      ]
     },
     "metadata": {},
     "output_type": "display_data"
    },
    {
     "data": {
      "application/vnd.jupyter.widget-view+json": {
       "model_id": "840b8a89edf14875952b82192e46e0c6",
       "version_major": 2,
       "version_minor": 0
      },
      "text/plain": [
       "Solving(LSA):   0%|          | 0/2000 [00:00<?, ?it/s]"
      ]
     },
     "metadata": {},
     "output_type": "display_data"
    },
    {
     "data": {
      "application/vnd.jupyter.widget-view+json": {
       "model_id": "a42216ed8f4f4398ab67ff999ed1cea8",
       "version_major": 2,
       "version_minor": 0
      },
      "text/plain": [
       "Solving(LSA):   0%|          | 0/2000 [00:00<?, ?it/s]"
      ]
     },
     "metadata": {},
     "output_type": "display_data"
    },
    {
     "data": {
      "application/vnd.jupyter.widget-view+json": {
       "model_id": "8d4aa4ae7c7e461f955e61eb41de4b39",
       "version_major": 2,
       "version_minor": 0
      },
      "text/plain": [
       "Solving(LSA):   0%|          | 0/2000 [00:00<?, ?it/s]"
      ]
     },
     "metadata": {},
     "output_type": "display_data"
    },
    {
     "data": {
      "application/vnd.jupyter.widget-view+json": {
       "model_id": "b5082d4406f74c5ca5f5005a9d1778c9",
       "version_major": 2,
       "version_minor": 0
      },
      "text/plain": [
       "Solving(LSA):   0%|          | 0/2000 [00:00<?, ?it/s]"
      ]
     },
     "metadata": {},
     "output_type": "display_data"
    },
    {
     "data": {
      "application/vnd.jupyter.widget-view+json": {
       "model_id": "ddf81c183e274e339dcd30ae0e15c27e",
       "version_major": 2,
       "version_minor": 0
      },
      "text/plain": [
       "Solving(LSA):   0%|          | 0/2000 [00:00<?, ?it/s]"
      ]
     },
     "metadata": {},
     "output_type": "display_data"
    },
    {
     "data": {
      "application/vnd.jupyter.widget-view+json": {
       "model_id": "d794e68a0b454a08abbc360229111d6c",
       "version_major": 2,
       "version_minor": 0
      },
      "text/plain": [
       "Solving(LSA):   0%|          | 0/2000 [00:00<?, ?it/s]"
      ]
     },
     "metadata": {},
     "output_type": "display_data"
    },
    {
     "data": {
      "application/vnd.jupyter.widget-view+json": {
       "model_id": "c8aa2c64db4c45d98548297fee3c6a20",
       "version_major": 2,
       "version_minor": 0
      },
      "text/plain": [
       "Solving(LSA):   0%|          | 0/2000 [00:00<?, ?it/s]"
      ]
     },
     "metadata": {},
     "output_type": "display_data"
    },
    {
     "data": {
      "application/vnd.jupyter.widget-view+json": {
       "model_id": "3813fe6b3728441ea8aea4594d009079",
       "version_major": 2,
       "version_minor": 0
      },
      "text/plain": [
       "Solving(LSA):   0%|          | 0/2000 [00:00<?, ?it/s]"
      ]
     },
     "metadata": {},
     "output_type": "display_data"
    },
    {
     "data": {
      "application/vnd.jupyter.widget-view+json": {
       "model_id": "529a51aab12a470facc41708748a11ac",
       "version_major": 2,
       "version_minor": 0
      },
      "text/plain": [
       "Solving(LSA):   0%|          | 0/2000 [00:00<?, ?it/s]"
      ]
     },
     "metadata": {},
     "output_type": "display_data"
    },
    {
     "data": {
      "application/vnd.jupyter.widget-view+json": {
       "model_id": "85540f0415524a5884b150d4d8e2e8ec",
       "version_major": 2,
       "version_minor": 0
      },
      "text/plain": [
       "Solving(LSA):   0%|          | 0/2000 [00:00<?, ?it/s]"
      ]
     },
     "metadata": {},
     "output_type": "display_data"
    },
    {
     "data": {
      "application/vnd.jupyter.widget-view+json": {
       "model_id": "c4ef28b45b6f4dcaa8ccf8706cbf31c4",
       "version_major": 2,
       "version_minor": 0
      },
      "text/plain": [
       "Solving(LSA):   0%|          | 0/2000 [00:00<?, ?it/s]"
      ]
     },
     "metadata": {},
     "output_type": "display_data"
    },
    {
     "data": {
      "application/vnd.jupyter.widget-view+json": {
       "model_id": "d04867888f5943c0bcbd9a17fd0943ba",
       "version_major": 2,
       "version_minor": 0
      },
      "text/plain": [
       "Solving(LSA):   0%|          | 0/2000 [00:00<?, ?it/s]"
      ]
     },
     "metadata": {},
     "output_type": "display_data"
    },
    {
     "data": {
      "application/vnd.jupyter.widget-view+json": {
       "model_id": "ef59d0e14507496db5c470cfee3b7cf4",
       "version_major": 2,
       "version_minor": 0
      },
      "text/plain": [
       "Solving(LSA):   0%|          | 0/2000 [00:00<?, ?it/s]"
      ]
     },
     "metadata": {},
     "output_type": "display_data"
    },
    {
     "data": {
      "application/vnd.jupyter.widget-view+json": {
       "model_id": "5c3c3b3b368442a9801fdcb25e42187e",
       "version_major": 2,
       "version_minor": 0
      },
      "text/plain": [
       "Solving(LSA):   0%|          | 0/2000 [00:00<?, ?it/s]"
      ]
     },
     "metadata": {},
     "output_type": "display_data"
    },
    {
     "data": {
      "application/vnd.jupyter.widget-view+json": {
       "model_id": "5f5425d02bcc4a4d8cf967404353e182",
       "version_major": 2,
       "version_minor": 0
      },
      "text/plain": [
       "Solving(LSA):   0%|          | 0/2000 [00:00<?, ?it/s]"
      ]
     },
     "metadata": {},
     "output_type": "display_data"
    },
    {
     "data": {
      "application/vnd.jupyter.widget-view+json": {
       "model_id": "d72419b9b309493fbeef71ab19a35ac4",
       "version_major": 2,
       "version_minor": 0
      },
      "text/plain": [
       "Solving(LSA):   0%|          | 0/2000 [00:00<?, ?it/s]"
      ]
     },
     "metadata": {},
     "output_type": "display_data"
    },
    {
     "data": {
      "application/vnd.jupyter.widget-view+json": {
       "model_id": "c84decfb2bd54a84994a0b87430e0ed1",
       "version_major": 2,
       "version_minor": 0
      },
      "text/plain": [
       "Solving(LSA):   0%|          | 0/2000 [00:00<?, ?it/s]"
      ]
     },
     "metadata": {},
     "output_type": "display_data"
    },
    {
     "data": {
      "application/vnd.jupyter.widget-view+json": {
       "model_id": "47c4cf2080e649ff858c69ef6f35e350",
       "version_major": 2,
       "version_minor": 0
      },
      "text/plain": [
       "Solving(LSA):   0%|          | 0/2000 [00:00<?, ?it/s]"
      ]
     },
     "metadata": {},
     "output_type": "display_data"
    },
    {
     "data": {
      "application/vnd.jupyter.widget-view+json": {
       "model_id": "23a9f6a545ca40baa0d20b7285e6d276",
       "version_major": 2,
       "version_minor": 0
      },
      "text/plain": [
       "Solving(LSA):   0%|          | 0/2000 [00:00<?, ?it/s]"
      ]
     },
     "metadata": {},
     "output_type": "display_data"
    },
    {
     "data": {
      "application/vnd.jupyter.widget-view+json": {
       "model_id": "689744fdbd9f42e295ce05d5e390b229",
       "version_major": 2,
       "version_minor": 0
      },
      "text/plain": [
       "Solving(LSA):   0%|          | 0/2000 [00:00<?, ?it/s]"
      ]
     },
     "metadata": {},
     "output_type": "display_data"
    },
    {
     "data": {
      "application/vnd.jupyter.widget-view+json": {
       "model_id": "f3e9764846dd442eab3aba04e4bc2fff",
       "version_major": 2,
       "version_minor": 0
      },
      "text/plain": [
       "Solving(LSA):   0%|          | 0/2000 [00:00<?, ?it/s]"
      ]
     },
     "metadata": {},
     "output_type": "display_data"
    },
    {
     "data": {
      "application/vnd.jupyter.widget-view+json": {
       "model_id": "8ed57087f14e40cba75aa59f921e0125",
       "version_major": 2,
       "version_minor": 0
      },
      "text/plain": [
       "Solving(LSA):   0%|          | 0/2000 [00:00<?, ?it/s]"
      ]
     },
     "metadata": {},
     "output_type": "display_data"
    },
    {
     "data": {
      "application/vnd.jupyter.widget-view+json": {
       "model_id": "087084d9ee6f4b8c9f6fb0b69caa0988",
       "version_major": 2,
       "version_minor": 0
      },
      "text/plain": [
       "Solving(LSA):   0%|          | 0/2000 [00:00<?, ?it/s]"
      ]
     },
     "metadata": {},
     "output_type": "display_data"
    },
    {
     "data": {
      "application/vnd.jupyter.widget-view+json": {
       "model_id": "5b24986c5d5a4591ac6548b62e2be882",
       "version_major": 2,
       "version_minor": 0
      },
      "text/plain": [
       "Solving(LSA):   0%|          | 0/2000 [00:00<?, ?it/s]"
      ]
     },
     "metadata": {},
     "output_type": "display_data"
    },
    {
     "data": {
      "application/vnd.jupyter.widget-view+json": {
       "model_id": "01c2f1872394449d8db060838e4f04aa",
       "version_major": 2,
       "version_minor": 0
      },
      "text/plain": [
       "Solving(LSA):   0%|          | 0/2000 [00:00<?, ?it/s]"
      ]
     },
     "metadata": {},
     "output_type": "display_data"
    },
    {
     "data": {
      "application/vnd.jupyter.widget-view+json": {
       "model_id": "aa4105dec3c9463d8bdfae8d33a1559e",
       "version_major": 2,
       "version_minor": 0
      },
      "text/plain": [
       "Solving(LSA):   0%|          | 0/2000 [00:00<?, ?it/s]"
      ]
     },
     "metadata": {},
     "output_type": "display_data"
    },
    {
     "data": {
      "application/vnd.jupyter.widget-view+json": {
       "model_id": "594d27d0d3044a7c81728e99ccdb609a",
       "version_major": 2,
       "version_minor": 0
      },
      "text/plain": [
       "Solving(LSA):   0%|          | 0/2000 [00:00<?, ?it/s]"
      ]
     },
     "metadata": {},
     "output_type": "display_data"
    },
    {
     "data": {
      "application/vnd.jupyter.widget-view+json": {
       "model_id": "c56d9437a1e740dc9fc1b6b305df51c0",
       "version_major": 2,
       "version_minor": 0
      },
      "text/plain": [
       "Solving(LSA):   0%|          | 0/2000 [00:00<?, ?it/s]"
      ]
     },
     "metadata": {},
     "output_type": "display_data"
    },
    {
     "data": {
      "application/vnd.jupyter.widget-view+json": {
       "model_id": "38ff8cf177284853a644a48bcf151a7e",
       "version_major": 2,
       "version_minor": 0
      },
      "text/plain": [
       "Solving(LSA):   0%|          | 0/2000 [00:00<?, ?it/s]"
      ]
     },
     "metadata": {},
     "output_type": "display_data"
    },
    {
     "data": {
      "application/vnd.jupyter.widget-view+json": {
       "model_id": "df4f344e8b4e4d5b8c4a588221b42557",
       "version_major": 2,
       "version_minor": 0
      },
      "text/plain": [
       "Solving(LSA):   0%|          | 0/2000 [00:00<?, ?it/s]"
      ]
     },
     "metadata": {},
     "output_type": "display_data"
    },
    {
     "data": {
      "application/vnd.jupyter.widget-view+json": {
       "model_id": "821d51d41e0d409fbc9a8a9f4495f0c0",
       "version_major": 2,
       "version_minor": 0
      },
      "text/plain": [
       "Solving(LSA):   0%|          | 0/2000 [00:00<?, ?it/s]"
      ]
     },
     "metadata": {},
     "output_type": "display_data"
    },
    {
     "data": {
      "application/vnd.jupyter.widget-view+json": {
       "model_id": "cbe8a5d9d42e4788844050e2a2b2006f",
       "version_major": 2,
       "version_minor": 0
      },
      "text/plain": [
       "Solving(LSA):   0%|          | 0/2000 [00:00<?, ?it/s]"
      ]
     },
     "metadata": {},
     "output_type": "display_data"
    },
    {
     "data": {
      "application/vnd.jupyter.widget-view+json": {
       "model_id": "73ac99ad69cc4fd3892823e85b5126df",
       "version_major": 2,
       "version_minor": 0
      },
      "text/plain": [
       "Solving(LSA):   0%|          | 0/2000 [00:00<?, ?it/s]"
      ]
     },
     "metadata": {},
     "output_type": "display_data"
    },
    {
     "data": {
      "application/vnd.jupyter.widget-view+json": {
       "model_id": "6e7a03121f614b86a966c3295d95da2a",
       "version_major": 2,
       "version_minor": 0
      },
      "text/plain": [
       "Solving(LSA):   0%|          | 0/2000 [00:00<?, ?it/s]"
      ]
     },
     "metadata": {},
     "output_type": "display_data"
    },
    {
     "data": {
      "application/vnd.jupyter.widget-view+json": {
       "model_id": "6f823736147b46469e1d15a24d6f4a6a",
       "version_major": 2,
       "version_minor": 0
      },
      "text/plain": [
       "Solving(LSA):   0%|          | 0/2000 [00:00<?, ?it/s]"
      ]
     },
     "metadata": {},
     "output_type": "display_data"
    },
    {
     "data": {
      "application/vnd.jupyter.widget-view+json": {
       "model_id": "1fd74ecf1aa74f229a950b0fecb40e39",
       "version_major": 2,
       "version_minor": 0
      },
      "text/plain": [
       "Solving(LSA):   0%|          | 0/2000 [00:00<?, ?it/s]"
      ]
     },
     "metadata": {},
     "output_type": "display_data"
    },
    {
     "data": {
      "application/vnd.jupyter.widget-view+json": {
       "model_id": "62f6072944eb432b845cfcff2252303f",
       "version_major": 2,
       "version_minor": 0
      },
      "text/plain": [
       "Solving(LSA):   0%|          | 0/2000 [00:00<?, ?it/s]"
      ]
     },
     "metadata": {},
     "output_type": "display_data"
    },
    {
     "data": {
      "application/vnd.jupyter.widget-view+json": {
       "model_id": "5d4800842e1141d795cd5724fc808483",
       "version_major": 2,
       "version_minor": 0
      },
      "text/plain": [
       "Solving(LSA):   0%|          | 0/2000 [00:00<?, ?it/s]"
      ]
     },
     "metadata": {},
     "output_type": "display_data"
    },
    {
     "data": {
      "application/vnd.jupyter.widget-view+json": {
       "model_id": "49a081d6f08b4890a60d7927b07f79a4",
       "version_major": 2,
       "version_minor": 0
      },
      "text/plain": [
       "Solving(LSA):   0%|          | 0/2000 [00:00<?, ?it/s]"
      ]
     },
     "metadata": {},
     "output_type": "display_data"
    },
    {
     "data": {
      "application/vnd.jupyter.widget-view+json": {
       "model_id": "8bfb2aa3b0fb45b78a0811e6fdb4de6c",
       "version_major": 2,
       "version_minor": 0
      },
      "text/plain": [
       "Solving(LSA):   0%|          | 0/2000 [00:00<?, ?it/s]"
      ]
     },
     "metadata": {},
     "output_type": "display_data"
    },
    {
     "data": {
      "application/vnd.jupyter.widget-view+json": {
       "model_id": "252fb1188c9e424baebcf31d6342c3a7",
       "version_major": 2,
       "version_minor": 0
      },
      "text/plain": [
       "Solving(LSA):   0%|          | 0/2000 [00:00<?, ?it/s]"
      ]
     },
     "metadata": {},
     "output_type": "display_data"
    },
    {
     "data": {
      "application/vnd.jupyter.widget-view+json": {
       "model_id": "656bdfc3e7e64a4c9ed4ae592f3fe3ad",
       "version_major": 2,
       "version_minor": 0
      },
      "text/plain": [
       "Solving(LSA):   0%|          | 0/2000 [00:00<?, ?it/s]"
      ]
     },
     "metadata": {},
     "output_type": "display_data"
    },
    {
     "data": {
      "application/vnd.jupyter.widget-view+json": {
       "model_id": "8a7abcd7683943e4aa58cfab441a8904",
       "version_major": 2,
       "version_minor": 0
      },
      "text/plain": [
       "Solving(LSA):   0%|          | 0/2000 [00:00<?, ?it/s]"
      ]
     },
     "metadata": {},
     "output_type": "display_data"
    },
    {
     "data": {
      "application/vnd.jupyter.widget-view+json": {
       "model_id": "4662e3c3b73e46ef929b86cf16c2baae",
       "version_major": 2,
       "version_minor": 0
      },
      "text/plain": [
       "Solving(LSA):   0%|          | 0/2000 [00:00<?, ?it/s]"
      ]
     },
     "metadata": {},
     "output_type": "display_data"
    },
    {
     "data": {
      "application/vnd.jupyter.widget-view+json": {
       "model_id": "7b22d84c3b5244688992087e8d852d25",
       "version_major": 2,
       "version_minor": 0
      },
      "text/plain": [
       "Solving(LSA):   0%|          | 0/2000 [00:00<?, ?it/s]"
      ]
     },
     "metadata": {},
     "output_type": "display_data"
    },
    {
     "data": {
      "application/vnd.jupyter.widget-view+json": {
       "model_id": "3e2220c200af44fbace3ef58d9ee50a1",
       "version_major": 2,
       "version_minor": 0
      },
      "text/plain": [
       "Solving(LSA):   0%|          | 0/2000 [00:00<?, ?it/s]"
      ]
     },
     "metadata": {},
     "output_type": "display_data"
    },
    {
     "data": {
      "application/vnd.jupyter.widget-view+json": {
       "model_id": "609466dbf7ab4cb6b03128796180c1c2",
       "version_major": 2,
       "version_minor": 0
      },
      "text/plain": [
       "Solving(LSA):   0%|          | 0/2000 [00:00<?, ?it/s]"
      ]
     },
     "metadata": {},
     "output_type": "display_data"
    },
    {
     "data": {
      "application/vnd.jupyter.widget-view+json": {
       "model_id": "90ed515844704bf3999297f2e7aaad06",
       "version_major": 2,
       "version_minor": 0
      },
      "text/plain": [
       "Solving(LSA):   0%|          | 0/2000 [00:00<?, ?it/s]"
      ]
     },
     "metadata": {},
     "output_type": "display_data"
    },
    {
     "data": {
      "application/vnd.jupyter.widget-view+json": {
       "model_id": "8bad5a6cd71e427fa5eb072da2b2ed16",
       "version_major": 2,
       "version_minor": 0
      },
      "text/plain": [
       "Solving(LSA):   0%|          | 0/2000 [00:00<?, ?it/s]"
      ]
     },
     "metadata": {},
     "output_type": "display_data"
    },
    {
     "data": {
      "application/vnd.jupyter.widget-view+json": {
       "model_id": "31398da0be4a4a6c92ccb6b25db403ad",
       "version_major": 2,
       "version_minor": 0
      },
      "text/plain": [
       "Solving(LSA):   0%|          | 0/2000 [00:00<?, ?it/s]"
      ]
     },
     "metadata": {},
     "output_type": "display_data"
    },
    {
     "data": {
      "application/vnd.jupyter.widget-view+json": {
       "model_id": "4f42ba37d5ba402cb96e15100091cbe6",
       "version_major": 2,
       "version_minor": 0
      },
      "text/plain": [
       "Solving(LSA):   0%|          | 0/2000 [00:00<?, ?it/s]"
      ]
     },
     "metadata": {},
     "output_type": "display_data"
    },
    {
     "data": {
      "application/vnd.jupyter.widget-view+json": {
       "model_id": "ec894c3348234890a520cffb19766a49",
       "version_major": 2,
       "version_minor": 0
      },
      "text/plain": [
       "Solving(LSA):   0%|          | 0/2000 [00:00<?, ?it/s]"
      ]
     },
     "metadata": {},
     "output_type": "display_data"
    },
    {
     "data": {
      "application/vnd.jupyter.widget-view+json": {
       "model_id": "866b0dfdb3824d359b4a7889aec34173",
       "version_major": 2,
       "version_minor": 0
      },
      "text/plain": [
       "Solving(LSA):   0%|          | 0/2000 [00:00<?, ?it/s]"
      ]
     },
     "metadata": {},
     "output_type": "display_data"
    },
    {
     "data": {
      "application/vnd.jupyter.widget-view+json": {
       "model_id": "9bc2934235ce4b4b9e515811b32f092c",
       "version_major": 2,
       "version_minor": 0
      },
      "text/plain": [
       "Solving(LSA):   0%|          | 0/2000 [00:00<?, ?it/s]"
      ]
     },
     "metadata": {},
     "output_type": "display_data"
    },
    {
     "data": {
      "application/vnd.jupyter.widget-view+json": {
       "model_id": "e9fcf79b1de94ce5a702bddb1ae4d87b",
       "version_major": 2,
       "version_minor": 0
      },
      "text/plain": [
       "Solving(LSA):   0%|          | 0/2000 [00:00<?, ?it/s]"
      ]
     },
     "metadata": {},
     "output_type": "display_data"
    },
    {
     "data": {
      "application/vnd.jupyter.widget-view+json": {
       "model_id": "2d1f7e10bf92449f868d92f36c71680f",
       "version_major": 2,
       "version_minor": 0
      },
      "text/plain": [
       "Solving(LSA):   0%|          | 0/2000 [00:00<?, ?it/s]"
      ]
     },
     "metadata": {},
     "output_type": "display_data"
    },
    {
     "data": {
      "application/vnd.jupyter.widget-view+json": {
       "model_id": "c93e52c355654a148422183f9a1a3315",
       "version_major": 2,
       "version_minor": 0
      },
      "text/plain": [
       "Solving(LSA):   0%|          | 0/2000 [00:00<?, ?it/s]"
      ]
     },
     "metadata": {},
     "output_type": "display_data"
    },
    {
     "data": {
      "application/vnd.jupyter.widget-view+json": {
       "model_id": "49467271f87a4232bc2324e87820ad99",
       "version_major": 2,
       "version_minor": 0
      },
      "text/plain": [
       "Solving(LSA):   0%|          | 0/2000 [00:00<?, ?it/s]"
      ]
     },
     "metadata": {},
     "output_type": "display_data"
    },
    {
     "data": {
      "application/vnd.jupyter.widget-view+json": {
       "model_id": "a9655d7f2da94f7d88f7ef439d3d2834",
       "version_major": 2,
       "version_minor": 0
      },
      "text/plain": [
       "Solving(LSA):   0%|          | 0/2000 [00:00<?, ?it/s]"
      ]
     },
     "metadata": {},
     "output_type": "display_data"
    },
    {
     "data": {
      "application/vnd.jupyter.widget-view+json": {
       "model_id": "5bb6fdde2dac4cf099f8910f8a8f1e41",
       "version_major": 2,
       "version_minor": 0
      },
      "text/plain": [
       "Solving(LSA):   0%|          | 0/2000 [00:00<?, ?it/s]"
      ]
     },
     "metadata": {},
     "output_type": "display_data"
    },
    {
     "data": {
      "application/vnd.jupyter.widget-view+json": {
       "model_id": "50538fca632947c7a9fb9601448b0699",
       "version_major": 2,
       "version_minor": 0
      },
      "text/plain": [
       "Solving(LSA):   0%|          | 0/2000 [00:00<?, ?it/s]"
      ]
     },
     "metadata": {},
     "output_type": "display_data"
    },
    {
     "data": {
      "application/vnd.jupyter.widget-view+json": {
       "model_id": "a0fb7466fcf449d7ba310554ae9b0ddc",
       "version_major": 2,
       "version_minor": 0
      },
      "text/plain": [
       "Solving(LSA):   0%|          | 0/2000 [00:00<?, ?it/s]"
      ]
     },
     "metadata": {},
     "output_type": "display_data"
    },
    {
     "data": {
      "application/vnd.jupyter.widget-view+json": {
       "model_id": "b3d57c27284b4fbcbb0216a8b0a5abd4",
       "version_major": 2,
       "version_minor": 0
      },
      "text/plain": [
       "Solving(LSA):   0%|          | 0/2000 [00:00<?, ?it/s]"
      ]
     },
     "metadata": {},
     "output_type": "display_data"
    },
    {
     "data": {
      "application/vnd.jupyter.widget-view+json": {
       "model_id": "20bdf48c8f664eadb17adc73673b860c",
       "version_major": 2,
       "version_minor": 0
      },
      "text/plain": [
       "Solving(LSA):   0%|          | 0/2000 [00:00<?, ?it/s]"
      ]
     },
     "metadata": {},
     "output_type": "display_data"
    },
    {
     "data": {
      "application/vnd.jupyter.widget-view+json": {
       "model_id": "7dfb4341b3704168828ca83e64281b4f",
       "version_major": 2,
       "version_minor": 0
      },
      "text/plain": [
       "Solving(LSA):   0%|          | 0/2000 [00:00<?, ?it/s]"
      ]
     },
     "metadata": {},
     "output_type": "display_data"
    },
    {
     "data": {
      "application/vnd.jupyter.widget-view+json": {
       "model_id": "cac5f72e5a6e448bab9a4bdcb45a2b76",
       "version_major": 2,
       "version_minor": 0
      },
      "text/plain": [
       "Solving(LSA):   0%|          | 0/2000 [00:00<?, ?it/s]"
      ]
     },
     "metadata": {},
     "output_type": "display_data"
    },
    {
     "data": {
      "application/vnd.jupyter.widget-view+json": {
       "model_id": "b1eece77a9954dc1901f8429560b0d9e",
       "version_major": 2,
       "version_minor": 0
      },
      "text/plain": [
       "Solving(LSA):   0%|          | 0/2000 [00:00<?, ?it/s]"
      ]
     },
     "metadata": {},
     "output_type": "display_data"
    },
    {
     "data": {
      "application/vnd.jupyter.widget-view+json": {
       "model_id": "5a5d4ef126034f8d9eab1f394d2fc225",
       "version_major": 2,
       "version_minor": 0
      },
      "text/plain": [
       "Solving(LSA):   0%|          | 0/2000 [00:00<?, ?it/s]"
      ]
     },
     "metadata": {},
     "output_type": "display_data"
    },
    {
     "data": {
      "application/vnd.jupyter.widget-view+json": {
       "model_id": "53059de20f4d478fa472033669b51c7b",
       "version_major": 2,
       "version_minor": 0
      },
      "text/plain": [
       "Solving(LSA):   0%|          | 0/2000 [00:00<?, ?it/s]"
      ]
     },
     "metadata": {},
     "output_type": "display_data"
    },
    {
     "data": {
      "application/vnd.jupyter.widget-view+json": {
       "model_id": "56f30ea9d092481e9e3a1408b8284bfc",
       "version_major": 2,
       "version_minor": 0
      },
      "text/plain": [
       "Solving(LSA):   0%|          | 0/2000 [00:00<?, ?it/s]"
      ]
     },
     "metadata": {},
     "output_type": "display_data"
    },
    {
     "data": {
      "application/vnd.jupyter.widget-view+json": {
       "model_id": "4a87e3426959418f94be8854705ff792",
       "version_major": 2,
       "version_minor": 0
      },
      "text/plain": [
       "Solving(LSA):   0%|          | 0/2000 [00:00<?, ?it/s]"
      ]
     },
     "metadata": {},
     "output_type": "display_data"
    },
    {
     "data": {
      "application/vnd.jupyter.widget-view+json": {
       "model_id": "e8b82d896c3749e6bcffff733f09b851",
       "version_major": 2,
       "version_minor": 0
      },
      "text/plain": [
       "Solving(LSA):   0%|          | 0/2000 [00:00<?, ?it/s]"
      ]
     },
     "metadata": {},
     "output_type": "display_data"
    },
    {
     "data": {
      "application/vnd.jupyter.widget-view+json": {
       "model_id": "9c9a8e4cc8b644788f2d9d9d573704d8",
       "version_major": 2,
       "version_minor": 0
      },
      "text/plain": [
       "Solving(LSA):   0%|          | 0/2000 [00:00<?, ?it/s]"
      ]
     },
     "metadata": {},
     "output_type": "display_data"
    },
    {
     "data": {
      "application/vnd.jupyter.widget-view+json": {
       "model_id": "703f086b0cef4610b2c72d4eed313770",
       "version_major": 2,
       "version_minor": 0
      },
      "text/plain": [
       "Solving(LSA):   0%|          | 0/2000 [00:00<?, ?it/s]"
      ]
     },
     "metadata": {},
     "output_type": "display_data"
    },
    {
     "data": {
      "application/vnd.jupyter.widget-view+json": {
       "model_id": "f4d3d7d0b910434d88685c4f72e600a8",
       "version_major": 2,
       "version_minor": 0
      },
      "text/plain": [
       "Solving(LSA):   0%|          | 0/2000 [00:00<?, ?it/s]"
      ]
     },
     "metadata": {},
     "output_type": "display_data"
    },
    {
     "data": {
      "application/vnd.jupyter.widget-view+json": {
       "model_id": "5d21b0e9520a4aa09f2b9b4c0e8479c5",
       "version_major": 2,
       "version_minor": 0
      },
      "text/plain": [
       "Solving(LSA):   0%|          | 0/2000 [00:00<?, ?it/s]"
      ]
     },
     "metadata": {},
     "output_type": "display_data"
    },
    {
     "data": {
      "application/vnd.jupyter.widget-view+json": {
       "model_id": "f014c654eb71450fac6ba122576175c3",
       "version_major": 2,
       "version_minor": 0
      },
      "text/plain": [
       "Solving(LSA):   0%|          | 0/2000 [00:00<?, ?it/s]"
      ]
     },
     "metadata": {},
     "output_type": "display_data"
    },
    {
     "data": {
      "application/vnd.jupyter.widget-view+json": {
       "model_id": "29e800fd185c4ff7baae0808cfdf0060",
       "version_major": 2,
       "version_minor": 0
      },
      "text/plain": [
       "Solving(LSA):   0%|          | 0/2000 [00:00<?, ?it/s]"
      ]
     },
     "metadata": {},
     "output_type": "display_data"
    },
    {
     "data": {
      "application/vnd.jupyter.widget-view+json": {
       "model_id": "ed894e6c9ef74c1d8f097dc0929fda93",
       "version_major": 2,
       "version_minor": 0
      },
      "text/plain": [
       "Solving(LSA):   0%|          | 0/2000 [00:00<?, ?it/s]"
      ]
     },
     "metadata": {},
     "output_type": "display_data"
    },
    {
     "data": {
      "application/vnd.jupyter.widget-view+json": {
       "model_id": "924ecf001b9f4eb1ada89f2e1de197f0",
       "version_major": 2,
       "version_minor": 0
      },
      "text/plain": [
       "Solving(LSA):   0%|          | 0/2000 [00:00<?, ?it/s]"
      ]
     },
     "metadata": {},
     "output_type": "display_data"
    },
    {
     "data": {
      "application/vnd.jupyter.widget-view+json": {
       "model_id": "eda746ed3b9440d9a8c2f6ee03cfad5c",
       "version_major": 2,
       "version_minor": 0
      },
      "text/plain": [
       "Solving(LSA):   0%|          | 0/2000 [00:00<?, ?it/s]"
      ]
     },
     "metadata": {},
     "output_type": "display_data"
    },
    {
     "data": {
      "application/vnd.jupyter.widget-view+json": {
       "model_id": "60968a3dfa224aa08f010e500c91e166",
       "version_major": 2,
       "version_minor": 0
      },
      "text/plain": [
       "Solving(LSA):   0%|          | 0/2000 [00:00<?, ?it/s]"
      ]
     },
     "metadata": {},
     "output_type": "display_data"
    },
    {
     "data": {
      "application/vnd.jupyter.widget-view+json": {
       "model_id": "9a6769532861473ea0496ee021c8df8c",
       "version_major": 2,
       "version_minor": 0
      },
      "text/plain": [
       "Solving(LSA):   0%|          | 0/2000 [00:00<?, ?it/s]"
      ]
     },
     "metadata": {},
     "output_type": "display_data"
    },
    {
     "data": {
      "application/vnd.jupyter.widget-view+json": {
       "model_id": "fc559fe5a7fa4319b46d6b19dde32f65",
       "version_major": 2,
       "version_minor": 0
      },
      "text/plain": [
       "Solving(LSA):   0%|          | 0/2000 [00:00<?, ?it/s]"
      ]
     },
     "metadata": {},
     "output_type": "display_data"
    },
    {
     "data": {
      "application/vnd.jupyter.widget-view+json": {
       "model_id": "8bcbfb50eb6c4d1bb609a36cce5a1d0b",
       "version_major": 2,
       "version_minor": 0
      },
      "text/plain": [
       "Solving(LSA):   0%|          | 0/2000 [00:00<?, ?it/s]"
      ]
     },
     "metadata": {},
     "output_type": "display_data"
    },
    {
     "data": {
      "application/vnd.jupyter.widget-view+json": {
       "model_id": "e20215991a184ce7860745ec1639940a",
       "version_major": 2,
       "version_minor": 0
      },
      "text/plain": [
       "Solving(LSA):   0%|          | 0/2000 [00:00<?, ?it/s]"
      ]
     },
     "metadata": {},
     "output_type": "display_data"
    },
    {
     "data": {
      "application/vnd.jupyter.widget-view+json": {
       "model_id": "2430d2b94f1843009b0110dbd589bf8e",
       "version_major": 2,
       "version_minor": 0
      },
      "text/plain": [
       "Solving(LSA):   0%|          | 0/2000 [00:00<?, ?it/s]"
      ]
     },
     "metadata": {},
     "output_type": "display_data"
    },
    {
     "data": {
      "application/vnd.jupyter.widget-view+json": {
       "model_id": "bb6420d9a63c4c6cb2ec99d5088dfa8e",
       "version_major": 2,
       "version_minor": 0
      },
      "text/plain": [
       "Solving(LSA):   0%|          | 0/2000 [00:00<?, ?it/s]"
      ]
     },
     "metadata": {},
     "output_type": "display_data"
    },
    {
     "data": {
      "application/vnd.jupyter.widget-view+json": {
       "model_id": "6a6c2d3db0254cd1aa9f02a935406438",
       "version_major": 2,
       "version_minor": 0
      },
      "text/plain": [
       "Solving(LSA):   0%|          | 0/2000 [00:00<?, ?it/s]"
      ]
     },
     "metadata": {},
     "output_type": "display_data"
    },
    {
     "data": {
      "application/vnd.jupyter.widget-view+json": {
       "model_id": "59006f4d6ce7414e8c3cb3294a3fcd42",
       "version_major": 2,
       "version_minor": 0
      },
      "text/plain": [
       "Solving(LSA):   0%|          | 0/2000 [00:00<?, ?it/s]"
      ]
     },
     "metadata": {},
     "output_type": "display_data"
    },
    {
     "data": {
      "application/vnd.jupyter.widget-view+json": {
       "model_id": "1be2dae7cc1b414cbee1c171fbe2a6e0",
       "version_major": 2,
       "version_minor": 0
      },
      "text/plain": [
       "Solving(LSA):   0%|          | 0/2000 [00:00<?, ?it/s]"
      ]
     },
     "metadata": {},
     "output_type": "display_data"
    },
    {
     "data": {
      "application/vnd.jupyter.widget-view+json": {
       "model_id": "20c9576f56bb4be09a7896580dbc8701",
       "version_major": 2,
       "version_minor": 0
      },
      "text/plain": [
       "Solving(LSA):   0%|          | 0/2000 [00:00<?, ?it/s]"
      ]
     },
     "metadata": {},
     "output_type": "display_data"
    },
    {
     "data": {
      "application/vnd.jupyter.widget-view+json": {
       "model_id": "7627fcbba025465ba8ac98c195cc4d98",
       "version_major": 2,
       "version_minor": 0
      },
      "text/plain": [
       "Solving(LSA):   0%|          | 0/2000 [00:00<?, ?it/s]"
      ]
     },
     "metadata": {},
     "output_type": "display_data"
    },
    {
     "data": {
      "application/vnd.jupyter.widget-view+json": {
       "model_id": "07d4c880e7154599954a786a547f63d3",
       "version_major": 2,
       "version_minor": 0
      },
      "text/plain": [
       "Solving(LSA):   0%|          | 0/2000 [00:00<?, ?it/s]"
      ]
     },
     "metadata": {},
     "output_type": "display_data"
    },
    {
     "data": {
      "application/vnd.jupyter.widget-view+json": {
       "model_id": "41a1ec92e0984661aa8236ed51b1c96e",
       "version_major": 2,
       "version_minor": 0
      },
      "text/plain": [
       "Solving(LSA):   0%|          | 0/2000 [00:00<?, ?it/s]"
      ]
     },
     "metadata": {},
     "output_type": "display_data"
    },
    {
     "data": {
      "application/vnd.jupyter.widget-view+json": {
       "model_id": "a5416b1f251b4f369109809c96a0a013",
       "version_major": 2,
       "version_minor": 0
      },
      "text/plain": [
       "Solving(LSA):   0%|          | 0/2000 [00:00<?, ?it/s]"
      ]
     },
     "metadata": {},
     "output_type": "display_data"
    },
    {
     "data": {
      "application/vnd.jupyter.widget-view+json": {
       "model_id": "b460befe840240ea87d3bb8f4b100c99",
       "version_major": 2,
       "version_minor": 0
      },
      "text/plain": [
       "Solving(LSA):   0%|          | 0/2000 [00:00<?, ?it/s]"
      ]
     },
     "metadata": {},
     "output_type": "display_data"
    },
    {
     "data": {
      "application/vnd.jupyter.widget-view+json": {
       "model_id": "1e1d4f57bc7b4eaca20d9413e3d334d6",
       "version_major": 2,
       "version_minor": 0
      },
      "text/plain": [
       "Solving(LSA):   0%|          | 0/2000 [00:00<?, ?it/s]"
      ]
     },
     "metadata": {},
     "output_type": "display_data"
    },
    {
     "data": {
      "application/vnd.jupyter.widget-view+json": {
       "model_id": "47d91e2675d2466b86fbae94567a23f9",
       "version_major": 2,
       "version_minor": 0
      },
      "text/plain": [
       "Solving(LSA):   0%|          | 0/2000 [00:00<?, ?it/s]"
      ]
     },
     "metadata": {},
     "output_type": "display_data"
    },
    {
     "data": {
      "application/vnd.jupyter.widget-view+json": {
       "model_id": "bba87a23ca004a7d9db181a70834fc7f",
       "version_major": 2,
       "version_minor": 0
      },
      "text/plain": [
       "Solving(LSA):   0%|          | 0/2000 [00:00<?, ?it/s]"
      ]
     },
     "metadata": {},
     "output_type": "display_data"
    },
    {
     "data": {
      "application/vnd.jupyter.widget-view+json": {
       "model_id": "91bf8559d66644cf8c5ffa4f574b8f25",
       "version_major": 2,
       "version_minor": 0
      },
      "text/plain": [
       "Solving(LSA):   0%|          | 0/2000 [00:00<?, ?it/s]"
      ]
     },
     "metadata": {},
     "output_type": "display_data"
    },
    {
     "data": {
      "application/vnd.jupyter.widget-view+json": {
       "model_id": "d6b832e03df34fa9ad49a7033d90300e",
       "version_major": 2,
       "version_minor": 0
      },
      "text/plain": [
       "Solving(LSA):   0%|          | 0/2000 [00:00<?, ?it/s]"
      ]
     },
     "metadata": {},
     "output_type": "display_data"
    },
    {
     "data": {
      "application/vnd.jupyter.widget-view+json": {
       "model_id": "f2d5d69468304931a4ce64bf9eee552b",
       "version_major": 2,
       "version_minor": 0
      },
      "text/plain": [
       "Solving(LSA):   0%|          | 0/2000 [00:00<?, ?it/s]"
      ]
     },
     "metadata": {},
     "output_type": "display_data"
    },
    {
     "data": {
      "application/vnd.jupyter.widget-view+json": {
       "model_id": "9637bdb2fcf848619831315d280cad26",
       "version_major": 2,
       "version_minor": 0
      },
      "text/plain": [
       "Solving(LSA):   0%|          | 0/2000 [00:00<?, ?it/s]"
      ]
     },
     "metadata": {},
     "output_type": "display_data"
    },
    {
     "data": {
      "application/vnd.jupyter.widget-view+json": {
       "model_id": "53dbfd1e90534254a46551c5896daaa7",
       "version_major": 2,
       "version_minor": 0
      },
      "text/plain": [
       "Solving(LSA):   0%|          | 0/2000 [00:00<?, ?it/s]"
      ]
     },
     "metadata": {},
     "output_type": "display_data"
    },
    {
     "data": {
      "application/vnd.jupyter.widget-view+json": {
       "model_id": "4eac2767f726478b8b78a658d6e3fcb6",
       "version_major": 2,
       "version_minor": 0
      },
      "text/plain": [
       "Solving(LSA):   0%|          | 0/2000 [00:00<?, ?it/s]"
      ]
     },
     "metadata": {},
     "output_type": "display_data"
    },
    {
     "data": {
      "application/vnd.jupyter.widget-view+json": {
       "model_id": "18f6abd6df69479693e3feaf29951ffa",
       "version_major": 2,
       "version_minor": 0
      },
      "text/plain": [
       "Solving(LSA):   0%|          | 0/2000 [00:00<?, ?it/s]"
      ]
     },
     "metadata": {},
     "output_type": "display_data"
    },
    {
     "data": {
      "application/vnd.jupyter.widget-view+json": {
       "model_id": "8aeafc22bf05457bbc21b464d8076c3e",
       "version_major": 2,
       "version_minor": 0
      },
      "text/plain": [
       "Solving(LSA):   0%|          | 0/2000 [00:00<?, ?it/s]"
      ]
     },
     "metadata": {},
     "output_type": "display_data"
    },
    {
     "data": {
      "application/vnd.jupyter.widget-view+json": {
       "model_id": "da1a91f0ed644829a544cab21d52d732",
       "version_major": 2,
       "version_minor": 0
      },
      "text/plain": [
       "Solving(LSA):   0%|          | 0/2000 [00:00<?, ?it/s]"
      ]
     },
     "metadata": {},
     "output_type": "display_data"
    },
    {
     "data": {
      "application/vnd.jupyter.widget-view+json": {
       "model_id": "829e31c542f44651b35868adeb67ab65",
       "version_major": 2,
       "version_minor": 0
      },
      "text/plain": [
       "Solving(LSA):   0%|          | 0/2000 [00:00<?, ?it/s]"
      ]
     },
     "metadata": {},
     "output_type": "display_data"
    },
    {
     "data": {
      "application/vnd.jupyter.widget-view+json": {
       "model_id": "3847f3a354a84082bbab095066af4552",
       "version_major": 2,
       "version_minor": 0
      },
      "text/plain": [
       "Solving(LSA):   0%|          | 0/2000 [00:00<?, ?it/s]"
      ]
     },
     "metadata": {},
     "output_type": "display_data"
    },
    {
     "data": {
      "application/vnd.jupyter.widget-view+json": {
       "model_id": "42e5dc25ef154b0a80fbc56062554bf2",
       "version_major": 2,
       "version_minor": 0
      },
      "text/plain": [
       "Solving(LSA):   0%|          | 0/2000 [00:00<?, ?it/s]"
      ]
     },
     "metadata": {},
     "output_type": "display_data"
    },
    {
     "data": {
      "application/vnd.jupyter.widget-view+json": {
       "model_id": "98933b8b5abd4c719d5c1ce78851dbee",
       "version_major": 2,
       "version_minor": 0
      },
      "text/plain": [
       "Solving(LSA):   0%|          | 0/2000 [00:00<?, ?it/s]"
      ]
     },
     "metadata": {},
     "output_type": "display_data"
    },
    {
     "data": {
      "application/vnd.jupyter.widget-view+json": {
       "model_id": "a131974dc46f4b329c30a79cd48aa4eb",
       "version_major": 2,
       "version_minor": 0
      },
      "text/plain": [
       "Solving(LSA):   0%|          | 0/2000 [00:00<?, ?it/s]"
      ]
     },
     "metadata": {},
     "output_type": "display_data"
    },
    {
     "data": {
      "application/vnd.jupyter.widget-view+json": {
       "model_id": "b0f0cb30eadd46dd8f2accb2d31a5a06",
       "version_major": 2,
       "version_minor": 0
      },
      "text/plain": [
       "Solving(LSA):   0%|          | 0/2000 [00:00<?, ?it/s]"
      ]
     },
     "metadata": {},
     "output_type": "display_data"
    },
    {
     "data": {
      "application/vnd.jupyter.widget-view+json": {
       "model_id": "577c37f269464954a30cb61f61343a00",
       "version_major": 2,
       "version_minor": 0
      },
      "text/plain": [
       "Solving(LSA):   0%|          | 0/2000 [00:00<?, ?it/s]"
      ]
     },
     "metadata": {},
     "output_type": "display_data"
    },
    {
     "data": {
      "application/vnd.jupyter.widget-view+json": {
       "model_id": "d957375f5e8d44c296ee5b6caec7cbe9",
       "version_major": 2,
       "version_minor": 0
      },
      "text/plain": [
       "Solving(LSA):   0%|          | 0/2000 [00:00<?, ?it/s]"
      ]
     },
     "metadata": {},
     "output_type": "display_data"
    },
    {
     "data": {
      "application/vnd.jupyter.widget-view+json": {
       "model_id": "5b56df78a89b4b959d1a98349a7bcc24",
       "version_major": 2,
       "version_minor": 0
      },
      "text/plain": [
       "Solving(LSA):   0%|          | 0/2000 [00:00<?, ?it/s]"
      ]
     },
     "metadata": {},
     "output_type": "display_data"
    },
    {
     "data": {
      "application/vnd.jupyter.widget-view+json": {
       "model_id": "602ba2a9a1034cc7961ef47605f786b0",
       "version_major": 2,
       "version_minor": 0
      },
      "text/plain": [
       "Solving(LSA):   0%|          | 0/2000 [00:00<?, ?it/s]"
      ]
     },
     "metadata": {},
     "output_type": "display_data"
    },
    {
     "data": {
      "application/vnd.jupyter.widget-view+json": {
       "model_id": "874ee73f28de421e84e2e1e84bada4a9",
       "version_major": 2,
       "version_minor": 0
      },
      "text/plain": [
       "Solving(LSA):   0%|          | 0/2000 [00:00<?, ?it/s]"
      ]
     },
     "metadata": {},
     "output_type": "display_data"
    },
    {
     "data": {
      "application/vnd.jupyter.widget-view+json": {
       "model_id": "7bb7fea8515e4910970b83075b40ac40",
       "version_major": 2,
       "version_minor": 0
      },
      "text/plain": [
       "Solving(LSA):   0%|          | 0/2000 [00:00<?, ?it/s]"
      ]
     },
     "metadata": {},
     "output_type": "display_data"
    },
    {
     "data": {
      "application/vnd.jupyter.widget-view+json": {
       "model_id": "bce66b1ab5d440539cd5e84dc94cb129",
       "version_major": 2,
       "version_minor": 0
      },
      "text/plain": [
       "Solving(LSA):   0%|          | 0/2000 [00:00<?, ?it/s]"
      ]
     },
     "metadata": {},
     "output_type": "display_data"
    },
    {
     "data": {
      "application/vnd.jupyter.widget-view+json": {
       "model_id": "7d2a4cc7d04f47df8d528251e301773c",
       "version_major": 2,
       "version_minor": 0
      },
      "text/plain": [
       "Solving(LSA):   0%|          | 0/2000 [00:00<?, ?it/s]"
      ]
     },
     "metadata": {},
     "output_type": "display_data"
    },
    {
     "data": {
      "application/vnd.jupyter.widget-view+json": {
       "model_id": "7a0b53f62a954315882a46f44eb75d94",
       "version_major": 2,
       "version_minor": 0
      },
      "text/plain": [
       "Solving(LSA):   0%|          | 0/2000 [00:00<?, ?it/s]"
      ]
     },
     "metadata": {},
     "output_type": "display_data"
    },
    {
     "data": {
      "application/vnd.jupyter.widget-view+json": {
       "model_id": "c2b85fccaff741f99bd8a4aadf2a9c06",
       "version_major": 2,
       "version_minor": 0
      },
      "text/plain": [
       "Solving(LSA):   0%|          | 0/2000 [00:00<?, ?it/s]"
      ]
     },
     "metadata": {},
     "output_type": "display_data"
    },
    {
     "data": {
      "application/vnd.jupyter.widget-view+json": {
       "model_id": "603461a9f9e944529ed258198ddb9dd3",
       "version_major": 2,
       "version_minor": 0
      },
      "text/plain": [
       "Solving(LSA):   0%|          | 0/2000 [00:00<?, ?it/s]"
      ]
     },
     "metadata": {},
     "output_type": "display_data"
    },
    {
     "data": {
      "application/vnd.jupyter.widget-view+json": {
       "model_id": "b1f87514356a49149737ffd69ad96065",
       "version_major": 2,
       "version_minor": 0
      },
      "text/plain": [
       "Solving(LSA):   0%|          | 0/2000 [00:00<?, ?it/s]"
      ]
     },
     "metadata": {},
     "output_type": "display_data"
    }
   ],
   "source": [
    "runtimes_vec = []\n",
    "success_times = 0\n",
    "for each_identity in (pbar:=tqdm(identity_list)):\n",
    "    each_isometric_matrixes = []\n",
    "    each_cs = []\n",
    "    for index in [0, 2, 5]:\n",
    "        tmpcs = ironmask.sample_codeword(dimension, alpha)\n",
    "        each_isometric_matrixes.append(ironmask.generate_secure_sketch(dataset_dict[each_identity][index], tmpcs))\n",
    "        each_cs.append(tmpcs)\n",
    "    assume_vector, b, run_times = attacker.solve_puzzle_with_n_matrix_known_places(each_isometric_matrixes, each_cs, dimension, alpha,  threshold=49, max_rtimes=2000, algorithm=\"LSA\", disable_tqdm=False, k_each_matrix=170, error_rate = error_rate * 3.0, return_runtimes = True)\n",
    "    if b is not None and (np.allclose(b, each_cs[0]) or np.allclose(b, -each_cs[0])):\n",
    "        success_times += 1\n",
    "    pbar.set_postfix({\"Success Rate\": success_times / (pbar.n + 1)})\n",
    "    runtimes_vec.append(run_times)"
   ]
  },
  {
   "cell_type": "code",
   "execution_count": null,
   "metadata": {},
   "outputs": [],
   "source": [
    "# 保存结果和success times\n",
    "import pickle\n",
    "with open(\"runtimes_vec.pickle\", \"wb\") as f:\n",
    "    pickle.dump(runtimes_vec, f)\n",
    "with open(\"success_times.pickle\", \"wb\") as f:\n",
    "    pickle.dump(success_times, f)"
   ]
  },
  {
   "cell_type": "code",
   "execution_count": null,
   "metadata": {},
   "outputs": [],
   "source": [
    "# 加载结果\n",
    "import pickle\n",
    "with open(\"runtimes_vec.pickle\", \"rb\") as f:\n",
    "    runtimes_vec = pickle.load(f)\n",
    "with open(\"success_times.pickle\", \"rb\") as f:\n",
    "    success_times = pickle.load(f)\n",
    "\n",
    "print(\"Success Rate: {:.2f}%\".format(success_times / len(identity_list) * 100))\n",
    "print(\"Average Run Times: {:.2f}\".format(np.mean(runtimes_vec)))"
   ]
  },
  {
   "cell_type": "code",
   "execution_count": null,
   "metadata": {},
   "outputs": [
    {
     "name": "stdout",
     "output_type": "stream",
     "text": [
      "The result is:  True\n"
     ]
    }
   ],
   "source": [
    "# check the result(b is whether equal to the first code word)\n",
    "print(\"The result is: \", np.allclose(b, cs[0]) or np.allclose(b, -cs[0]))"
   ]
  },
  {
   "cell_type": "markdown",
   "metadata": {},
   "source": [
    "## solving original template without preposition that sampled matrix is \"correct\""
   ]
  },
  {
   "cell_type": "code",
   "execution_count": null,
   "metadata": {},
   "outputs": [],
   "source": [
    "# toy example for small k = 2\n",
    "assume_vector, b = attacker.solve_puzzle_with_n_matrix(isometric_matrixes, dimension, alpha, threshold=49, max_rtimes=1000,\n",
    "                                                        algorithm=\"SVD\", disable_tqdm=False, k_each_matrix=1, scale=100.0)"
   ]
  },
  {
   "cell_type": "code",
   "execution_count": null,
   "metadata": {},
   "outputs": [],
   "source": [
    "# check the result(b is whether equal to the first codeword)\n",
    "print(\"The result is: \", np.allclose(b, cs[0]) or np.allclose(b, -cs[0]))"
   ]
  },
  {
   "cell_type": "code",
   "execution_count": null,
   "metadata": {},
   "outputs": [],
   "source": [
    "# toy example for small k = 2\n",
    "assume_vector, b = attacker.solve_puzzle_with_n_matrix(isometric_matrixes, dimension, alpha, threshold=49, max_rtimes=1000, algorithm=\"LSA\", disable_tqdm=False, k_each_matrix=1, scale=1000.0, error_rate=error_rate * 3.0)"
   ]
  },
  {
   "cell_type": "code",
   "execution_count": null,
   "metadata": {},
   "outputs": [],
   "source": [
    "# check the result(b is whether equal to the first codeword)\n",
    "print(\"The result is: \", np.allclose(b, cs[0]) or np.allclose(b, -cs[0]))"
   ]
  }
 ],
 "metadata": {
  "kernelspec": {
   "display_name": "intel-attack-m",
   "language": "python",
   "name": "python3"
  },
  "language_info": {
   "codemirror_mode": {
    "name": "ipython",
    "version": 3
   },
   "file_extension": ".py",
   "mimetype": "text/x-python",
   "name": "python",
   "nbconvert_exporter": "python",
   "pygments_lexer": "ipython3",
   "version": "3.10.11"
  }
 },
 "nbformat": 4,
 "nbformat_minor": 2
}
