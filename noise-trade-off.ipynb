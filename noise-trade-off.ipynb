{
 "cells": [
  {
   "cell_type": "code",
   "execution_count": 4,
   "metadata": {},
   "outputs": [],
   "source": [
    "import sample as sampler\n",
    "import ironmask\n",
    "import utils\n",
    "import numpy as np\n",
    "import math\n",
    "from tqdm.auto import tqdm"
   ]
  },
  {
   "cell_type": "code",
   "execution_count": 5,
   "metadata": {},
   "outputs": [],
   "source": [
    "def log2c_alpha(dimension, alpha):\n",
    "    result = alpha\n",
    "    for i in range(alpha):\n",
    "        result += math.log2(dimension - i) - math.log2(i+1)\n",
    "    return result    "
   ]
  },
  {
   "cell_type": "code",
   "execution_count": null,
   "metadata": {},
   "outputs": [],
   "source": [
    "import itertools\n",
    "dimension = 512\n",
    "alpha = 4\n",
    "\n",
    "# calculate the mean angle between random unit vector and its closest codeword\n",
    "\n",
    "angle_list = []\n",
    "iteration_times = 1000\n",
    "random_codeword = sampler.sample_codeword(dimension, alpha)\n",
    "nearby_templates = [random_codeword]\n",
    "for i in tqdm(range(iteration_times)):\n",
    "    tmp_matrix = utils.random_orthogonal_matrix(dimension)\n",
    "    decode_vector = ironmask.decode_codeword(tmp_matrix @ random_codeword, dimension, alpha)\n",
    "    nearby_templates.append(tmp_matrix.T @ decode_vector)"
   ]
  },
  {
   "cell_type": "code",
   "execution_count": 9,
   "metadata": {},
   "outputs": [
    {
     "name": "stderr",
     "output_type": "stream",
     "text": [
      "500500it [00:07, 64465.38it/s]"
     ]
    },
    {
     "name": "stdout",
     "output_type": "stream",
     "text": [
      "172.23767294263584\n",
      "-0.9908368615816064\n"
     ]
    },
    {
     "name": "stderr",
     "output_type": "stream",
     "text": [
      "\n"
     ]
    }
   ],
   "source": [
    "for codeword1, codeword2 in tqdm(itertools.combinations(nearby_templates, 2)):\n",
    "    angle_list.append(utils.get_angle_of_two_vectors(codeword1, codeword2))"
   ]
  },
  {
   "cell_type": "code",
   "execution_count": 22,
   "metadata": {},
   "outputs": [
    {
     "name": "stdout",
     "output_type": "stream",
     "text": [
      "86.11883647131792\n",
      "0.06768728986447002\n",
      "0.06768728986447002\n",
      "0.06698729810778066\n"
     ]
    }
   ],
   "source": [
    "mean_angle = sum(angle_list) / len(angle_list)\n",
    "print(mean_angle)\n",
    "print(math.cos(mean_angle * math.pi / 180))\n",
    "print(math.cos(mean_angle * math.pi / 180))\n",
    "print(math.cos(75 * math.pi / 180) ** 2)"
   ]
  },
  {
   "cell_type": "code",
   "execution_count": 6,
   "metadata": {},
   "outputs": [
    {
     "name": "stdout",
     "output_type": "stream",
     "text": [
      "73.49183242313082\n",
      "0.2841520226335909\n",
      "56.30960586356206\n"
     ]
    }
   ],
   "source": [
    "dimension = 512\n",
    "alpha = 5\n",
    "\n",
    "# calculate the mean angle between random unit vector and its closest codeword\n",
    "\n",
    "angle_list = []\n",
    "iteration_times = 1000\n",
    "for i in range(iteration_times):\n",
    "    random_vector = sampler.random_unit_vector(dimension)\n",
    "    decode_vector = ironmask.decode_codeword(random_vector, dimension, alpha)\n",
    "    angle = utils.get_angle_of_two_vectors(random_vector, decode_vector)\n",
    "    angle_list.append(angle)\n",
    "\n",
    "mean_angle = sum(angle_list) / iteration_times\n",
    "print(mean_angle)\n",
    "print(math.cos(mean_angle * math.pi / 180))\n",
    "max_angle = math.acos(math.sqrt(math.cos(mean_angle * math.pi / 180) / math.cos(22.56 * math.pi / 180)))\n",
    "print(max_angle * 180 / math.pi)"
   ]
  },
  {
   "cell_type": "code",
   "execution_count": 114,
   "metadata": {},
   "outputs": [
    {
     "name": "stdout",
     "output_type": "stream",
     "text": [
      "56.322856701641854\n",
      "0.5545124962591622\n",
      "0.9998\n"
     ]
    }
   ],
   "source": [
    "angle_list = []\n",
    "iteration_times = 10000\n",
    "success_times = 0\n",
    "for i in range(iteration_times):\n",
    "    random_vector = sampler.sample_codeword(dimension, alpha)\n",
    "    noise_vector = sampler._generate_random_unit_vector_nearby(random_vector, math.tan(max_angle))\n",
    "    decode_vector = ironmask.decode_codeword(noise_vector, dimension, alpha)\n",
    "    if utils.get_angle_of_two_vectors(random_vector, decode_vector) < 0.1:\n",
    "        success_times += 1\n",
    "inner_angle = utils.get_angle_of_two_vectors(random_vector, noise_vector)\n",
    "print(inner_angle)\n",
    "print(math.cos(inner_angle  * math.pi / 180))\n",
    "print(success_times / iteration_times)"
   ]
  },
  {
   "cell_type": "code",
   "execution_count": 112,
   "metadata": {},
   "outputs": [
    {
     "name": "stdout",
     "output_type": "stream",
     "text": [
      "52.158562333387536\n",
      "41.41812016314853\n"
     ]
    }
   ],
   "source": [
    "theta_a = math.acos(math.cos(mean_angle * math.pi / 180) / math.cos(inner_angle * math.pi / 180))\n",
    "print(theta_a * 180 / math.pi)\n",
    "theta_i = math.acos(math.cos(inner_angle * math.pi / 180) / math.cos(theta_a))\n",
    "print(theta_i * 180 / math.pi)"
   ]
  },
  {
   "cell_type": "code",
   "execution_count": 115,
   "metadata": {},
   "outputs": [
    {
     "name": "stdout",
     "output_type": "stream",
     "text": [
      "log_2:  43.06484885503582\n"
     ]
    }
   ],
   "source": [
    "tmp_result = log2c_alpha(dimension, alpha)\n",
    "print(\"log_2: \", tmp_result)"
   ]
  },
  {
   "cell_type": "code",
   "execution_count": 123,
   "metadata": {},
   "outputs": [
    {
     "name": "stdout",
     "output_type": "stream",
     "text": [
      "elapsed time: {} 2.163334846496582\n"
     ]
    }
   ],
   "source": [
    "import time \n",
    "import ironmask\n",
    "iteration_times = 100000\n",
    "start = time.time()\n",
    "\n",
    "random_vector = sampler.random_unit_vector(dimension)\n",
    "matrix = utils.random_orthogonal_matrix(dimension)\n",
    "\n",
    "for _ in range(iteration_times):\n",
    "    tmpw = matrix @ random_vector\n",
    "    codeword = ironmask.decode_codeword(tmpw, dimension, alpha)\n",
    "\n",
    "end = time.time()\n",
    "\n",
    "print(\"elapsed time: {}\", end - start)"
   ]
  },
  {
   "cell_type": "code",
   "execution_count": 1,
   "metadata": {},
   "outputs": [
    {
     "data": {
      "text/plain": [
       "10350392291.22114"
      ]
     },
     "execution_count": 1,
     "metadata": {},
     "output_type": "execute_result"
    }
   ],
   "source": [
    "2.16 / 32 * 2 ** 83 / 2 / 1000 / 1000 / 60/ 60 / 24/ 365"
   ]
  },
  {
   "cell_type": "code",
   "execution_count": 104,
   "metadata": {},
   "outputs": [],
   "source": [
    "# 99 % 的线\n",
    "table_99_alpha_theta = [\n",
    "    [5, 21.59],\n",
    "    [4, 34.978],\n",
    "]\n",
    "\n",
    "# 95 % 的线\n",
    "table_95_alpha_theta = [\n",
    "    [7, 18.146],\n",
    "    [6, 28.155],\n",
    "    [5, 36.86],\n",
    "    [4, 45.329],\n",
    "]\n",
    "\n",
    "# 90 % 的线\n",
    "table_90_alpha_theta = [\n",
    "    [9, 12.81],\n",
    "    [8, 21.0],\n",
    "    [7, 27.9],\n",
    "    [6, 36.18],\n",
    "    [5, 42.13],\n",
    "    [4, 49.1],\n",
    "]\n",
    "\n",
    "# 30 % 的线\n",
    "table_30_alpha_theta = [\n",
    "    [16, 23.3],\n",
    "    [15, 25.8],\n",
    "    [14, 28.97],\n",
    "    [13, 32.02],\n",
    "    [12, 35.01],\n",
    "    [11, 37.59],\n",
    "    [10, 41.21],\n",
    "    [9, 44.2],\n",
    "    [8, 48.4],\n",
    "    [7, 52.16],\n",
    "    [6, 56.16],\n",
    "    [5, 60.55],\n",
    "    [4, 65.4],\n",
    "]\n",
    "\n",
    "# 10 % 的线\n",
    "table_10_alpha_theta = [\n",
    "    [16, 33.6],\n",
    "    [15, 35.50],\n",
    "    [14, 38.06],\n",
    "    [13, 40.55],\n",
    "    [12, 43.2],\n",
    "    [11, 45.616],\n",
    "    [10, 48.527],\n",
    "    [9, 51.459],\n",
    "    [8, 54.7],\n",
    "    [7, 58.118],\n",
    "    [6, 61.55],\n",
    "    [5, 65.418],\n",
    "    [4, 69.3],\n",
    "]"
   ]
  },
  {
   "cell_type": "code",
   "execution_count": 106,
   "metadata": {},
   "outputs": [
    {
     "data": {
      "image/png": "[encoded data removed]",
      "text/plain": [
       "<Figure size 640x480 with 1 Axes>"
      ]
     },
     "metadata": {},
     "output_type": "display_data"
    }
   ],
   "source": [
    "import matplotlib.pyplot as plt\n",
    "\n",
    "plt.plot([pair[0] for pair in table_99_alpha_theta], [pair[1] for pair in table_99_alpha_theta], label='p_r = 99%')\n",
    "plt.plot([pair[0] for pair in table_95_alpha_theta], [pair[1] for pair in table_95_alpha_theta], label='p_r = 95%')\n",
    "plt.plot([pair[0] for pair in table_90_alpha_theta], [pair[1] for pair in table_90_alpha_theta], label='p_r = 90%')\n",
    "plt.plot([pair[0] for pair in table_30_alpha_theta], [pair[1] for pair in table_30_alpha_theta], label='p_r = 30%')\n",
    "plt.plot([pair[0] for pair in table_10_alpha_theta], [pair[1] for pair in table_10_alpha_theta], label='p_r = 10%')\n",
    "plt.xlabel('alpha')\n",
    "plt.ylabel('Initail Noise')\n",
    "plt.title('Relationship of alpha and initial noise')\n",
    "plt.legend()\n",
    "\n",
    "# 保存图片，以pdf格式保存, dpi最大\n",
    "plt.savefig('Relationship_alpha_noise.pdf', format='pdf', dpi=300, bbox_inches='tight')\n",
    "plt.show()"
   ]
  }
 ],
 "metadata": {
  "kernelspec": {
   "display_name": "insightface",
   "language": "python",
   "name": "python3"
  },
  "language_info": {
   "codemirror_mode": {
    "name": "ipython",
    "version": 3
   },
   "file_extension": ".py",
   "mimetype": "text/x-python",
   "name": "python",
   "nbconvert_exporter": "python",
   "pygments_lexer": "ipython3",
   "version": "3.11.4"
  }
 },
 "nbformat": 4,
 "nbformat_minor": 2
}
